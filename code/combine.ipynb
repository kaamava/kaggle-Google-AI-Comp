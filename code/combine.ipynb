{
 "cells": [
  {
   "cell_type": "code",
   "execution_count": 2,
   "id": "d8e44b33",
   "metadata": {},
   "outputs": [],
   "source": [
    "import pandas as pd\n",
    "s1 = pd.read_csv('inference_tile_xla.csv')\n",
    "s2 = pd.read_csv('inference_layout_xla_random.csv')\n",
    "s3 = pd.read_csv('inference_layout_xla_default.csv')\n",
    "s4 = pd.read_csv('inference_layout_nlp_random.csv')\n",
    "s5 = pd.read_csv('inference_layout_nlp_default.csv')\n",
    "sss = pd.concat([s1,s2,s3,s4,s5]).reset_index(drop=True)\n",
    "sss.to_csv('submission.csv',index=False)"
   ]
  },
  {
   "cell_type": "code",
   "execution_count": null,
   "id": "a49fcaee",
   "metadata": {},
   "outputs": [],
   "source": []
  },
  {
   "cell_type": "code",
   "execution_count": null,
   "id": "16622b81",
   "metadata": {},
   "outputs": [],
   "source": []
  }
 ],
 "metadata": {
  "kernelspec": {
   "display_name": "Python 3 (ipykernel)",
   "language": "python",
   "name": "python3"
  },
  "language_info": {
   "codemirror_mode": {
    "name": "ipython",
    "version": 3
   },
   "file_extension": ".py",
   "mimetype": "text/x-python",
   "name": "python",
   "nbconvert_exporter": "python",
   "pygments_lexer": "ipython3",
   "version": "3.9.13"
  }
 },
 "nbformat": 4,
 "nbformat_minor": 5
}
