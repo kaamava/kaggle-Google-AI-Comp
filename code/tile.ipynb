{
 "cells": [
  {
   "cell_type": "code",
   "execution_count": 1,
   "id": "07ed47a7",
   "metadata": {
    "_kg_hide-output": true,
    "execution": {
     "iopub.execute_input": "2023-09-10T03:31:51.103210Z",
     "iopub.status.busy": "2023-09-10T03:31:51.102767Z",
     "iopub.status.idle": "2023-09-10T03:43:25.990980Z",
     "shell.execute_reply": "2023-09-10T03:43:25.989711Z"
    },
    "papermill": {
     "duration": 694.89871,
     "end_time": "2023-09-10T03:43:25.993505",
     "exception": false,
     "start_time": "2023-09-10T03:31:51.094795",
     "status": "completed"
    },
    "tags": []
   },
   "outputs": [
    {
     "name": "stdout",
     "output_type": "stream",
     "text": [
      "Collecting torch-geometric\r\n",
      "  Downloading torch_geometric-2.3.1.tar.gz (661 kB)\r\n",
      "\u001b[2K     \u001b[90m━━━━━━━━━━━━━━━━━━━━━━━━━━━━━━━━━━━━━━\u001b[0m \u001b[32m661.6/661.6 kB\u001b[0m \u001b[31m13.4 MB/s\u001b[0m eta \u001b[36m0:00:00\u001b[0m\r\n",
      "\u001b[?25h  Installing build dependencies ... \u001b[?25l-\b \b\\\b \b|\b \b/\b \bdone\r\n",
      "\u001b[?25h  Getting requirements to build wheel ... \u001b[?25l-\b \bdone\r\n",
      "\u001b[?25h  Preparing metadata (pyproject.toml) ... \u001b[?25l-\b \bdone\r\n",
      "\u001b[?25hCollecting torch-scatter\r\n",
      "  Downloading torch_scatter-2.1.1.tar.gz (107 kB)\r\n",
      "\u001b[2K     \u001b[90m━━━━━━━━━━━━━━━━━━━━━━━━━━━━━━━━━━━━━━\u001b[0m \u001b[32m107.6/107.6 kB\u001b[0m \u001b[31m10.6 MB/s\u001b[0m eta \u001b[36m0:00:00\u001b[0m\r\n",
      "\u001b[?25h  Preparing metadata (setup.py) ... \u001b[?25l-\b \b\\\b \bdone\r\n",
      "\u001b[?25hRequirement already satisfied: tqdm in /opt/conda/lib/python3.10/site-packages (from torch-geometric) (4.65.0)\r\n",
      "Requirement already satisfied: numpy in /opt/conda/lib/python3.10/site-packages (from torch-geometric) (1.23.5)\r\n",
      "Requirement already satisfied: scipy in /opt/conda/lib/python3.10/site-packages (from torch-geometric) (1.11.1)\r\n",
      "Requirement already satisfied: jinja2 in /opt/conda/lib/python3.10/site-packages (from torch-geometric) (3.1.2)\r\n",
      "Requirement already satisfied: requests in /opt/conda/lib/python3.10/site-packages (from torch-geometric) (2.31.0)\r\n",
      "Requirement already satisfied: pyparsing in /opt/conda/lib/python3.10/site-packages (from torch-geometric) (3.0.9)\r\n",
      "Requirement already satisfied: scikit-learn in /opt/conda/lib/python3.10/site-packages (from torch-geometric) (1.2.2)\r\n",
      "Requirement already satisfied: psutil>=5.8.0 in /opt/conda/lib/python3.10/site-packages (from torch-geometric) (5.9.3)\r\n",
      "Requirement already satisfied: MarkupSafe>=2.0 in /opt/conda/lib/python3.10/site-packages (from jinja2->torch-geometric) (2.1.3)\r\n",
      "Requirement already satisfied: charset-normalizer<4,>=2 in /opt/conda/lib/python3.10/site-packages (from requests->torch-geometric) (3.1.0)\r\n",
      "Requirement already satisfied: idna<4,>=2.5 in /opt/conda/lib/python3.10/site-packages (from requests->torch-geometric) (3.4)\r\n",
      "Requirement already satisfied: urllib3<3,>=1.21.1 in /opt/conda/lib/python3.10/site-packages (from requests->torch-geometric) (1.26.15)\r\n",
      "Requirement already satisfied: certifi>=2017.4.17 in /opt/conda/lib/python3.10/site-packages (from requests->torch-geometric) (2023.5.7)\r\n",
      "Requirement already satisfied: joblib>=1.1.1 in /opt/conda/lib/python3.10/site-packages (from scikit-learn->torch-geometric) (1.2.0)\r\n",
      "Requirement already satisfied: threadpoolctl>=2.0.0 in /opt/conda/lib/python3.10/site-packages (from scikit-learn->torch-geometric) (3.1.0)\r\n",
      "Building wheels for collected packages: torch-geometric, torch-scatter\r\n",
      "  Building wheel for torch-geometric (pyproject.toml) ... \u001b[?25l-\b \b\\\b \b|\b \b/\b \b-\b \b\\\b \bdone\r\n",
      "\u001b[?25h  Created wheel for torch-geometric: filename=torch_geometric-2.3.1-py3-none-any.whl size=910454 sha256=7f07beece81c2093b7aa3c71d13bc6f2558e3946c9fcbca370b7c2698d0ced8a\r\n",
      "  Stored in directory: /root/.cache/pip/wheels/ac/dc/30/e2874821ff308ee67dcd7a66dbde912411e19e35a1addda028\r\n",
      "  Building wheel for torch-scatter (setup.py) ... \u001b[?25l-\b \b\\\b \b|\b \b/\b \b-\b \b\\\b \b|\b \b/\b \b-\b \b\\\b \b|\b \b/\b \b-\b \b\\\b \b|\b \b/\b \b-\b \b\\\b \b|\b \b/\b \b-\b \b\\\b \b|\b \b/\b \b-\b \b\\\b \b|\b \b/\b \b-\b \b\\\b \b|\b \b/\b \b-\b \bdone\r\n",
      "\u001b[?25h  Created wheel for torch-scatter: filename=torch_scatter-2.1.1-cp310-cp310-linux_x86_64.whl size=3751354 sha256=bca404288b5cd7be84d2b771b06d9c6f694f3d17dbcae558d5626d3ed9e789d7\r\n",
      "  Stored in directory: /root/.cache/pip/wheels/ef/67/58/6566a3b61c6ec0f2ca0c2c324cd035ef2955601f0fb3197d5f\r\n",
      "Successfully built torch-geometric torch-scatter\r\n",
      "Installing collected packages: torch-scatter, torch-geometric\r\n",
      "Successfully installed torch-geometric-2.3.1 torch-scatter-2.1.1\r\n"
     ]
    }
   ],
   "source": [
    "\n",
    "!pip install torch-geometric torch-scatter\n"
   ]
  },
  {
   "cell_type": "code",
   "execution_count": 2,
   "id": "57bec6f0",
   "metadata": {
    "execution": {
     "iopub.execute_input": "2023-09-10T03:43:26.016928Z",
     "iopub.status.busy": "2023-09-10T03:43:26.015327Z",
     "iopub.status.idle": "2023-09-10T03:43:30.343772Z",
     "shell.execute_reply": "2023-09-10T03:43:30.342767Z"
    },
    "papermill": {
     "duration": 4.342654,
     "end_time": "2023-09-10T03:43:30.346570",
     "exception": false,
     "start_time": "2023-09-10T03:43:26.003916",
     "status": "completed"
    },
    "tags": []
   },
   "outputs": [
    {
     "name": "stderr",
     "output_type": "stream",
     "text": [
      "/opt/conda/lib/python3.10/site-packages/scipy/__init__.py:146: UserWarning: A NumPy version >=1.16.5 and <1.23.0 is required for this version of SciPy (detected version 1.23.5\n",
      "  warnings.warn(f\"A NumPy version >={np_minversion} and <{np_maxversion}\"\n"
     ]
    }
   ],
   "source": [
    "\n",
    "import numpy as np  # 🧮 NumPy for numerical computations\n",
    "import pandas as pd  # 🐼 Pandas for data manipulation\n",
    "import os  # 📂 Operating system-related functions\n",
    "from tqdm import tqdm  # 🔄 tqdm for progress bar visualization\n",
    "\n",
    "import sklearn  # 🧬 scikit-learn for machine learning utilities\n",
    "import sklearn.model_selection  # 📊 scikit-learn's model selection module\n",
    "import torch  # 🔥 PyTorch for deep learning\n",
    "from torch import nn  # 🧠 PyTorch's neural network module\n",
    "from torch import Tensor  # 🚀 PyTorch's Tensor data type\n",
    "from torch_geometric.nn import GCNConv  # 📊 Graph Convolutional Network layer\n",
    "from torch_geometric.datasets import Planetoid  # 🌍 PyTorch Geometric dataset for graph data\n",
    "from torch.utils.data import DataLoader, Dataset  # 📦 PyTorch data loading utilities\n",
    "from timm.scheduler import CosineLRScheduler  # 📈 Learning rate scheduler\n",
    "import matplotlib.pyplot as plt  # 📊 Matplotlib for plotting\n",
    "\n",
    "device = 'cuda' if torch.cuda.is_available() else 'cpu'  # ⚙️ Determine if CUDA (GPU) is available\n"
   ]
  },
  {
   "cell_type": "code",
   "execution_count": 3,
   "id": "bc282d31",
   "metadata": {
    "execution": {
     "iopub.execute_input": "2023-09-10T03:43:30.368787Z",
     "iopub.status.busy": "2023-09-10T03:43:30.367987Z",
     "iopub.status.idle": "2023-09-10T03:44:23.964337Z",
     "shell.execute_reply": "2023-09-10T03:44:23.963330Z"
    },
    "papermill": {
     "duration": 53.610402,
     "end_time": "2023-09-10T03:44:23.967407",
     "exception": false,
     "start_time": "2023-09-10T03:43:30.357005",
     "status": "completed"
    },
    "tags": []
   },
   "outputs": [],
   "source": [
    "# 📁 Define a Function to Load DataFrames\n",
    "# This function loads data stored in different splits (train, valid, test) from a specified directory.\n",
    "# It reads files in the directory, extracts data using NumPy, and organizes it into DataFrames.\n",
    "\n",
    "def load_df(directory):\n",
    "    splits = [\"train\", \"valid\", \"test\"]  # 🔄 List of data splits\n",
    "    dfs = dict()  # 📊 Dictionary to store DataFrames for each split\n",
    "    \n",
    "    for split in splits:\n",
    "        path = os.path.join(directory, split)  # 📂 Define the path to the split's directory\n",
    "        files = os.listdir(path)  # 🗂 Get a list of files in the split's directory\n",
    "        list_df = []  # 📄 List to store data dictionaries\n",
    "        \n",
    "        for file in files:\n",
    "            d = dict(np.load(os.path.join(path, file)))  # 📦 Load data using NumPy\n",
    "            d['file'] = file  # 📄 Include the file name in the data dictionary\n",
    "            list_df.append(d)  # 🧾 Append the data dictionary to the list\n",
    "        dfs[split] = pd.DataFrame.from_dict(list_df)  # 🐼 Create a DataFrame from the list of data dictionaries and store it in the dictionary\n",
    "    return dfs\n",
    "\n",
    "# 📄 Load data using the defined function and store it in the 'tile_xla' variable\n",
    "tile_xla = load_df(\"/kaggle/input/predict-ai-model-runtime/npz_all/npz/tile/xla/\")\n"
   ]
  },
  {
   "cell_type": "markdown",
   "id": "95e5ec1b",
   "metadata": {
    "papermill": {
     "duration": 0.011638,
     "end_time": "2023-09-10T03:44:23.991338",
     "exception": false,
     "start_time": "2023-09-10T03:44:23.979700",
     "status": "completed"
    },
    "tags": []
   },
   "source": [
    "# 📦 Define Dataset and Model"
   ]
  },
  {
   "cell_type": "code",
   "execution_count": 4,
   "id": "7d0ab3a5",
   "metadata": {
    "execution": {
     "iopub.execute_input": "2023-09-10T03:44:24.016789Z",
     "iopub.status.busy": "2023-09-10T03:44:24.016444Z",
     "iopub.status.idle": "2023-09-10T03:44:24.026873Z",
     "shell.execute_reply": "2023-09-10T03:44:24.025691Z"
    },
    "papermill": {
     "duration": 0.026627,
     "end_time": "2023-09-10T03:44:24.029791",
     "exception": false,
     "start_time": "2023-09-10T03:44:24.003164",
     "status": "completed"
    },
    "tags": []
   },
   "outputs": [],
   "source": [
    "# 📦 Define Custom Dataset Class\n",
    "# This class, 'TileDataset', is a custom dataset class for our machine learning task.\n",
    "# It inherits from the PyTorch 'Dataset' class and implements the necessary methods (__init__, __len__, and __getitem__).\n",
    "\n",
    "class TileDataset(Dataset):\n",
    "    def __init__(self, df):\n",
    "        self.df = df  # 💼 Initialize the dataset with a DataFrame containing the data\n",
    "\n",
    "    def __len__(self):\n",
    "        return len(self.df)  # 🔢 Define the length of the dataset, which is the number of rows in the DataFrame\n",
    "\n",
    "    def __getitem__(self, idx):\n",
    "        row = self.df.iloc[idx]  # 📄 Get a specific row from the DataFrame based on the provided index\n",
    "        config_feat = torch.tensor(row['config_feat'].astype(np.float32))  # 🧮 Convert and store 'config_feat' as a PyTorch tensor\n",
    "        node_feat = torch.tensor(row['node_feat'].astype(np.float32))  # 🧮 Convert and store 'node_feat' as a PyTorch tensor\n",
    "        node_opcode = torch.tensor(row['node_opcode'].astype(np.int32))  # 🧮 Convert and store 'node_opcode' as a PyTorch tensor\n",
    "        edge_index = torch.tensor(np.swapaxes(row['edge_index'],0,1).astype(np.int32))  # 🧮 Convert and store 'edge_index' as a PyTorch tensor with axis swapping\n",
    "        target = (row['config_runtime'] / (row['config_runtime_normalizers'] + 1e-5)).astype(np.float32)  # 📈 Calculate and store the target value with preprocessing\n",
    "        # 📊 Min-max scale the target value to ensure it's within a specific range (standardization)\n",
    "        target = (target - np.mean(target)) / (np.std(target) + 1e-5)\n",
    "        target = torch.tensor(target)  # 🧮 Convert and store the target as a PyTorch tensor\n",
    "        return config_feat, node_feat, node_opcode, edge_index, target  # 🔁 Return the data and target for a specific sample\n",
    "\n",
    "# This class defines the structure of our custom dataset, converting and preprocessing data as necessary for training and evaluation.\n",
    "# The relevant emojis provide a visual context for each part of the code.\n"
   ]
  },
  {
   "cell_type": "code",
   "execution_count": 5,
   "id": "b61ef3ac",
   "metadata": {
    "execution": {
     "iopub.execute_input": "2023-09-10T03:44:24.054128Z",
     "iopub.status.busy": "2023-09-10T03:44:24.053834Z",
     "iopub.status.idle": "2023-09-10T03:44:27.026365Z",
     "shell.execute_reply": "2023-09-10T03:44:27.025387Z"
    },
    "papermill": {
     "duration": 2.987564,
     "end_time": "2023-09-10T03:44:27.028863",
     "exception": false,
     "start_time": "2023-09-10T03:44:24.041299",
     "status": "completed"
    },
    "tags": []
   },
   "outputs": [],
   "source": [
    "# 🧠 Define Simple Neural Network Model\n",
    "# In this cell, we define a simple neural network model named 'SimpleModel'.\n",
    "# This model takes input data with specified dimensions and passes it through convolutional and dense layers.\n",
    "\n",
    "class SimpleModel(torch.nn.Module):\n",
    "    def __init__(self, hidden_channels, graph_feats, hidden_dim):\n",
    "        super().__init__()  # 🧬 Initialize the parent class 'torch.nn.Module'\n",
    "        \n",
    "        op_embedding_dim = 4  # I choose 4-dimensional embedding\n",
    "        self.embedding = torch.nn.Embedding(120,  # 120 different op-codes\n",
    "                                            op_embedding_dim,\n",
    "                                           )\n",
    "        assert len(hidden_channels) > 0\n",
    "        in_channels = op_embedding_dim + 140\n",
    "        self.convs = torch.nn.ModuleList()\n",
    "        last_dim = hidden_channels[0]\n",
    "        \n",
    "        # Create a sequence of Graph Convolutional Network (GCN) layers\n",
    "        self.convs.append(GCNConv(in_channels, hidden_channels[0]))\n",
    "        for i in range(len(hidden_channels) - 1):\n",
    "            self.convs.append(GCNConv(hidden_channels[i], hidden_channels[i+1]))\n",
    "            last_dim = hidden_channels[i+1]\n",
    "        self.convs.append(GCNConv(last_dim, graph_feats))\n",
    "        \n",
    "        # Define a sequential dense neural network\n",
    "        self.dense = torch.nn.Sequential(nn.Linear(graph_feats + 24, 64),\n",
    "                                         nn.ReLU(),\n",
    "                                         nn.Linear(64, 64),\n",
    "                                         nn.ReLU(),\n",
    "                                         nn.Linear(64, 1),\n",
    "                                        )\n",
    "\n",
    "    def forward(self, x_cfg: Tensor, x_feat: Tensor, x_op: Tensor, edge_index: Tensor) -> Tensor:\n",
    "        \n",
    "        # Get graph features\n",
    "        x = torch.cat([x_feat, self.embedding(x_op)], dim=1)  # 📊 Concatenate input features with opcode embeddings\n",
    "        \n",
    "        # Pass data through convolutional layers\n",
    "        for conv in self.convs:\n",
    "            x = conv(x, edge_index).relu()\n",
    "        \n",
    "        # Get 1D graph embedding using average pooling\n",
    "        x_graph = torch.mean(x, 0)\n",
    "        \n",
    "        # Combine graph data with config data\n",
    "        x = torch.cat([x_cfg, x_graph.repeat((len(x_cfg), 1))], axis=1)  # 🔄 Concatenate config data with repeated graph embeddings\n",
    "        \n",
    "        # Pass the combined data through the dense neural network\n",
    "        x = torch.flatten(self.dense(x))\n",
    "        \n",
    "        # Standardize the output\n",
    "        x = (x - torch.mean(x)) / (torch.std(x) + 1e-5)\n",
    "        return x\n",
    "\n",
    "# Create an instance of the 'SimpleModel' and move it to the specified device (CPU or GPU)\n",
    "model = SimpleModel(hidden_channels=[16, 32, 16, 48], graph_feats=64, hidden_dim=64).to(device)\n"
   ]
  },
  {
   "cell_type": "markdown",
   "id": "ed549904",
   "metadata": {
    "papermill": {
     "duration": 0.010193,
     "end_time": "2023-09-10T03:44:27.049535",
     "exception": false,
     "start_time": "2023-09-10T03:44:27.039342",
     "status": "completed"
    },
    "tags": []
   },
   "source": [
    "# 🚂 Train  Epoch"
   ]
  },
  {
   "cell_type": "code",
   "execution_count": 6,
   "id": "5ac1fccc",
   "metadata": {
    "execution": {
     "iopub.execute_input": "2023-09-10T03:44:27.071754Z",
     "iopub.status.busy": "2023-09-10T03:44:27.071435Z",
     "iopub.status.idle": "2023-09-10T03:44:27.080179Z",
     "shell.execute_reply": "2023-09-10T03:44:27.079297Z"
    },
    "papermill": {
     "duration": 0.02215,
     "end_time": "2023-09-10T03:44:27.082144",
     "exception": false,
     "start_time": "2023-09-10T03:44:27.059994",
     "status": "completed"
    },
    "tags": []
   },
   "outputs": [],
   "source": [
    "# 📊 Concatenate DataFrames\n",
    "# In this cell, we concatenate DataFrames 'train' and 'valid' from the 'tile_xla' dictionary along the row axis.\n",
    "# We then reset the index of the resulting DataFrame for consistent indexing.\n",
    "\n",
    "# Concatenate 'train' and 'valid' DataFrames along the row axis and reset the index\n",
    "df = pd.concat((tile_xla[\"train\"], tile_xla[\"valid\"]), axis=0).reset_index(drop=True)\n",
    "\n",
    "# This operation combines the training and validation data for further processing, ensuring a unified DataFrame.\n"
   ]
  },
  {
   "cell_type": "code",
   "execution_count": 7,
   "id": "a5fd8569",
   "metadata": {
    "execution": {
     "iopub.execute_input": "2023-09-10T03:44:27.104433Z",
     "iopub.status.busy": "2023-09-10T03:44:27.104129Z",
     "iopub.status.idle": "2023-09-10T10:53:52.929108Z",
     "shell.execute_reply": "2023-09-10T10:53:52.927943Z"
    },
    "papermill": {
     "duration": 25765.839406,
     "end_time": "2023-09-10T10:53:52.931783",
     "exception": false,
     "start_time": "2023-09-10T03:44:27.092377",
     "status": "completed"
    },
    "tags": []
   },
   "outputs": [
    {
     "name": "stderr",
     "output_type": "stream",
     "text": [
      "                                                    \r"
     ]
    },
    {
     "name": "stdout",
     "output_type": "stream",
     "text": [
      "fold 0 epoch 0, comp_score = 0.611, mean_score = 0.020,\n"
     ]
    },
    {
     "name": "stderr",
     "output_type": "stream",
     "text": [
      "                                                    \r"
     ]
    },
    {
     "name": "stdout",
     "output_type": "stream",
     "text": [
      "fold 0 epoch 1, comp_score = 0.602, mean_score = 0.028,\n"
     ]
    },
    {
     "name": "stderr",
     "output_type": "stream",
     "text": [
      "                                                    \r"
     ]
    },
    {
     "name": "stdout",
     "output_type": "stream",
     "text": [
      "fold 0 epoch 2, comp_score = 0.757, mean_score = 0.205,\n"
     ]
    },
    {
     "name": "stderr",
     "output_type": "stream",
     "text": [
      "                                                    \r"
     ]
    },
    {
     "name": "stdout",
     "output_type": "stream",
     "text": [
      "fold 0 epoch 3, comp_score = 0.649, mean_score = 0.113,\n"
     ]
    },
    {
     "name": "stderr",
     "output_type": "stream",
     "text": [
      "                                                    \r"
     ]
    },
    {
     "name": "stdout",
     "output_type": "stream",
     "text": [
      "fold 0 epoch 4, comp_score = 0.837, mean_score = 0.648,\n"
     ]
    },
    {
     "name": "stderr",
     "output_type": "stream",
     "text": [
      "                                                    \r"
     ]
    },
    {
     "name": "stdout",
     "output_type": "stream",
     "text": [
      "fold 0 epoch 5, comp_score = 0.654, mean_score = 0.365,\n"
     ]
    },
    {
     "name": "stderr",
     "output_type": "stream",
     "text": [
      "                                                    \r"
     ]
    },
    {
     "name": "stdout",
     "output_type": "stream",
     "text": [
      "fold 0 epoch 6, comp_score = 0.824, mean_score = 0.664,\n"
     ]
    },
    {
     "name": "stderr",
     "output_type": "stream",
     "text": [
      "                                                    \r"
     ]
    },
    {
     "name": "stdout",
     "output_type": "stream",
     "text": [
      "fold 0 epoch 7, comp_score = 0.889, mean_score = 0.769,\n"
     ]
    },
    {
     "name": "stderr",
     "output_type": "stream",
     "text": [
      "                                                    \r"
     ]
    },
    {
     "name": "stdout",
     "output_type": "stream",
     "text": [
      "fold 0 epoch 8, comp_score = 0.919, mean_score = 0.826,\n"
     ]
    },
    {
     "name": "stderr",
     "output_type": "stream",
     "text": [
      "                                                    \r"
     ]
    },
    {
     "name": "stdout",
     "output_type": "stream",
     "text": [
      "fold 0 epoch 9, comp_score = 0.903, mean_score = 0.788,\n"
     ]
    },
    {
     "name": "stderr",
     "output_type": "stream",
     "text": [
      "                                                    \r"
     ]
    },
    {
     "name": "stdout",
     "output_type": "stream",
     "text": [
      "fold 0 epoch 10, comp_score = 0.933, mean_score = 0.849,\n"
     ]
    },
    {
     "name": "stderr",
     "output_type": "stream",
     "text": [
      "                                                    \r"
     ]
    },
    {
     "name": "stdout",
     "output_type": "stream",
     "text": [
      "fold 0 epoch 11, comp_score = 0.929, mean_score = 0.838,\n"
     ]
    },
    {
     "name": "stderr",
     "output_type": "stream",
     "text": [
      "                                                    \r"
     ]
    },
    {
     "name": "stdout",
     "output_type": "stream",
     "text": [
      "fold 0 epoch 12, comp_score = 0.929, mean_score = 0.850,\n"
     ]
    },
    {
     "name": "stderr",
     "output_type": "stream",
     "text": [
      "                                                    \r"
     ]
    },
    {
     "name": "stdout",
     "output_type": "stream",
     "text": [
      "fold 0 epoch 13, comp_score = 0.928, mean_score = 0.841,\n"
     ]
    },
    {
     "name": "stderr",
     "output_type": "stream",
     "text": [
      "                                                    \r"
     ]
    },
    {
     "name": "stdout",
     "output_type": "stream",
     "text": [
      "fold 0 epoch 14, comp_score = 0.931, mean_score = 0.839,\n"
     ]
    },
    {
     "name": "stderr",
     "output_type": "stream",
     "text": [
      "                                                    \r"
     ]
    },
    {
     "name": "stdout",
     "output_type": "stream",
     "text": [
      "fold 0 epoch 15, comp_score = 0.927, mean_score = 0.835,\n"
     ]
    },
    {
     "name": "stderr",
     "output_type": "stream",
     "text": [
      "                                                    \r"
     ]
    },
    {
     "name": "stdout",
     "output_type": "stream",
     "text": [
      "fold 0 epoch 16, comp_score = 0.923, mean_score = 0.836,\n"
     ]
    },
    {
     "name": "stderr",
     "output_type": "stream",
     "text": [
      "                                                    \r"
     ]
    },
    {
     "name": "stdout",
     "output_type": "stream",
     "text": [
      "fold 0 epoch 17, comp_score = 0.927, mean_score = 0.837,\n"
     ]
    },
    {
     "name": "stderr",
     "output_type": "stream",
     "text": [
      "                                                    \r"
     ]
    },
    {
     "name": "stdout",
     "output_type": "stream",
     "text": [
      "fold 0 epoch 18, comp_score = 0.925, mean_score = 0.834,\n"
     ]
    },
    {
     "name": "stderr",
     "output_type": "stream",
     "text": [
      "                                                    \r"
     ]
    },
    {
     "name": "stdout",
     "output_type": "stream",
     "text": [
      "fold 0 epoch 19, comp_score = 0.926, mean_score = 0.831,\n"
     ]
    },
    {
     "name": "stderr",
     "output_type": "stream",
     "text": [
      "                                                    \r"
     ]
    },
    {
     "name": "stdout",
     "output_type": "stream",
     "text": [
      "fold 0 epoch 20, comp_score = 0.919, mean_score = 0.813,\n"
     ]
    },
    {
     "name": "stderr",
     "output_type": "stream",
     "text": [
      "                                                    \r"
     ]
    },
    {
     "name": "stdout",
     "output_type": "stream",
     "text": [
      "fold 0 epoch 21, comp_score = 0.921, mean_score = 0.813,\n"
     ]
    },
    {
     "name": "stderr",
     "output_type": "stream",
     "text": [
      "                                                    \r"
     ]
    },
    {
     "name": "stdout",
     "output_type": "stream",
     "text": [
      "fold 0 epoch 22, comp_score = 0.929, mean_score = 0.826,\n"
     ]
    },
    {
     "name": "stderr",
     "output_type": "stream",
     "text": [
      "                                                    \r"
     ]
    },
    {
     "name": "stdout",
     "output_type": "stream",
     "text": [
      "fold 0 epoch 23, comp_score = 0.929, mean_score = 0.838,\n"
     ]
    },
    {
     "name": "stderr",
     "output_type": "stream",
     "text": [
      "                                                    \r"
     ]
    },
    {
     "name": "stdout",
     "output_type": "stream",
     "text": [
      "fold 0 epoch 24, comp_score = 0.930, mean_score = 0.838,\n"
     ]
    },
    {
     "name": "stderr",
     "output_type": "stream",
     "text": [
      "                                                    \r"
     ]
    },
    {
     "name": "stdout",
     "output_type": "stream",
     "text": [
      "fold 0 epoch 25, comp_score = 0.917, mean_score = 0.820,\n"
     ]
    },
    {
     "name": "stderr",
     "output_type": "stream",
     "text": [
      "                                                    \r"
     ]
    },
    {
     "name": "stdout",
     "output_type": "stream",
     "text": [
      "fold 0 epoch 26, comp_score = 0.930, mean_score = 0.841,\n"
     ]
    },
    {
     "name": "stderr",
     "output_type": "stream",
     "text": [
      "                                                    \r"
     ]
    },
    {
     "name": "stdout",
     "output_type": "stream",
     "text": [
      "fold 0 epoch 27, comp_score = 0.927, mean_score = 0.836,\n"
     ]
    },
    {
     "name": "stderr",
     "output_type": "stream",
     "text": [
      "                                                    \r"
     ]
    },
    {
     "name": "stdout",
     "output_type": "stream",
     "text": [
      "fold 0 epoch 28, comp_score = 0.912, mean_score = 0.812,\n"
     ]
    },
    {
     "name": "stderr",
     "output_type": "stream",
     "text": [
      "                                                    \r"
     ]
    },
    {
     "name": "stdout",
     "output_type": "stream",
     "text": [
      "fold 0 epoch 29, comp_score = 0.924, mean_score = 0.825,\n"
     ]
    },
    {
     "name": "stderr",
     "output_type": "stream",
     "text": [
      "                                                    \r"
     ]
    },
    {
     "name": "stdout",
     "output_type": "stream",
     "text": [
      "fold 0 epoch 30, comp_score = 0.925, mean_score = 0.836,\n"
     ]
    },
    {
     "name": "stderr",
     "output_type": "stream",
     "text": [
      "                                                    \r"
     ]
    },
    {
     "name": "stdout",
     "output_type": "stream",
     "text": [
      "fold 0 epoch 31, comp_score = 0.927, mean_score = 0.841,\n"
     ]
    },
    {
     "name": "stderr",
     "output_type": "stream",
     "text": [
      "                                                    \r"
     ]
    },
    {
     "name": "stdout",
     "output_type": "stream",
     "text": [
      "fold 0 epoch 32, comp_score = 0.930, mean_score = 0.839,\n"
     ]
    },
    {
     "name": "stderr",
     "output_type": "stream",
     "text": [
      "                                                    \r"
     ]
    },
    {
     "name": "stdout",
     "output_type": "stream",
     "text": [
      "fold 0 epoch 33, comp_score = 0.923, mean_score = 0.825,\n"
     ]
    },
    {
     "name": "stderr",
     "output_type": "stream",
     "text": [
      "                                                    \r"
     ]
    },
    {
     "name": "stdout",
     "output_type": "stream",
     "text": [
      "fold 0 epoch 34, comp_score = 0.916, mean_score = 0.818,\n"
     ]
    },
    {
     "name": "stderr",
     "output_type": "stream",
     "text": [
      "                                                    \r"
     ]
    },
    {
     "name": "stdout",
     "output_type": "stream",
     "text": [
      "fold 0 epoch 35, comp_score = 0.925, mean_score = 0.831,\n"
     ]
    },
    {
     "name": "stderr",
     "output_type": "stream",
     "text": [
      "                                                    \r"
     ]
    },
    {
     "name": "stdout",
     "output_type": "stream",
     "text": [
      "fold 0 epoch 36, comp_score = 0.924, mean_score = 0.829,\n"
     ]
    },
    {
     "name": "stderr",
     "output_type": "stream",
     "text": [
      "                                                    \r"
     ]
    },
    {
     "name": "stdout",
     "output_type": "stream",
     "text": [
      "fold 0 epoch 37, comp_score = 0.926, mean_score = 0.832,\n"
     ]
    },
    {
     "name": "stderr",
     "output_type": "stream",
     "text": [
      "                                                    \r"
     ]
    },
    {
     "name": "stdout",
     "output_type": "stream",
     "text": [
      "fold 0 epoch 38, comp_score = 0.926, mean_score = 0.827,\n"
     ]
    },
    {
     "name": "stderr",
     "output_type": "stream",
     "text": [
      "                                                    \r"
     ]
    },
    {
     "name": "stdout",
     "output_type": "stream",
     "text": [
      "fold 0 epoch 39, comp_score = 0.923, mean_score = 0.828,\n"
     ]
    },
    {
     "name": "stderr",
     "output_type": "stream",
     "text": [
      "                                                    \r"
     ]
    },
    {
     "name": "stdout",
     "output_type": "stream",
     "text": [
      "fold 0 epoch 40, comp_score = 0.926, mean_score = 0.838,\n"
     ]
    },
    {
     "name": "stderr",
     "output_type": "stream",
     "text": [
      "                                                    \r"
     ]
    },
    {
     "name": "stdout",
     "output_type": "stream",
     "text": [
      "fold 0 epoch 41, comp_score = 0.922, mean_score = 0.828,\n"
     ]
    },
    {
     "name": "stderr",
     "output_type": "stream",
     "text": [
      "                                                    \r"
     ]
    },
    {
     "name": "stdout",
     "output_type": "stream",
     "text": [
      "fold 0 epoch 42, comp_score = 0.924, mean_score = 0.826,\n"
     ]
    },
    {
     "name": "stderr",
     "output_type": "stream",
     "text": [
      "                                                    \r"
     ]
    },
    {
     "name": "stdout",
     "output_type": "stream",
     "text": [
      "fold 0 epoch 43, comp_score = 0.917, mean_score = 0.821,\n"
     ]
    },
    {
     "name": "stderr",
     "output_type": "stream",
     "text": [
      "                                                    \r"
     ]
    },
    {
     "name": "stdout",
     "output_type": "stream",
     "text": [
      "fold 0 epoch 44, comp_score = 0.916, mean_score = 0.819,\n"
     ]
    },
    {
     "name": "stderr",
     "output_type": "stream",
     "text": [
      "                                                    \r"
     ]
    },
    {
     "name": "stdout",
     "output_type": "stream",
     "text": [
      "fold 0 epoch 45, comp_score = 0.915, mean_score = 0.805,\n"
     ]
    },
    {
     "name": "stderr",
     "output_type": "stream",
     "text": [
      "                                                    \r"
     ]
    },
    {
     "name": "stdout",
     "output_type": "stream",
     "text": [
      "fold 0 epoch 46, comp_score = 0.914, mean_score = 0.812,\n"
     ]
    },
    {
     "name": "stderr",
     "output_type": "stream",
     "text": [
      "                                                    \r"
     ]
    },
    {
     "name": "stdout",
     "output_type": "stream",
     "text": [
      "fold 0 epoch 47, comp_score = 0.914, mean_score = 0.809,\n"
     ]
    },
    {
     "name": "stderr",
     "output_type": "stream",
     "text": [
      "                                                    \r"
     ]
    },
    {
     "name": "stdout",
     "output_type": "stream",
     "text": [
      "fold 0 epoch 48, comp_score = 0.914, mean_score = 0.807,\n"
     ]
    },
    {
     "name": "stderr",
     "output_type": "stream",
     "text": [
      "                                                    \r"
     ]
    },
    {
     "name": "stdout",
     "output_type": "stream",
     "text": [
      "fold 0 epoch 49, comp_score = 0.914, mean_score = 0.806,\n"
     ]
    },
    {
     "name": "stderr",
     "output_type": "stream",
     "text": [
      "                                                    \r"
     ]
    },
    {
     "name": "stdout",
     "output_type": "stream",
     "text": [
      "fold 0 epoch 50, comp_score = 0.922, mean_score = 0.810,\n"
     ]
    },
    {
     "name": "stderr",
     "output_type": "stream",
     "text": [
      "                                                    \r"
     ]
    },
    {
     "name": "stdout",
     "output_type": "stream",
     "text": [
      "fold 0 epoch 51, comp_score = 0.919, mean_score = 0.811,\n"
     ]
    },
    {
     "name": "stderr",
     "output_type": "stream",
     "text": [
      "                                                    \r"
     ]
    },
    {
     "name": "stdout",
     "output_type": "stream",
     "text": [
      "fold 0 epoch 52, comp_score = 0.912, mean_score = 0.804,\n"
     ]
    },
    {
     "name": "stderr",
     "output_type": "stream",
     "text": [
      "                                                    \r"
     ]
    },
    {
     "name": "stdout",
     "output_type": "stream",
     "text": [
      "fold 0 epoch 53, comp_score = 0.916, mean_score = 0.809,\n"
     ]
    },
    {
     "name": "stderr",
     "output_type": "stream",
     "text": [
      "                                                    \r"
     ]
    },
    {
     "name": "stdout",
     "output_type": "stream",
     "text": [
      "fold 0 epoch 54, comp_score = 0.913, mean_score = 0.803,\n"
     ]
    },
    {
     "name": "stderr",
     "output_type": "stream",
     "text": [
      "                                                    \r"
     ]
    },
    {
     "name": "stdout",
     "output_type": "stream",
     "text": [
      "fold 0 epoch 55, comp_score = 0.916, mean_score = 0.809,\n"
     ]
    },
    {
     "name": "stderr",
     "output_type": "stream",
     "text": [
      "                                                    \r"
     ]
    },
    {
     "name": "stdout",
     "output_type": "stream",
     "text": [
      "fold 0 epoch 56, comp_score = 0.922, mean_score = 0.818,\n"
     ]
    },
    {
     "name": "stderr",
     "output_type": "stream",
     "text": [
      "                                                    \r"
     ]
    },
    {
     "name": "stdout",
     "output_type": "stream",
     "text": [
      "fold 0 epoch 57, comp_score = 0.917, mean_score = 0.813,\n"
     ]
    },
    {
     "name": "stderr",
     "output_type": "stream",
     "text": [
      "                                                    \r"
     ]
    },
    {
     "name": "stdout",
     "output_type": "stream",
     "text": [
      "fold 0 epoch 58, comp_score = 0.915, mean_score = 0.816,\n"
     ]
    },
    {
     "name": "stderr",
     "output_type": "stream",
     "text": [
      "                                                    \r"
     ]
    },
    {
     "name": "stdout",
     "output_type": "stream",
     "text": [
      "fold 0 epoch 59, comp_score = 0.917, mean_score = 0.815,\n"
     ]
    },
    {
     "name": "stderr",
     "output_type": "stream",
     "text": [
      "                                                    \r"
     ]
    },
    {
     "name": "stdout",
     "output_type": "stream",
     "text": [
      "fold 0 epoch 60, comp_score = 0.914, mean_score = 0.809,\n"
     ]
    },
    {
     "name": "stderr",
     "output_type": "stream",
     "text": [
      "                                                    \r"
     ]
    },
    {
     "name": "stdout",
     "output_type": "stream",
     "text": [
      "fold 0 epoch 61, comp_score = 0.917, mean_score = 0.813,\n"
     ]
    },
    {
     "name": "stderr",
     "output_type": "stream",
     "text": [
      "                                                    \r"
     ]
    },
    {
     "name": "stdout",
     "output_type": "stream",
     "text": [
      "fold 0 epoch 62, comp_score = 0.915, mean_score = 0.810,\n"
     ]
    },
    {
     "name": "stderr",
     "output_type": "stream",
     "text": [
      "                                                    \r"
     ]
    },
    {
     "name": "stdout",
     "output_type": "stream",
     "text": [
      "fold 0 epoch 63, comp_score = 0.918, mean_score = 0.808,\n"
     ]
    },
    {
     "name": "stderr",
     "output_type": "stream",
     "text": [
      "                                                    \r"
     ]
    },
    {
     "name": "stdout",
     "output_type": "stream",
     "text": [
      "fold 0 epoch 64, comp_score = 0.919, mean_score = 0.809,\n"
     ]
    },
    {
     "name": "stderr",
     "output_type": "stream",
     "text": [
      "                                                    \r"
     ]
    },
    {
     "name": "stdout",
     "output_type": "stream",
     "text": [
      "fold 0 epoch 65, comp_score = 0.915, mean_score = 0.805,\n"
     ]
    },
    {
     "name": "stderr",
     "output_type": "stream",
     "text": [
      "                                                    \r"
     ]
    },
    {
     "name": "stdout",
     "output_type": "stream",
     "text": [
      "fold 0 epoch 66, comp_score = 0.916, mean_score = 0.806,\n"
     ]
    },
    {
     "name": "stderr",
     "output_type": "stream",
     "text": [
      "                                                    \r"
     ]
    },
    {
     "name": "stdout",
     "output_type": "stream",
     "text": [
      "fold 0 epoch 67, comp_score = 0.921, mean_score = 0.811,\n"
     ]
    },
    {
     "name": "stderr",
     "output_type": "stream",
     "text": [
      "                                                    \r"
     ]
    },
    {
     "name": "stdout",
     "output_type": "stream",
     "text": [
      "fold 0 epoch 68, comp_score = 0.923, mean_score = 0.814,\n"
     ]
    },
    {
     "name": "stderr",
     "output_type": "stream",
     "text": [
      "                                                    \r"
     ]
    },
    {
     "name": "stdout",
     "output_type": "stream",
     "text": [
      "fold 0 epoch 69, comp_score = 0.914, mean_score = 0.802,\n"
     ]
    },
    {
     "name": "stderr",
     "output_type": "stream",
     "text": [
      "                                                    \r"
     ]
    },
    {
     "name": "stdout",
     "output_type": "stream",
     "text": [
      "fold 0 epoch 70, comp_score = 0.917, mean_score = 0.809,\n"
     ]
    },
    {
     "name": "stderr",
     "output_type": "stream",
     "text": [
      "                                                    \r"
     ]
    },
    {
     "name": "stdout",
     "output_type": "stream",
     "text": [
      "fold 0 epoch 71, comp_score = 0.920, mean_score = 0.814,\n"
     ]
    },
    {
     "name": "stderr",
     "output_type": "stream",
     "text": [
      "                                                    \r"
     ]
    },
    {
     "name": "stdout",
     "output_type": "stream",
     "text": [
      "fold 0 epoch 72, comp_score = 0.918, mean_score = 0.813,\n"
     ]
    },
    {
     "name": "stderr",
     "output_type": "stream",
     "text": [
      "                                                    \r"
     ]
    },
    {
     "name": "stdout",
     "output_type": "stream",
     "text": [
      "fold 0 epoch 73, comp_score = 0.919, mean_score = 0.813,\n"
     ]
    },
    {
     "name": "stderr",
     "output_type": "stream",
     "text": [
      "                                                    \r"
     ]
    },
    {
     "name": "stdout",
     "output_type": "stream",
     "text": [
      "fold 0 epoch 74, comp_score = 0.921, mean_score = 0.818,\n"
     ]
    },
    {
     "name": "stderr",
     "output_type": "stream",
     "text": [
      "                                                    \r"
     ]
    },
    {
     "name": "stdout",
     "output_type": "stream",
     "text": [
      "fold 0 epoch 75, comp_score = 0.919, mean_score = 0.814,\n"
     ]
    },
    {
     "name": "stderr",
     "output_type": "stream",
     "text": [
      "                                                    \r"
     ]
    },
    {
     "name": "stdout",
     "output_type": "stream",
     "text": [
      "fold 0 epoch 76, comp_score = 0.920, mean_score = 0.820,\n"
     ]
    },
    {
     "name": "stderr",
     "output_type": "stream",
     "text": [
      "                                                    \r"
     ]
    },
    {
     "name": "stdout",
     "output_type": "stream",
     "text": [
      "fold 0 epoch 77, comp_score = 0.920, mean_score = 0.821,\n"
     ]
    },
    {
     "name": "stderr",
     "output_type": "stream",
     "text": [
      "                                                    \r"
     ]
    },
    {
     "name": "stdout",
     "output_type": "stream",
     "text": [
      "fold 0 epoch 78, comp_score = 0.921, mean_score = 0.822,\n"
     ]
    },
    {
     "name": "stderr",
     "output_type": "stream",
     "text": [
      "                                                    \r"
     ]
    },
    {
     "name": "stdout",
     "output_type": "stream",
     "text": [
      "fold 0 epoch 79, comp_score = 0.921, mean_score = 0.822,\n"
     ]
    },
    {
     "name": "stderr",
     "output_type": "stream",
     "text": [
      "                                                    \r"
     ]
    },
    {
     "name": "stdout",
     "output_type": "stream",
     "text": [
      "fold 0 epoch 80, comp_score = 0.922, mean_score = 0.824,\n"
     ]
    },
    {
     "name": "stderr",
     "output_type": "stream",
     "text": [
      "                                                    \r"
     ]
    },
    {
     "name": "stdout",
     "output_type": "stream",
     "text": [
      "fold 0 epoch 81, comp_score = 0.921, mean_score = 0.823,\n"
     ]
    },
    {
     "name": "stderr",
     "output_type": "stream",
     "text": [
      "                                                    \r"
     ]
    },
    {
     "name": "stdout",
     "output_type": "stream",
     "text": [
      "fold 0 epoch 82, comp_score = 0.922, mean_score = 0.825,\n"
     ]
    },
    {
     "name": "stderr",
     "output_type": "stream",
     "text": [
      "                                                    \r"
     ]
    },
    {
     "name": "stdout",
     "output_type": "stream",
     "text": [
      "fold 0 epoch 83, comp_score = 0.923, mean_score = 0.824,\n"
     ]
    },
    {
     "name": "stderr",
     "output_type": "stream",
     "text": [
      "                                                    \r"
     ]
    },
    {
     "name": "stdout",
     "output_type": "stream",
     "text": [
      "fold 0 epoch 84, comp_score = 0.923, mean_score = 0.823,\n"
     ]
    },
    {
     "name": "stderr",
     "output_type": "stream",
     "text": [
      "                                                    \r"
     ]
    },
    {
     "name": "stdout",
     "output_type": "stream",
     "text": [
      "fold 0 epoch 85, comp_score = 0.922, mean_score = 0.822,\n"
     ]
    },
    {
     "name": "stderr",
     "output_type": "stream",
     "text": [
      "                                                    \r"
     ]
    },
    {
     "name": "stdout",
     "output_type": "stream",
     "text": [
      "fold 0 epoch 86, comp_score = 0.922, mean_score = 0.818,\n"
     ]
    },
    {
     "name": "stderr",
     "output_type": "stream",
     "text": [
      "                                                    \r"
     ]
    },
    {
     "name": "stdout",
     "output_type": "stream",
     "text": [
      "fold 0 epoch 87, comp_score = 0.921, mean_score = 0.811,\n"
     ]
    },
    {
     "name": "stderr",
     "output_type": "stream",
     "text": [
      "                                                    \r"
     ]
    },
    {
     "name": "stdout",
     "output_type": "stream",
     "text": [
      "fold 0 epoch 88, comp_score = 0.921, mean_score = 0.810,\n"
     ]
    },
    {
     "name": "stderr",
     "output_type": "stream",
     "text": [
      "                                                    \r"
     ]
    },
    {
     "name": "stdout",
     "output_type": "stream",
     "text": [
      "fold 0 epoch 89, comp_score = 0.922, mean_score = 0.810,\n"
     ]
    },
    {
     "name": "stderr",
     "output_type": "stream",
     "text": [
      "                                                    \r"
     ]
    },
    {
     "name": "stdout",
     "output_type": "stream",
     "text": [
      "fold 1 epoch 0, comp_score = 0.907, mean_score = 0.787,\n"
     ]
    },
    {
     "name": "stderr",
     "output_type": "stream",
     "text": [
      "                                                    \r"
     ]
    },
    {
     "name": "stdout",
     "output_type": "stream",
     "text": [
      "fold 1 epoch 1, comp_score = 0.910, mean_score = 0.793,\n"
     ]
    },
    {
     "name": "stderr",
     "output_type": "stream",
     "text": [
      "                                                    \r"
     ]
    },
    {
     "name": "stdout",
     "output_type": "stream",
     "text": [
      "fold 1 epoch 2, comp_score = 0.909, mean_score = 0.794,\n"
     ]
    },
    {
     "name": "stderr",
     "output_type": "stream",
     "text": [
      "                                                    \r"
     ]
    },
    {
     "name": "stdout",
     "output_type": "stream",
     "text": [
      "fold 1 epoch 3, comp_score = 0.911, mean_score = 0.796,\n"
     ]
    },
    {
     "name": "stderr",
     "output_type": "stream",
     "text": [
      "                                                    \r"
     ]
    },
    {
     "name": "stdout",
     "output_type": "stream",
     "text": [
      "fold 1 epoch 4, comp_score = 0.906, mean_score = 0.789,\n"
     ]
    },
    {
     "name": "stderr",
     "output_type": "stream",
     "text": [
      "                                                    \r"
     ]
    },
    {
     "name": "stdout",
     "output_type": "stream",
     "text": [
      "fold 1 epoch 5, comp_score = 0.889, mean_score = 0.773,\n"
     ]
    },
    {
     "name": "stderr",
     "output_type": "stream",
     "text": [
      "                                                    \r"
     ]
    },
    {
     "name": "stdout",
     "output_type": "stream",
     "text": [
      "fold 1 epoch 6, comp_score = 0.892, mean_score = 0.785,\n"
     ]
    },
    {
     "name": "stderr",
     "output_type": "stream",
     "text": [
      "                                                    \r"
     ]
    },
    {
     "name": "stdout",
     "output_type": "stream",
     "text": [
      "fold 1 epoch 7, comp_score = 0.880, mean_score = 0.773,\n"
     ]
    },
    {
     "name": "stderr",
     "output_type": "stream",
     "text": [
      "                                                    \r"
     ]
    },
    {
     "name": "stdout",
     "output_type": "stream",
     "text": [
      "fold 1 epoch 8, comp_score = 0.895, mean_score = 0.785,\n"
     ]
    },
    {
     "name": "stderr",
     "output_type": "stream",
     "text": [
      "                                                    \r"
     ]
    },
    {
     "name": "stdout",
     "output_type": "stream",
     "text": [
      "fold 1 epoch 9, comp_score = 0.888, mean_score = 0.790,\n"
     ]
    },
    {
     "name": "stderr",
     "output_type": "stream",
     "text": [
      "                                                    \r"
     ]
    },
    {
     "name": "stdout",
     "output_type": "stream",
     "text": [
      "fold 1 epoch 10, comp_score = 0.893, mean_score = 0.794,\n"
     ]
    },
    {
     "name": "stderr",
     "output_type": "stream",
     "text": [
      "                                                    \r"
     ]
    },
    {
     "name": "stdout",
     "output_type": "stream",
     "text": [
      "fold 1 epoch 11, comp_score = 0.895, mean_score = 0.789,\n"
     ]
    },
    {
     "name": "stderr",
     "output_type": "stream",
     "text": [
      "                                                    \r"
     ]
    },
    {
     "name": "stdout",
     "output_type": "stream",
     "text": [
      "fold 1 epoch 12, comp_score = 0.889, mean_score = 0.781,\n"
     ]
    },
    {
     "name": "stderr",
     "output_type": "stream",
     "text": [
      "                                                    \r"
     ]
    },
    {
     "name": "stdout",
     "output_type": "stream",
     "text": [
      "fold 1 epoch 13, comp_score = 0.908, mean_score = 0.795,\n"
     ]
    },
    {
     "name": "stderr",
     "output_type": "stream",
     "text": [
      "                                                    \r"
     ]
    },
    {
     "name": "stdout",
     "output_type": "stream",
     "text": [
      "fold 1 epoch 14, comp_score = 0.891, mean_score = 0.786,\n"
     ]
    },
    {
     "name": "stderr",
     "output_type": "stream",
     "text": [
      "                                                    \r"
     ]
    },
    {
     "name": "stdout",
     "output_type": "stream",
     "text": [
      "fold 1 epoch 15, comp_score = 0.882, mean_score = 0.769,\n"
     ]
    },
    {
     "name": "stderr",
     "output_type": "stream",
     "text": [
      "                                                    \r"
     ]
    },
    {
     "name": "stdout",
     "output_type": "stream",
     "text": [
      "fold 1 epoch 16, comp_score = 0.895, mean_score = 0.799,\n"
     ]
    },
    {
     "name": "stderr",
     "output_type": "stream",
     "text": [
      "                                                    \r"
     ]
    },
    {
     "name": "stdout",
     "output_type": "stream",
     "text": [
      "fold 1 epoch 17, comp_score = 0.896, mean_score = 0.784,\n"
     ]
    },
    {
     "name": "stderr",
     "output_type": "stream",
     "text": [
      "                                                    \r"
     ]
    },
    {
     "name": "stdout",
     "output_type": "stream",
     "text": [
      "fold 1 epoch 18, comp_score = 0.901, mean_score = 0.795,\n"
     ]
    },
    {
     "name": "stderr",
     "output_type": "stream",
     "text": [
      "                                                    \r"
     ]
    },
    {
     "name": "stdout",
     "output_type": "stream",
     "text": [
      "fold 1 epoch 19, comp_score = 0.904, mean_score = 0.794,\n"
     ]
    },
    {
     "name": "stderr",
     "output_type": "stream",
     "text": [
      "                                                    \r"
     ]
    },
    {
     "name": "stdout",
     "output_type": "stream",
     "text": [
      "fold 1 epoch 20, comp_score = 0.900, mean_score = 0.797,\n"
     ]
    },
    {
     "name": "stderr",
     "output_type": "stream",
     "text": [
      "                                                    \r"
     ]
    },
    {
     "name": "stdout",
     "output_type": "stream",
     "text": [
      "fold 1 epoch 21, comp_score = 0.910, mean_score = 0.813,\n"
     ]
    },
    {
     "name": "stderr",
     "output_type": "stream",
     "text": [
      "                                                    \r"
     ]
    },
    {
     "name": "stdout",
     "output_type": "stream",
     "text": [
      "fold 1 epoch 22, comp_score = 0.898, mean_score = 0.802,\n"
     ]
    },
    {
     "name": "stderr",
     "output_type": "stream",
     "text": [
      "                                                    \r"
     ]
    },
    {
     "name": "stdout",
     "output_type": "stream",
     "text": [
      "fold 1 epoch 23, comp_score = 0.910, mean_score = 0.812,\n"
     ]
    },
    {
     "name": "stderr",
     "output_type": "stream",
     "text": [
      "                                                    \r"
     ]
    },
    {
     "name": "stdout",
     "output_type": "stream",
     "text": [
      "fold 1 epoch 24, comp_score = 0.898, mean_score = 0.793,\n"
     ]
    },
    {
     "name": "stderr",
     "output_type": "stream",
     "text": [
      "                                                    \r"
     ]
    },
    {
     "name": "stdout",
     "output_type": "stream",
     "text": [
      "fold 1 epoch 25, comp_score = 0.890, mean_score = 0.777,\n"
     ]
    },
    {
     "name": "stderr",
     "output_type": "stream",
     "text": [
      "                                                    \r"
     ]
    },
    {
     "name": "stdout",
     "output_type": "stream",
     "text": [
      "fold 1 epoch 26, comp_score = 0.905, mean_score = 0.798,\n"
     ]
    },
    {
     "name": "stderr",
     "output_type": "stream",
     "text": [
      "                                                    \r"
     ]
    },
    {
     "name": "stdout",
     "output_type": "stream",
     "text": [
      "fold 1 epoch 27, comp_score = 0.903, mean_score = 0.804,\n"
     ]
    },
    {
     "name": "stderr",
     "output_type": "stream",
     "text": [
      "                                                    \r"
     ]
    },
    {
     "name": "stdout",
     "output_type": "stream",
     "text": [
      "fold 1 epoch 28, comp_score = 0.904, mean_score = 0.797,\n"
     ]
    },
    {
     "name": "stderr",
     "output_type": "stream",
     "text": [
      "                                                    \r"
     ]
    },
    {
     "name": "stdout",
     "output_type": "stream",
     "text": [
      "fold 1 epoch 29, comp_score = 0.903, mean_score = 0.796,\n"
     ]
    },
    {
     "name": "stderr",
     "output_type": "stream",
     "text": [
      "                                                    \r"
     ]
    },
    {
     "name": "stdout",
     "output_type": "stream",
     "text": [
      "fold 1 epoch 30, comp_score = 0.901, mean_score = 0.795,\n"
     ]
    },
    {
     "name": "stderr",
     "output_type": "stream",
     "text": [
      "                                                    \r"
     ]
    },
    {
     "name": "stdout",
     "output_type": "stream",
     "text": [
      "fold 1 epoch 31, comp_score = 0.899, mean_score = 0.794,\n"
     ]
    },
    {
     "name": "stderr",
     "output_type": "stream",
     "text": [
      "                                                    \r"
     ]
    },
    {
     "name": "stdout",
     "output_type": "stream",
     "text": [
      "fold 1 epoch 32, comp_score = 0.900, mean_score = 0.791,\n"
     ]
    },
    {
     "name": "stderr",
     "output_type": "stream",
     "text": [
      "                                                    \r"
     ]
    },
    {
     "name": "stdout",
     "output_type": "stream",
     "text": [
      "fold 1 epoch 33, comp_score = 0.893, mean_score = 0.792,\n"
     ]
    },
    {
     "name": "stderr",
     "output_type": "stream",
     "text": [
      "                                                    \r"
     ]
    },
    {
     "name": "stdout",
     "output_type": "stream",
     "text": [
      "fold 1 epoch 34, comp_score = 0.905, mean_score = 0.802,\n"
     ]
    },
    {
     "name": "stderr",
     "output_type": "stream",
     "text": [
      "                                                    \r"
     ]
    },
    {
     "name": "stdout",
     "output_type": "stream",
     "text": [
      "fold 1 epoch 35, comp_score = 0.903, mean_score = 0.797,\n"
     ]
    },
    {
     "name": "stderr",
     "output_type": "stream",
     "text": [
      "                                                    \r"
     ]
    },
    {
     "name": "stdout",
     "output_type": "stream",
     "text": [
      "fold 1 epoch 36, comp_score = 0.906, mean_score = 0.798,\n"
     ]
    },
    {
     "name": "stderr",
     "output_type": "stream",
     "text": [
      "                                                    \r"
     ]
    },
    {
     "name": "stdout",
     "output_type": "stream",
     "text": [
      "fold 1 epoch 37, comp_score = 0.905, mean_score = 0.794,\n"
     ]
    },
    {
     "name": "stderr",
     "output_type": "stream",
     "text": [
      "                                                    \r"
     ]
    },
    {
     "name": "stdout",
     "output_type": "stream",
     "text": [
      "fold 1 epoch 38, comp_score = 0.906, mean_score = 0.805,\n"
     ]
    },
    {
     "name": "stderr",
     "output_type": "stream",
     "text": [
      "                                                    \r"
     ]
    },
    {
     "name": "stdout",
     "output_type": "stream",
     "text": [
      "fold 1 epoch 39, comp_score = 0.889, mean_score = 0.786,\n"
     ]
    },
    {
     "name": "stderr",
     "output_type": "stream",
     "text": [
      "                                                    \r"
     ]
    },
    {
     "name": "stdout",
     "output_type": "stream",
     "text": [
      "fold 1 epoch 40, comp_score = 0.904, mean_score = 0.806,\n"
     ]
    },
    {
     "name": "stderr",
     "output_type": "stream",
     "text": [
      "                                                    \r"
     ]
    },
    {
     "name": "stdout",
     "output_type": "stream",
     "text": [
      "fold 1 epoch 41, comp_score = 0.902, mean_score = 0.797,\n"
     ]
    },
    {
     "name": "stderr",
     "output_type": "stream",
     "text": [
      "                                                    \r"
     ]
    },
    {
     "name": "stdout",
     "output_type": "stream",
     "text": [
      "fold 1 epoch 42, comp_score = 0.891, mean_score = 0.787,\n"
     ]
    },
    {
     "name": "stderr",
     "output_type": "stream",
     "text": [
      "                                                    \r"
     ]
    },
    {
     "name": "stdout",
     "output_type": "stream",
     "text": [
      "fold 1 epoch 43, comp_score = 0.901, mean_score = 0.795,\n"
     ]
    },
    {
     "name": "stderr",
     "output_type": "stream",
     "text": [
      "                                                    \r"
     ]
    },
    {
     "name": "stdout",
     "output_type": "stream",
     "text": [
      "fold 1 epoch 44, comp_score = 0.900, mean_score = 0.793,\n"
     ]
    },
    {
     "name": "stderr",
     "output_type": "stream",
     "text": [
      "                                                    \r"
     ]
    },
    {
     "name": "stdout",
     "output_type": "stream",
     "text": [
      "fold 1 epoch 45, comp_score = 0.899, mean_score = 0.794,\n"
     ]
    },
    {
     "name": "stderr",
     "output_type": "stream",
     "text": [
      "                                                    \r"
     ]
    },
    {
     "name": "stdout",
     "output_type": "stream",
     "text": [
      "fold 1 epoch 46, comp_score = 0.896, mean_score = 0.787,\n"
     ]
    },
    {
     "name": "stderr",
     "output_type": "stream",
     "text": [
      "                                                    \r"
     ]
    },
    {
     "name": "stdout",
     "output_type": "stream",
     "text": [
      "fold 1 epoch 47, comp_score = 0.887, mean_score = 0.777,\n"
     ]
    },
    {
     "name": "stderr",
     "output_type": "stream",
     "text": [
      "                                                    \r"
     ]
    },
    {
     "name": "stdout",
     "output_type": "stream",
     "text": [
      "fold 1 epoch 48, comp_score = 0.897, mean_score = 0.786,\n"
     ]
    },
    {
     "name": "stderr",
     "output_type": "stream",
     "text": [
      "                                                    \r"
     ]
    },
    {
     "name": "stdout",
     "output_type": "stream",
     "text": [
      "fold 1 epoch 49, comp_score = 0.890, mean_score = 0.777,\n"
     ]
    },
    {
     "name": "stderr",
     "output_type": "stream",
     "text": [
      "                                                    \r"
     ]
    },
    {
     "name": "stdout",
     "output_type": "stream",
     "text": [
      "fold 1 epoch 50, comp_score = 0.891, mean_score = 0.775,\n"
     ]
    },
    {
     "name": "stderr",
     "output_type": "stream",
     "text": [
      "                                                    \r"
     ]
    },
    {
     "name": "stdout",
     "output_type": "stream",
     "text": [
      "fold 1 epoch 51, comp_score = 0.895, mean_score = 0.784,\n"
     ]
    },
    {
     "name": "stderr",
     "output_type": "stream",
     "text": [
      "                                                    \r"
     ]
    },
    {
     "name": "stdout",
     "output_type": "stream",
     "text": [
      "fold 1 epoch 52, comp_score = 0.898, mean_score = 0.783,\n"
     ]
    },
    {
     "name": "stderr",
     "output_type": "stream",
     "text": [
      "                                                    \r"
     ]
    },
    {
     "name": "stdout",
     "output_type": "stream",
     "text": [
      "fold 1 epoch 53, comp_score = 0.896, mean_score = 0.781,\n"
     ]
    },
    {
     "name": "stderr",
     "output_type": "stream",
     "text": [
      "                                                    \r"
     ]
    },
    {
     "name": "stdout",
     "output_type": "stream",
     "text": [
      "fold 1 epoch 54, comp_score = 0.894, mean_score = 0.781,\n"
     ]
    },
    {
     "name": "stderr",
     "output_type": "stream",
     "text": [
      "                                                    \r"
     ]
    },
    {
     "name": "stdout",
     "output_type": "stream",
     "text": [
      "fold 1 epoch 55, comp_score = 0.895, mean_score = 0.787,\n"
     ]
    },
    {
     "name": "stderr",
     "output_type": "stream",
     "text": [
      "                                                    \r"
     ]
    },
    {
     "name": "stdout",
     "output_type": "stream",
     "text": [
      "fold 1 epoch 56, comp_score = 0.894, mean_score = 0.783,\n"
     ]
    },
    {
     "name": "stderr",
     "output_type": "stream",
     "text": [
      "                                                    \r"
     ]
    },
    {
     "name": "stdout",
     "output_type": "stream",
     "text": [
      "fold 1 epoch 57, comp_score = 0.890, mean_score = 0.784,\n"
     ]
    },
    {
     "name": "stderr",
     "output_type": "stream",
     "text": [
      "                                                    \r"
     ]
    },
    {
     "name": "stdout",
     "output_type": "stream",
     "text": [
      "fold 1 epoch 58, comp_score = 0.885, mean_score = 0.775,\n"
     ]
    },
    {
     "name": "stderr",
     "output_type": "stream",
     "text": [
      "                                                    \r"
     ]
    },
    {
     "name": "stdout",
     "output_type": "stream",
     "text": [
      "fold 1 epoch 59, comp_score = 0.884, mean_score = 0.769,\n"
     ]
    },
    {
     "name": "stderr",
     "output_type": "stream",
     "text": [
      "                                                    \r"
     ]
    },
    {
     "name": "stdout",
     "output_type": "stream",
     "text": [
      "fold 1 epoch 60, comp_score = 0.890, mean_score = 0.778,\n"
     ]
    },
    {
     "name": "stderr",
     "output_type": "stream",
     "text": [
      "                                                    \r"
     ]
    },
    {
     "name": "stdout",
     "output_type": "stream",
     "text": [
      "fold 1 epoch 61, comp_score = 0.894, mean_score = 0.789,\n"
     ]
    },
    {
     "name": "stderr",
     "output_type": "stream",
     "text": [
      "                                                    \r"
     ]
    },
    {
     "name": "stdout",
     "output_type": "stream",
     "text": [
      "fold 1 epoch 62, comp_score = 0.889, mean_score = 0.786,\n"
     ]
    },
    {
     "name": "stderr",
     "output_type": "stream",
     "text": [
      "                                                    \r"
     ]
    },
    {
     "name": "stdout",
     "output_type": "stream",
     "text": [
      "fold 1 epoch 63, comp_score = 0.890, mean_score = 0.786,\n"
     ]
    },
    {
     "name": "stderr",
     "output_type": "stream",
     "text": [
      "                                                    \r"
     ]
    },
    {
     "name": "stdout",
     "output_type": "stream",
     "text": [
      "fold 1 epoch 64, comp_score = 0.891, mean_score = 0.787,\n"
     ]
    },
    {
     "name": "stderr",
     "output_type": "stream",
     "text": [
      "                                                    \r"
     ]
    },
    {
     "name": "stdout",
     "output_type": "stream",
     "text": [
      "fold 1 epoch 65, comp_score = 0.893, mean_score = 0.784,\n"
     ]
    },
    {
     "name": "stderr",
     "output_type": "stream",
     "text": [
      "                                                    \r"
     ]
    },
    {
     "name": "stdout",
     "output_type": "stream",
     "text": [
      "fold 1 epoch 66, comp_score = 0.895, mean_score = 0.788,\n"
     ]
    },
    {
     "name": "stderr",
     "output_type": "stream",
     "text": [
      "                                                    \r"
     ]
    },
    {
     "name": "stdout",
     "output_type": "stream",
     "text": [
      "fold 1 epoch 67, comp_score = 0.893, mean_score = 0.784,\n"
     ]
    },
    {
     "name": "stderr",
     "output_type": "stream",
     "text": [
      "                                                    \r"
     ]
    },
    {
     "name": "stdout",
     "output_type": "stream",
     "text": [
      "fold 1 epoch 68, comp_score = 0.893, mean_score = 0.785,\n"
     ]
    },
    {
     "name": "stderr",
     "output_type": "stream",
     "text": [
      "                                                    \r"
     ]
    },
    {
     "name": "stdout",
     "output_type": "stream",
     "text": [
      "fold 1 epoch 69, comp_score = 0.895, mean_score = 0.785,\n"
     ]
    },
    {
     "name": "stderr",
     "output_type": "stream",
     "text": [
      "                                                    \r"
     ]
    },
    {
     "name": "stdout",
     "output_type": "stream",
     "text": [
      "fold 1 epoch 70, comp_score = 0.897, mean_score = 0.788,\n"
     ]
    },
    {
     "name": "stderr",
     "output_type": "stream",
     "text": [
      "                                                    \r"
     ]
    },
    {
     "name": "stdout",
     "output_type": "stream",
     "text": [
      "fold 1 epoch 71, comp_score = 0.895, mean_score = 0.789,\n"
     ]
    },
    {
     "name": "stderr",
     "output_type": "stream",
     "text": [
      "                                                    \r"
     ]
    },
    {
     "name": "stdout",
     "output_type": "stream",
     "text": [
      "fold 1 epoch 72, comp_score = 0.895, mean_score = 0.788,\n"
     ]
    },
    {
     "name": "stderr",
     "output_type": "stream",
     "text": [
      "                                                    \r"
     ]
    },
    {
     "name": "stdout",
     "output_type": "stream",
     "text": [
      "fold 1 epoch 73, comp_score = 0.895, mean_score = 0.791,\n"
     ]
    },
    {
     "name": "stderr",
     "output_type": "stream",
     "text": [
      "                                                    \r"
     ]
    },
    {
     "name": "stdout",
     "output_type": "stream",
     "text": [
      "fold 1 epoch 74, comp_score = 0.898, mean_score = 0.791,\n"
     ]
    },
    {
     "name": "stderr",
     "output_type": "stream",
     "text": [
      "                                                    \r"
     ]
    },
    {
     "name": "stdout",
     "output_type": "stream",
     "text": [
      "fold 1 epoch 75, comp_score = 0.896, mean_score = 0.788,\n"
     ]
    },
    {
     "name": "stderr",
     "output_type": "stream",
     "text": [
      "                                                    \r"
     ]
    },
    {
     "name": "stdout",
     "output_type": "stream",
     "text": [
      "fold 1 epoch 76, comp_score = 0.895, mean_score = 0.788,\n"
     ]
    },
    {
     "name": "stderr",
     "output_type": "stream",
     "text": [
      "                                                    \r"
     ]
    },
    {
     "name": "stdout",
     "output_type": "stream",
     "text": [
      "fold 1 epoch 77, comp_score = 0.896, mean_score = 0.789,\n"
     ]
    },
    {
     "name": "stderr",
     "output_type": "stream",
     "text": [
      "                                                    \r"
     ]
    },
    {
     "name": "stdout",
     "output_type": "stream",
     "text": [
      "fold 1 epoch 78, comp_score = 0.895, mean_score = 0.789,\n"
     ]
    },
    {
     "name": "stderr",
     "output_type": "stream",
     "text": [
      "                                                    \r"
     ]
    },
    {
     "name": "stdout",
     "output_type": "stream",
     "text": [
      "fold 1 epoch 79, comp_score = 0.896, mean_score = 0.788,\n"
     ]
    },
    {
     "name": "stderr",
     "output_type": "stream",
     "text": [
      "                                                    \r"
     ]
    },
    {
     "name": "stdout",
     "output_type": "stream",
     "text": [
      "fold 1 epoch 80, comp_score = 0.895, mean_score = 0.789,\n"
     ]
    },
    {
     "name": "stderr",
     "output_type": "stream",
     "text": [
      "                                                    \r"
     ]
    },
    {
     "name": "stdout",
     "output_type": "stream",
     "text": [
      "fold 1 epoch 81, comp_score = 0.892, mean_score = 0.788,\n"
     ]
    },
    {
     "name": "stderr",
     "output_type": "stream",
     "text": [
      "                                                    \r"
     ]
    },
    {
     "name": "stdout",
     "output_type": "stream",
     "text": [
      "fold 1 epoch 82, comp_score = 0.893, mean_score = 0.786,\n"
     ]
    },
    {
     "name": "stderr",
     "output_type": "stream",
     "text": [
      "                                                    \r"
     ]
    },
    {
     "name": "stdout",
     "output_type": "stream",
     "text": [
      "fold 1 epoch 83, comp_score = 0.894, mean_score = 0.789,\n"
     ]
    },
    {
     "name": "stderr",
     "output_type": "stream",
     "text": [
      "                                                    \r"
     ]
    },
    {
     "name": "stdout",
     "output_type": "stream",
     "text": [
      "fold 1 epoch 84, comp_score = 0.891, mean_score = 0.789,\n"
     ]
    },
    {
     "name": "stderr",
     "output_type": "stream",
     "text": [
      "                                                    \r"
     ]
    },
    {
     "name": "stdout",
     "output_type": "stream",
     "text": [
      "fold 1 epoch 85, comp_score = 0.891, mean_score = 0.789,\n"
     ]
    },
    {
     "name": "stderr",
     "output_type": "stream",
     "text": [
      "                                                    \r"
     ]
    },
    {
     "name": "stdout",
     "output_type": "stream",
     "text": [
      "fold 1 epoch 86, comp_score = 0.892, mean_score = 0.790,\n"
     ]
    },
    {
     "name": "stderr",
     "output_type": "stream",
     "text": [
      "                                                    \r"
     ]
    },
    {
     "name": "stdout",
     "output_type": "stream",
     "text": [
      "fold 1 epoch 87, comp_score = 0.893, mean_score = 0.790,\n"
     ]
    },
    {
     "name": "stderr",
     "output_type": "stream",
     "text": [
      "                                                    \r"
     ]
    },
    {
     "name": "stdout",
     "output_type": "stream",
     "text": [
      "fold 1 epoch 88, comp_score = 0.893, mean_score = 0.791,\n"
     ]
    },
    {
     "name": "stderr",
     "output_type": "stream",
     "text": [
      "                                                    \r"
     ]
    },
    {
     "name": "stdout",
     "output_type": "stream",
     "text": [
      "fold 1 epoch 89, comp_score = 0.893, mean_score = 0.791,\n"
     ]
    },
    {
     "name": "stderr",
     "output_type": "stream",
     "text": [
      "                                                    \r"
     ]
    },
    {
     "name": "stdout",
     "output_type": "stream",
     "text": [
      "fold 2 epoch 0, comp_score = 0.900, mean_score = 0.795,\n"
     ]
    },
    {
     "name": "stderr",
     "output_type": "stream",
     "text": [
      "                                                    \r"
     ]
    },
    {
     "name": "stdout",
     "output_type": "stream",
     "text": [
      "fold 2 epoch 1, comp_score = 0.880, mean_score = 0.768,\n"
     ]
    },
    {
     "name": "stderr",
     "output_type": "stream",
     "text": [
      "                                                    \r"
     ]
    },
    {
     "name": "stdout",
     "output_type": "stream",
     "text": [
      "fold 2 epoch 2, comp_score = 0.883, mean_score = 0.778,\n"
     ]
    },
    {
     "name": "stderr",
     "output_type": "stream",
     "text": [
      "                                                    \r"
     ]
    },
    {
     "name": "stdout",
     "output_type": "stream",
     "text": [
      "fold 2 epoch 3, comp_score = 0.895, mean_score = 0.787,\n"
     ]
    },
    {
     "name": "stderr",
     "output_type": "stream",
     "text": [
      "                                                    \r"
     ]
    },
    {
     "name": "stdout",
     "output_type": "stream",
     "text": [
      "fold 2 epoch 4, comp_score = 0.903, mean_score = 0.803,\n"
     ]
    },
    {
     "name": "stderr",
     "output_type": "stream",
     "text": [
      "                                                    \r"
     ]
    },
    {
     "name": "stdout",
     "output_type": "stream",
     "text": [
      "fold 2 epoch 5, comp_score = 0.910, mean_score = 0.824,\n"
     ]
    },
    {
     "name": "stderr",
     "output_type": "stream",
     "text": [
      "                                                    \r"
     ]
    },
    {
     "name": "stdout",
     "output_type": "stream",
     "text": [
      "fold 2 epoch 6, comp_score = 0.909, mean_score = 0.819,\n"
     ]
    },
    {
     "name": "stderr",
     "output_type": "stream",
     "text": [
      "                                                    \r"
     ]
    },
    {
     "name": "stdout",
     "output_type": "stream",
     "text": [
      "fold 2 epoch 7, comp_score = 0.906, mean_score = 0.810,\n"
     ]
    },
    {
     "name": "stderr",
     "output_type": "stream",
     "text": [
      "                                                    \r"
     ]
    },
    {
     "name": "stdout",
     "output_type": "stream",
     "text": [
      "fold 2 epoch 8, comp_score = 0.904, mean_score = 0.805,\n"
     ]
    },
    {
     "name": "stderr",
     "output_type": "stream",
     "text": [
      "                                                    \r"
     ]
    },
    {
     "name": "stdout",
     "output_type": "stream",
     "text": [
      "fold 2 epoch 9, comp_score = 0.904, mean_score = 0.806,\n"
     ]
    },
    {
     "name": "stderr",
     "output_type": "stream",
     "text": [
      "                                                    \r"
     ]
    },
    {
     "name": "stdout",
     "output_type": "stream",
     "text": [
      "fold 2 epoch 10, comp_score = 0.904, mean_score = 0.802,\n"
     ]
    },
    {
     "name": "stderr",
     "output_type": "stream",
     "text": [
      "                                                    \r"
     ]
    },
    {
     "name": "stdout",
     "output_type": "stream",
     "text": [
      "fold 2 epoch 11, comp_score = 0.907, mean_score = 0.807,\n"
     ]
    },
    {
     "name": "stderr",
     "output_type": "stream",
     "text": [
      "                                                    \r"
     ]
    },
    {
     "name": "stdout",
     "output_type": "stream",
     "text": [
      "fold 2 epoch 12, comp_score = 0.910, mean_score = 0.811,\n"
     ]
    },
    {
     "name": "stderr",
     "output_type": "stream",
     "text": [
      "                                                    \r"
     ]
    },
    {
     "name": "stdout",
     "output_type": "stream",
     "text": [
      "fold 2 epoch 13, comp_score = 0.906, mean_score = 0.807,\n"
     ]
    },
    {
     "name": "stderr",
     "output_type": "stream",
     "text": [
      "                                                    \r"
     ]
    },
    {
     "name": "stdout",
     "output_type": "stream",
     "text": [
      "fold 2 epoch 14, comp_score = 0.906, mean_score = 0.810,\n"
     ]
    },
    {
     "name": "stderr",
     "output_type": "stream",
     "text": [
      "                                                    \r"
     ]
    },
    {
     "name": "stdout",
     "output_type": "stream",
     "text": [
      "fold 2 epoch 15, comp_score = 0.902, mean_score = 0.811,\n"
     ]
    },
    {
     "name": "stderr",
     "output_type": "stream",
     "text": [
      "                                                    \r"
     ]
    },
    {
     "name": "stdout",
     "output_type": "stream",
     "text": [
      "fold 2 epoch 16, comp_score = 0.907, mean_score = 0.811,\n"
     ]
    },
    {
     "name": "stderr",
     "output_type": "stream",
     "text": [
      "                                                    \r"
     ]
    },
    {
     "name": "stdout",
     "output_type": "stream",
     "text": [
      "fold 2 epoch 17, comp_score = 0.902, mean_score = 0.810,\n"
     ]
    },
    {
     "name": "stderr",
     "output_type": "stream",
     "text": [
      "                                                    \r"
     ]
    },
    {
     "name": "stdout",
     "output_type": "stream",
     "text": [
      "fold 2 epoch 18, comp_score = 0.904, mean_score = 0.809,\n"
     ]
    },
    {
     "name": "stderr",
     "output_type": "stream",
     "text": [
      "                                                    \r"
     ]
    },
    {
     "name": "stdout",
     "output_type": "stream",
     "text": [
      "fold 2 epoch 19, comp_score = 0.904, mean_score = 0.804,\n"
     ]
    },
    {
     "name": "stderr",
     "output_type": "stream",
     "text": [
      "                                                    \r"
     ]
    },
    {
     "name": "stdout",
     "output_type": "stream",
     "text": [
      "fold 2 epoch 20, comp_score = 0.905, mean_score = 0.813,\n"
     ]
    },
    {
     "name": "stderr",
     "output_type": "stream",
     "text": [
      "                                                    \r"
     ]
    },
    {
     "name": "stdout",
     "output_type": "stream",
     "text": [
      "fold 2 epoch 21, comp_score = 0.909, mean_score = 0.814,\n"
     ]
    },
    {
     "name": "stderr",
     "output_type": "stream",
     "text": [
      "                                                    \r"
     ]
    },
    {
     "name": "stdout",
     "output_type": "stream",
     "text": [
      "fold 2 epoch 22, comp_score = 0.902, mean_score = 0.805,\n"
     ]
    },
    {
     "name": "stderr",
     "output_type": "stream",
     "text": [
      "                                                    \r"
     ]
    },
    {
     "name": "stdout",
     "output_type": "stream",
     "text": [
      "fold 2 epoch 23, comp_score = 0.908, mean_score = 0.811,\n"
     ]
    },
    {
     "name": "stderr",
     "output_type": "stream",
     "text": [
      "                                                    \r"
     ]
    },
    {
     "name": "stdout",
     "output_type": "stream",
     "text": [
      "fold 2 epoch 24, comp_score = 0.911, mean_score = 0.813,\n"
     ]
    },
    {
     "name": "stderr",
     "output_type": "stream",
     "text": [
      "                                                    \r"
     ]
    },
    {
     "name": "stdout",
     "output_type": "stream",
     "text": [
      "fold 2 epoch 25, comp_score = 0.889, mean_score = 0.787,\n"
     ]
    },
    {
     "name": "stderr",
     "output_type": "stream",
     "text": [
      "                                                    \r"
     ]
    },
    {
     "name": "stdout",
     "output_type": "stream",
     "text": [
      "fold 2 epoch 26, comp_score = 0.912, mean_score = 0.820,\n"
     ]
    },
    {
     "name": "stderr",
     "output_type": "stream",
     "text": [
      "                                                    \r"
     ]
    },
    {
     "name": "stdout",
     "output_type": "stream",
     "text": [
      "fold 2 epoch 27, comp_score = 0.911, mean_score = 0.815,\n"
     ]
    },
    {
     "name": "stderr",
     "output_type": "stream",
     "text": [
      "                                                    \r"
     ]
    },
    {
     "name": "stdout",
     "output_type": "stream",
     "text": [
      "fold 2 epoch 28, comp_score = 0.909, mean_score = 0.812,\n"
     ]
    },
    {
     "name": "stderr",
     "output_type": "stream",
     "text": [
      "                                                    \r"
     ]
    },
    {
     "name": "stdout",
     "output_type": "stream",
     "text": [
      "fold 2 epoch 29, comp_score = 0.912, mean_score = 0.810,\n"
     ]
    },
    {
     "name": "stderr",
     "output_type": "stream",
     "text": [
      "                                                    \r"
     ]
    },
    {
     "name": "stdout",
     "output_type": "stream",
     "text": [
      "fold 2 epoch 30, comp_score = 0.911, mean_score = 0.816,\n"
     ]
    },
    {
     "name": "stderr",
     "output_type": "stream",
     "text": [
      "                                                    \r"
     ]
    },
    {
     "name": "stdout",
     "output_type": "stream",
     "text": [
      "fold 2 epoch 31, comp_score = 0.909, mean_score = 0.816,\n"
     ]
    },
    {
     "name": "stderr",
     "output_type": "stream",
     "text": [
      "                                                    \r"
     ]
    },
    {
     "name": "stdout",
     "output_type": "stream",
     "text": [
      "fold 2 epoch 32, comp_score = 0.909, mean_score = 0.811,\n"
     ]
    },
    {
     "name": "stderr",
     "output_type": "stream",
     "text": [
      "                                                    \r"
     ]
    },
    {
     "name": "stdout",
     "output_type": "stream",
     "text": [
      "fold 2 epoch 33, comp_score = 0.906, mean_score = 0.807,\n"
     ]
    },
    {
     "name": "stderr",
     "output_type": "stream",
     "text": [
      "                                                    \r"
     ]
    },
    {
     "name": "stdout",
     "output_type": "stream",
     "text": [
      "fold 2 epoch 34, comp_score = 0.909, mean_score = 0.812,\n"
     ]
    },
    {
     "name": "stderr",
     "output_type": "stream",
     "text": [
      "                                                    \r"
     ]
    },
    {
     "name": "stdout",
     "output_type": "stream",
     "text": [
      "fold 2 epoch 35, comp_score = 0.916, mean_score = 0.825,\n"
     ]
    },
    {
     "name": "stderr",
     "output_type": "stream",
     "text": [
      "                                                    \r"
     ]
    },
    {
     "name": "stdout",
     "output_type": "stream",
     "text": [
      "fold 2 epoch 36, comp_score = 0.911, mean_score = 0.822,\n"
     ]
    },
    {
     "name": "stderr",
     "output_type": "stream",
     "text": [
      "                                                    \r"
     ]
    },
    {
     "name": "stdout",
     "output_type": "stream",
     "text": [
      "fold 2 epoch 37, comp_score = 0.912, mean_score = 0.822,\n"
     ]
    },
    {
     "name": "stderr",
     "output_type": "stream",
     "text": [
      "                                                    \r"
     ]
    },
    {
     "name": "stdout",
     "output_type": "stream",
     "text": [
      "fold 2 epoch 38, comp_score = 0.914, mean_score = 0.821,\n"
     ]
    },
    {
     "name": "stderr",
     "output_type": "stream",
     "text": [
      "                                                    \r"
     ]
    },
    {
     "name": "stdout",
     "output_type": "stream",
     "text": [
      "fold 2 epoch 39, comp_score = 0.912, mean_score = 0.819,\n"
     ]
    },
    {
     "name": "stderr",
     "output_type": "stream",
     "text": [
      "                                                    \r"
     ]
    },
    {
     "name": "stdout",
     "output_type": "stream",
     "text": [
      "fold 2 epoch 40, comp_score = 0.913, mean_score = 0.820,\n"
     ]
    },
    {
     "name": "stderr",
     "output_type": "stream",
     "text": [
      "                                                    \r"
     ]
    },
    {
     "name": "stdout",
     "output_type": "stream",
     "text": [
      "fold 2 epoch 41, comp_score = 0.913, mean_score = 0.827,\n"
     ]
    },
    {
     "name": "stderr",
     "output_type": "stream",
     "text": [
      "                                                    \r"
     ]
    },
    {
     "name": "stdout",
     "output_type": "stream",
     "text": [
      "fold 2 epoch 42, comp_score = 0.914, mean_score = 0.824,\n"
     ]
    },
    {
     "name": "stderr",
     "output_type": "stream",
     "text": [
      "                                                    \r"
     ]
    },
    {
     "name": "stdout",
     "output_type": "stream",
     "text": [
      "fold 2 epoch 43, comp_score = 0.914, mean_score = 0.826,\n"
     ]
    },
    {
     "name": "stderr",
     "output_type": "stream",
     "text": [
      "                                                    \r"
     ]
    },
    {
     "name": "stdout",
     "output_type": "stream",
     "text": [
      "fold 2 epoch 44, comp_score = 0.914, mean_score = 0.825,\n"
     ]
    },
    {
     "name": "stderr",
     "output_type": "stream",
     "text": [
      "                                                    \r"
     ]
    },
    {
     "name": "stdout",
     "output_type": "stream",
     "text": [
      "fold 2 epoch 45, comp_score = 0.915, mean_score = 0.825,\n"
     ]
    },
    {
     "name": "stderr",
     "output_type": "stream",
     "text": [
      "                                                    \r"
     ]
    },
    {
     "name": "stdout",
     "output_type": "stream",
     "text": [
      "fold 2 epoch 46, comp_score = 0.915, mean_score = 0.827,\n"
     ]
    },
    {
     "name": "stderr",
     "output_type": "stream",
     "text": [
      "                                                    \r"
     ]
    },
    {
     "name": "stdout",
     "output_type": "stream",
     "text": [
      "fold 2 epoch 47, comp_score = 0.915, mean_score = 0.829,\n"
     ]
    },
    {
     "name": "stderr",
     "output_type": "stream",
     "text": [
      "                                                    \r"
     ]
    },
    {
     "name": "stdout",
     "output_type": "stream",
     "text": [
      "fold 2 epoch 48, comp_score = 0.914, mean_score = 0.829,\n"
     ]
    },
    {
     "name": "stderr",
     "output_type": "stream",
     "text": [
      "                                                    \r"
     ]
    },
    {
     "name": "stdout",
     "output_type": "stream",
     "text": [
      "fold 2 epoch 49, comp_score = 0.915, mean_score = 0.826,\n"
     ]
    },
    {
     "name": "stderr",
     "output_type": "stream",
     "text": [
      "                                                    \r"
     ]
    },
    {
     "name": "stdout",
     "output_type": "stream",
     "text": [
      "fold 2 epoch 50, comp_score = 0.914, mean_score = 0.826,\n"
     ]
    },
    {
     "name": "stderr",
     "output_type": "stream",
     "text": [
      "                                                    \r"
     ]
    },
    {
     "name": "stdout",
     "output_type": "stream",
     "text": [
      "fold 2 epoch 51, comp_score = 0.913, mean_score = 0.824,\n"
     ]
    },
    {
     "name": "stderr",
     "output_type": "stream",
     "text": [
      "                                                    \r"
     ]
    },
    {
     "name": "stdout",
     "output_type": "stream",
     "text": [
      "fold 2 epoch 52, comp_score = 0.913, mean_score = 0.826,\n"
     ]
    },
    {
     "name": "stderr",
     "output_type": "stream",
     "text": [
      "                                                    \r"
     ]
    },
    {
     "name": "stdout",
     "output_type": "stream",
     "text": [
      "fold 2 epoch 53, comp_score = 0.914, mean_score = 0.826,\n"
     ]
    },
    {
     "name": "stderr",
     "output_type": "stream",
     "text": [
      "                                                    \r"
     ]
    },
    {
     "name": "stdout",
     "output_type": "stream",
     "text": [
      "fold 2 epoch 54, comp_score = 0.911, mean_score = 0.825,\n"
     ]
    },
    {
     "name": "stderr",
     "output_type": "stream",
     "text": [
      "                                                    \r"
     ]
    },
    {
     "name": "stdout",
     "output_type": "stream",
     "text": [
      "fold 2 epoch 55, comp_score = 0.913, mean_score = 0.826,\n"
     ]
    },
    {
     "name": "stderr",
     "output_type": "stream",
     "text": [
      "                                                    \r"
     ]
    },
    {
     "name": "stdout",
     "output_type": "stream",
     "text": [
      "fold 2 epoch 56, comp_score = 0.912, mean_score = 0.824,\n"
     ]
    },
    {
     "name": "stderr",
     "output_type": "stream",
     "text": [
      "                                                    \r"
     ]
    },
    {
     "name": "stdout",
     "output_type": "stream",
     "text": [
      "fold 2 epoch 57, comp_score = 0.908, mean_score = 0.821,\n"
     ]
    },
    {
     "name": "stderr",
     "output_type": "stream",
     "text": [
      "                                                    \r"
     ]
    },
    {
     "name": "stdout",
     "output_type": "stream",
     "text": [
      "fold 2 epoch 58, comp_score = 0.909, mean_score = 0.821,\n"
     ]
    },
    {
     "name": "stderr",
     "output_type": "stream",
     "text": [
      "                                                    \r"
     ]
    },
    {
     "name": "stdout",
     "output_type": "stream",
     "text": [
      "fold 2 epoch 59, comp_score = 0.910, mean_score = 0.820,\n"
     ]
    },
    {
     "name": "stderr",
     "output_type": "stream",
     "text": [
      "                                                    \r"
     ]
    },
    {
     "name": "stdout",
     "output_type": "stream",
     "text": [
      "fold 2 epoch 60, comp_score = 0.909, mean_score = 0.818,\n"
     ]
    },
    {
     "name": "stderr",
     "output_type": "stream",
     "text": [
      "                                                    \r"
     ]
    },
    {
     "name": "stdout",
     "output_type": "stream",
     "text": [
      "fold 2 epoch 61, comp_score = 0.911, mean_score = 0.816,\n"
     ]
    },
    {
     "name": "stderr",
     "output_type": "stream",
     "text": [
      "                                                    \r"
     ]
    },
    {
     "name": "stdout",
     "output_type": "stream",
     "text": [
      "fold 2 epoch 62, comp_score = 0.904, mean_score = 0.813,\n"
     ]
    },
    {
     "name": "stderr",
     "output_type": "stream",
     "text": [
      "                                                    \r"
     ]
    },
    {
     "name": "stdout",
     "output_type": "stream",
     "text": [
      "fold 2 epoch 63, comp_score = 0.904, mean_score = 0.810,\n"
     ]
    },
    {
     "name": "stderr",
     "output_type": "stream",
     "text": [
      "                                                    \r"
     ]
    },
    {
     "name": "stdout",
     "output_type": "stream",
     "text": [
      "fold 2 epoch 64, comp_score = 0.910, mean_score = 0.811,\n"
     ]
    },
    {
     "name": "stderr",
     "output_type": "stream",
     "text": [
      "                                                    \r"
     ]
    },
    {
     "name": "stdout",
     "output_type": "stream",
     "text": [
      "fold 2 epoch 65, comp_score = 0.915, mean_score = 0.813,\n"
     ]
    },
    {
     "name": "stderr",
     "output_type": "stream",
     "text": [
      "                                                    \r"
     ]
    },
    {
     "name": "stdout",
     "output_type": "stream",
     "text": [
      "fold 2 epoch 66, comp_score = 0.915, mean_score = 0.808,\n"
     ]
    },
    {
     "name": "stderr",
     "output_type": "stream",
     "text": [
      "                                                    \r"
     ]
    },
    {
     "name": "stdout",
     "output_type": "stream",
     "text": [
      "fold 2 epoch 67, comp_score = 0.916, mean_score = 0.812,\n"
     ]
    },
    {
     "name": "stderr",
     "output_type": "stream",
     "text": [
      "                                                    \r"
     ]
    },
    {
     "name": "stdout",
     "output_type": "stream",
     "text": [
      "fold 2 epoch 68, comp_score = 0.912, mean_score = 0.805,\n"
     ]
    },
    {
     "name": "stderr",
     "output_type": "stream",
     "text": [
      "                                                    \r"
     ]
    },
    {
     "name": "stdout",
     "output_type": "stream",
     "text": [
      "fold 2 epoch 69, comp_score = 0.911, mean_score = 0.805,\n"
     ]
    },
    {
     "name": "stderr",
     "output_type": "stream",
     "text": [
      "                                                    \r"
     ]
    },
    {
     "name": "stdout",
     "output_type": "stream",
     "text": [
      "fold 2 epoch 70, comp_score = 0.913, mean_score = 0.798,\n"
     ]
    },
    {
     "name": "stderr",
     "output_type": "stream",
     "text": [
      "                                                    \r"
     ]
    },
    {
     "name": "stdout",
     "output_type": "stream",
     "text": [
      "fold 2 epoch 71, comp_score = 0.911, mean_score = 0.798,\n"
     ]
    },
    {
     "name": "stderr",
     "output_type": "stream",
     "text": [
      "                                                    \r"
     ]
    },
    {
     "name": "stdout",
     "output_type": "stream",
     "text": [
      "fold 2 epoch 72, comp_score = 0.910, mean_score = 0.798,\n"
     ]
    },
    {
     "name": "stderr",
     "output_type": "stream",
     "text": [
      "                                                    \r"
     ]
    },
    {
     "name": "stdout",
     "output_type": "stream",
     "text": [
      "fold 2 epoch 73, comp_score = 0.906, mean_score = 0.790,\n"
     ]
    },
    {
     "name": "stderr",
     "output_type": "stream",
     "text": [
      "                                                    \r"
     ]
    },
    {
     "name": "stdout",
     "output_type": "stream",
     "text": [
      "fold 2 epoch 74, comp_score = 0.907, mean_score = 0.789,\n"
     ]
    },
    {
     "name": "stderr",
     "output_type": "stream",
     "text": [
      "                                                    \r"
     ]
    },
    {
     "name": "stdout",
     "output_type": "stream",
     "text": [
      "fold 2 epoch 75, comp_score = 0.908, mean_score = 0.790,\n"
     ]
    },
    {
     "name": "stderr",
     "output_type": "stream",
     "text": [
      "                                                    \r"
     ]
    },
    {
     "name": "stdout",
     "output_type": "stream",
     "text": [
      "fold 2 epoch 76, comp_score = 0.908, mean_score = 0.792,\n"
     ]
    },
    {
     "name": "stderr",
     "output_type": "stream",
     "text": [
      "                                                    \r"
     ]
    },
    {
     "name": "stdout",
     "output_type": "stream",
     "text": [
      "fold 2 epoch 77, comp_score = 0.908, mean_score = 0.794,\n"
     ]
    },
    {
     "name": "stderr",
     "output_type": "stream",
     "text": [
      "                                                    \r"
     ]
    },
    {
     "name": "stdout",
     "output_type": "stream",
     "text": [
      "fold 2 epoch 78, comp_score = 0.908, mean_score = 0.797,\n"
     ]
    },
    {
     "name": "stderr",
     "output_type": "stream",
     "text": [
      "                                                    \r"
     ]
    },
    {
     "name": "stdout",
     "output_type": "stream",
     "text": [
      "fold 2 epoch 79, comp_score = 0.906, mean_score = 0.796,\n"
     ]
    },
    {
     "name": "stderr",
     "output_type": "stream",
     "text": [
      "                                                    \r"
     ]
    },
    {
     "name": "stdout",
     "output_type": "stream",
     "text": [
      "fold 2 epoch 80, comp_score = 0.908, mean_score = 0.799,\n"
     ]
    },
    {
     "name": "stderr",
     "output_type": "stream",
     "text": [
      "                                                    \r"
     ]
    },
    {
     "name": "stdout",
     "output_type": "stream",
     "text": [
      "fold 2 epoch 81, comp_score = 0.906, mean_score = 0.797,\n"
     ]
    },
    {
     "name": "stderr",
     "output_type": "stream",
     "text": [
      "                                                    \r"
     ]
    },
    {
     "name": "stdout",
     "output_type": "stream",
     "text": [
      "fold 2 epoch 82, comp_score = 0.908, mean_score = 0.798,\n"
     ]
    },
    {
     "name": "stderr",
     "output_type": "stream",
     "text": [
      "                                                    \r"
     ]
    },
    {
     "name": "stdout",
     "output_type": "stream",
     "text": [
      "fold 2 epoch 83, comp_score = 0.907, mean_score = 0.797,\n"
     ]
    },
    {
     "name": "stderr",
     "output_type": "stream",
     "text": [
      "                                                    \r"
     ]
    },
    {
     "name": "stdout",
     "output_type": "stream",
     "text": [
      "fold 2 epoch 84, comp_score = 0.904, mean_score = 0.793,\n"
     ]
    },
    {
     "name": "stderr",
     "output_type": "stream",
     "text": [
      "                                                    \r"
     ]
    },
    {
     "name": "stdout",
     "output_type": "stream",
     "text": [
      "fold 2 epoch 85, comp_score = 0.903, mean_score = 0.790,\n"
     ]
    },
    {
     "name": "stderr",
     "output_type": "stream",
     "text": [
      "                                                    \r"
     ]
    },
    {
     "name": "stdout",
     "output_type": "stream",
     "text": [
      "fold 2 epoch 86, comp_score = 0.904, mean_score = 0.792,\n"
     ]
    },
    {
     "name": "stderr",
     "output_type": "stream",
     "text": [
      "                                                    \r"
     ]
    },
    {
     "name": "stdout",
     "output_type": "stream",
     "text": [
      "fold 2 epoch 87, comp_score = 0.902, mean_score = 0.791,\n"
     ]
    },
    {
     "name": "stderr",
     "output_type": "stream",
     "text": [
      "                                                    \r"
     ]
    },
    {
     "name": "stdout",
     "output_type": "stream",
     "text": [
      "fold 2 epoch 88, comp_score = 0.901, mean_score = 0.790,\n"
     ]
    },
    {
     "name": "stderr",
     "output_type": "stream",
     "text": [
      "                                                    \r"
     ]
    },
    {
     "name": "stdout",
     "output_type": "stream",
     "text": [
      "fold 2 epoch 89, comp_score = 0.902, mean_score = 0.790,\n"
     ]
    },
    {
     "name": "stderr",
     "output_type": "stream",
     "text": [
      "                                                    \r"
     ]
    },
    {
     "name": "stdout",
     "output_type": "stream",
     "text": [
      "fold 3 epoch 0, comp_score = 0.905, mean_score = 0.779,\n"
     ]
    },
    {
     "name": "stderr",
     "output_type": "stream",
     "text": [
      "                                                    \r"
     ]
    },
    {
     "name": "stdout",
     "output_type": "stream",
     "text": [
      "fold 3 epoch 1, comp_score = 0.900, mean_score = 0.770,\n"
     ]
    },
    {
     "name": "stderr",
     "output_type": "stream",
     "text": [
      "                                                    \r"
     ]
    },
    {
     "name": "stdout",
     "output_type": "stream",
     "text": [
      "fold 3 epoch 2, comp_score = 0.906, mean_score = 0.810,\n"
     ]
    },
    {
     "name": "stderr",
     "output_type": "stream",
     "text": [
      "                                                    \r"
     ]
    },
    {
     "name": "stdout",
     "output_type": "stream",
     "text": [
      "fold 3 epoch 3, comp_score = 0.889, mean_score = 0.772,\n"
     ]
    },
    {
     "name": "stderr",
     "output_type": "stream",
     "text": [
      "                                                    \r"
     ]
    },
    {
     "name": "stdout",
     "output_type": "stream",
     "text": [
      "fold 3 epoch 4, comp_score = 0.893, mean_score = 0.792,\n"
     ]
    },
    {
     "name": "stderr",
     "output_type": "stream",
     "text": [
      "                                                    \r"
     ]
    },
    {
     "name": "stdout",
     "output_type": "stream",
     "text": [
      "fold 3 epoch 5, comp_score = 0.908, mean_score = 0.811,\n"
     ]
    },
    {
     "name": "stderr",
     "output_type": "stream",
     "text": [
      "                                                    \r"
     ]
    },
    {
     "name": "stdout",
     "output_type": "stream",
     "text": [
      "fold 3 epoch 6, comp_score = 0.907, mean_score = 0.811,\n"
     ]
    },
    {
     "name": "stderr",
     "output_type": "stream",
     "text": [
      "                                                    \r"
     ]
    },
    {
     "name": "stdout",
     "output_type": "stream",
     "text": [
      "fold 3 epoch 7, comp_score = 0.907, mean_score = 0.820,\n"
     ]
    },
    {
     "name": "stderr",
     "output_type": "stream",
     "text": [
      "                                                    \r"
     ]
    },
    {
     "name": "stdout",
     "output_type": "stream",
     "text": [
      "fold 3 epoch 8, comp_score = 0.920, mean_score = 0.831,\n"
     ]
    },
    {
     "name": "stderr",
     "output_type": "stream",
     "text": [
      "                                                    \r"
     ]
    },
    {
     "name": "stdout",
     "output_type": "stream",
     "text": [
      "fold 3 epoch 9, comp_score = 0.915, mean_score = 0.828,\n"
     ]
    },
    {
     "name": "stderr",
     "output_type": "stream",
     "text": [
      "                                                    \r"
     ]
    },
    {
     "name": "stdout",
     "output_type": "stream",
     "text": [
      "fold 3 epoch 10, comp_score = 0.908, mean_score = 0.815,\n"
     ]
    },
    {
     "name": "stderr",
     "output_type": "stream",
     "text": [
      "                                                    \r"
     ]
    },
    {
     "name": "stdout",
     "output_type": "stream",
     "text": [
      "fold 3 epoch 11, comp_score = 0.919, mean_score = 0.830,\n"
     ]
    },
    {
     "name": "stderr",
     "output_type": "stream",
     "text": [
      "                                                    \r"
     ]
    },
    {
     "name": "stdout",
     "output_type": "stream",
     "text": [
      "fold 3 epoch 12, comp_score = 0.912, mean_score = 0.826,\n"
     ]
    },
    {
     "name": "stderr",
     "output_type": "stream",
     "text": [
      "                                                    \r"
     ]
    },
    {
     "name": "stdout",
     "output_type": "stream",
     "text": [
      "fold 3 epoch 13, comp_score = 0.915, mean_score = 0.813,\n"
     ]
    },
    {
     "name": "stderr",
     "output_type": "stream",
     "text": [
      "                                                    \r"
     ]
    },
    {
     "name": "stdout",
     "output_type": "stream",
     "text": [
      "fold 3 epoch 14, comp_score = 0.915, mean_score = 0.824,\n"
     ]
    },
    {
     "name": "stderr",
     "output_type": "stream",
     "text": [
      "                                                    \r"
     ]
    },
    {
     "name": "stdout",
     "output_type": "stream",
     "text": [
      "fold 3 epoch 15, comp_score = 0.914, mean_score = 0.828,\n"
     ]
    },
    {
     "name": "stderr",
     "output_type": "stream",
     "text": [
      "                                                    \r"
     ]
    },
    {
     "name": "stdout",
     "output_type": "stream",
     "text": [
      "fold 3 epoch 16, comp_score = 0.916, mean_score = 0.822,\n"
     ]
    },
    {
     "name": "stderr",
     "output_type": "stream",
     "text": [
      "                                                    \r"
     ]
    },
    {
     "name": "stdout",
     "output_type": "stream",
     "text": [
      "fold 3 epoch 17, comp_score = 0.913, mean_score = 0.825,\n"
     ]
    },
    {
     "name": "stderr",
     "output_type": "stream",
     "text": [
      "                                                    \r"
     ]
    },
    {
     "name": "stdout",
     "output_type": "stream",
     "text": [
      "fold 3 epoch 18, comp_score = 0.914, mean_score = 0.822,\n"
     ]
    },
    {
     "name": "stderr",
     "output_type": "stream",
     "text": [
      "                                                    \r"
     ]
    },
    {
     "name": "stdout",
     "output_type": "stream",
     "text": [
      "fold 3 epoch 19, comp_score = 0.913, mean_score = 0.808,\n"
     ]
    },
    {
     "name": "stderr",
     "output_type": "stream",
     "text": [
      "                                                    \r"
     ]
    },
    {
     "name": "stdout",
     "output_type": "stream",
     "text": [
      "fold 3 epoch 20, comp_score = 0.915, mean_score = 0.796,\n"
     ]
    },
    {
     "name": "stderr",
     "output_type": "stream",
     "text": [
      "                                                    \r"
     ]
    },
    {
     "name": "stdout",
     "output_type": "stream",
     "text": [
      "fold 3 epoch 21, comp_score = 0.911, mean_score = 0.816,\n"
     ]
    },
    {
     "name": "stderr",
     "output_type": "stream",
     "text": [
      "                                                    \r"
     ]
    },
    {
     "name": "stdout",
     "output_type": "stream",
     "text": [
      "fold 3 epoch 22, comp_score = 0.908, mean_score = 0.768,\n"
     ]
    },
    {
     "name": "stderr",
     "output_type": "stream",
     "text": [
      "                                                    \r"
     ]
    },
    {
     "name": "stdout",
     "output_type": "stream",
     "text": [
      "fold 3 epoch 23, comp_score = 0.915, mean_score = 0.790,\n"
     ]
    },
    {
     "name": "stderr",
     "output_type": "stream",
     "text": [
      "                                                    \r"
     ]
    },
    {
     "name": "stdout",
     "output_type": "stream",
     "text": [
      "fold 3 epoch 24, comp_score = 0.917, mean_score = 0.799,\n"
     ]
    },
    {
     "name": "stderr",
     "output_type": "stream",
     "text": [
      "                                                    \r"
     ]
    },
    {
     "name": "stdout",
     "output_type": "stream",
     "text": [
      "fold 3 epoch 25, comp_score = 0.924, mean_score = 0.829,\n"
     ]
    },
    {
     "name": "stderr",
     "output_type": "stream",
     "text": [
      "                                                    \r"
     ]
    },
    {
     "name": "stdout",
     "output_type": "stream",
     "text": [
      "fold 3 epoch 26, comp_score = 0.918, mean_score = 0.790,\n"
     ]
    },
    {
     "name": "stderr",
     "output_type": "stream",
     "text": [
      "                                                    \r"
     ]
    },
    {
     "name": "stdout",
     "output_type": "stream",
     "text": [
      "fold 3 epoch 27, comp_score = 0.922, mean_score = 0.799,\n"
     ]
    },
    {
     "name": "stderr",
     "output_type": "stream",
     "text": [
      "                                                    \r"
     ]
    },
    {
     "name": "stdout",
     "output_type": "stream",
     "text": [
      "fold 3 epoch 28, comp_score = 0.910, mean_score = 0.812,\n"
     ]
    },
    {
     "name": "stderr",
     "output_type": "stream",
     "text": [
      "                                                    \r"
     ]
    },
    {
     "name": "stdout",
     "output_type": "stream",
     "text": [
      "fold 3 epoch 29, comp_score = 0.917, mean_score = 0.824,\n"
     ]
    },
    {
     "name": "stderr",
     "output_type": "stream",
     "text": [
      "                                                    \r"
     ]
    },
    {
     "name": "stdout",
     "output_type": "stream",
     "text": [
      "fold 3 epoch 30, comp_score = 0.908, mean_score = 0.803,\n"
     ]
    },
    {
     "name": "stderr",
     "output_type": "stream",
     "text": [
      "                                                    \r"
     ]
    },
    {
     "name": "stdout",
     "output_type": "stream",
     "text": [
      "fold 3 epoch 31, comp_score = 0.912, mean_score = 0.813,\n"
     ]
    },
    {
     "name": "stderr",
     "output_type": "stream",
     "text": [
      "                                                    \r"
     ]
    },
    {
     "name": "stdout",
     "output_type": "stream",
     "text": [
      "fold 3 epoch 32, comp_score = 0.921, mean_score = 0.831,\n"
     ]
    },
    {
     "name": "stderr",
     "output_type": "stream",
     "text": [
      "                                                    \r"
     ]
    },
    {
     "name": "stdout",
     "output_type": "stream",
     "text": [
      "fold 3 epoch 33, comp_score = 0.913, mean_score = 0.810,\n"
     ]
    },
    {
     "name": "stderr",
     "output_type": "stream",
     "text": [
      "                                                    \r"
     ]
    },
    {
     "name": "stdout",
     "output_type": "stream",
     "text": [
      "fold 3 epoch 34, comp_score = 0.907, mean_score = 0.809,\n"
     ]
    },
    {
     "name": "stderr",
     "output_type": "stream",
     "text": [
      "                                                    \r"
     ]
    },
    {
     "name": "stdout",
     "output_type": "stream",
     "text": [
      "fold 3 epoch 35, comp_score = 0.895, mean_score = 0.793,\n"
     ]
    },
    {
     "name": "stderr",
     "output_type": "stream",
     "text": [
      "                                                    \r"
     ]
    },
    {
     "name": "stdout",
     "output_type": "stream",
     "text": [
      "fold 3 epoch 36, comp_score = 0.923, mean_score = 0.827,\n"
     ]
    },
    {
     "name": "stderr",
     "output_type": "stream",
     "text": [
      "                                                    \r"
     ]
    },
    {
     "name": "stdout",
     "output_type": "stream",
     "text": [
      "fold 3 epoch 37, comp_score = 0.910, mean_score = 0.814,\n"
     ]
    },
    {
     "name": "stderr",
     "output_type": "stream",
     "text": [
      "                                                    \r"
     ]
    },
    {
     "name": "stdout",
     "output_type": "stream",
     "text": [
      "fold 3 epoch 38, comp_score = 0.916, mean_score = 0.825,\n"
     ]
    },
    {
     "name": "stderr",
     "output_type": "stream",
     "text": [
      "                                                    \r"
     ]
    },
    {
     "name": "stdout",
     "output_type": "stream",
     "text": [
      "fold 3 epoch 39, comp_score = 0.915, mean_score = 0.823,\n"
     ]
    },
    {
     "name": "stderr",
     "output_type": "stream",
     "text": [
      "                                                    \r"
     ]
    },
    {
     "name": "stdout",
     "output_type": "stream",
     "text": [
      "fold 3 epoch 40, comp_score = 0.921, mean_score = 0.830,\n"
     ]
    },
    {
     "name": "stderr",
     "output_type": "stream",
     "text": [
      "                                                    \r"
     ]
    },
    {
     "name": "stdout",
     "output_type": "stream",
     "text": [
      "fold 3 epoch 41, comp_score = 0.914, mean_score = 0.814,\n"
     ]
    },
    {
     "name": "stderr",
     "output_type": "stream",
     "text": [
      "                                                    \r"
     ]
    },
    {
     "name": "stdout",
     "output_type": "stream",
     "text": [
      "fold 3 epoch 42, comp_score = 0.916, mean_score = 0.820,\n"
     ]
    },
    {
     "name": "stderr",
     "output_type": "stream",
     "text": [
      "                                                    \r"
     ]
    },
    {
     "name": "stdout",
     "output_type": "stream",
     "text": [
      "fold 3 epoch 43, comp_score = 0.921, mean_score = 0.826,\n"
     ]
    },
    {
     "name": "stderr",
     "output_type": "stream",
     "text": [
      "                                                    \r"
     ]
    },
    {
     "name": "stdout",
     "output_type": "stream",
     "text": [
      "fold 3 epoch 44, comp_score = 0.921, mean_score = 0.831,\n"
     ]
    },
    {
     "name": "stderr",
     "output_type": "stream",
     "text": [
      "                                                    \r"
     ]
    },
    {
     "name": "stdout",
     "output_type": "stream",
     "text": [
      "fold 3 epoch 45, comp_score = 0.911, mean_score = 0.812,\n"
     ]
    },
    {
     "name": "stderr",
     "output_type": "stream",
     "text": [
      "                                                   \r"
     ]
    },
    {
     "name": "stdout",
     "output_type": "stream",
     "text": [
      "fold 3 epoch 46, comp_score = 0.921, mean_score = 0.822,\n"
     ]
    },
    {
     "name": "stderr",
     "output_type": "stream",
     "text": [
      "                                                    \r"
     ]
    },
    {
     "name": "stdout",
     "output_type": "stream",
     "text": [
      "fold 3 epoch 48, comp_score = 0.922, mean_score = 0.832,\n"
     ]
    },
    {
     "name": "stderr",
     "output_type": "stream",
     "text": [
      "                                                    \r"
     ]
    },
    {
     "name": "stdout",
     "output_type": "stream",
     "text": [
      "fold 3 epoch 49, comp_score = 0.923, mean_score = 0.834,\n"
     ]
    },
    {
     "name": "stderr",
     "output_type": "stream",
     "text": [
      "                                                    \r"
     ]
    },
    {
     "name": "stdout",
     "output_type": "stream",
     "text": [
      "fold 3 epoch 50, comp_score = 0.924, mean_score = 0.830,\n"
     ]
    },
    {
     "name": "stderr",
     "output_type": "stream",
     "text": [
      "                                                    \r"
     ]
    },
    {
     "name": "stdout",
     "output_type": "stream",
     "text": [
      "fold 3 epoch 51, comp_score = 0.924, mean_score = 0.833,\n"
     ]
    },
    {
     "name": "stderr",
     "output_type": "stream",
     "text": [
      "                                                    \r"
     ]
    },
    {
     "name": "stdout",
     "output_type": "stream",
     "text": [
      "fold 3 epoch 52, comp_score = 0.925, mean_score = 0.838,\n"
     ]
    },
    {
     "name": "stderr",
     "output_type": "stream",
     "text": [
      "                                                    \r"
     ]
    },
    {
     "name": "stdout",
     "output_type": "stream",
     "text": [
      "fold 3 epoch 53, comp_score = 0.921, mean_score = 0.834,\n"
     ]
    },
    {
     "name": "stderr",
     "output_type": "stream",
     "text": [
      "                                                    \r"
     ]
    },
    {
     "name": "stdout",
     "output_type": "stream",
     "text": [
      "fold 3 epoch 54, comp_score = 0.924, mean_score = 0.831,\n"
     ]
    },
    {
     "name": "stderr",
     "output_type": "stream",
     "text": [
      "                                                    \r"
     ]
    },
    {
     "name": "stdout",
     "output_type": "stream",
     "text": [
      "fold 3 epoch 55, comp_score = 0.917, mean_score = 0.817,\n"
     ]
    },
    {
     "name": "stderr",
     "output_type": "stream",
     "text": [
      "                                                    \r"
     ]
    },
    {
     "name": "stdout",
     "output_type": "stream",
     "text": [
      "fold 3 epoch 56, comp_score = 0.917, mean_score = 0.822,\n"
     ]
    },
    {
     "name": "stderr",
     "output_type": "stream",
     "text": [
      "                                                    \r"
     ]
    },
    {
     "name": "stdout",
     "output_type": "stream",
     "text": [
      "fold 3 epoch 57, comp_score = 0.915, mean_score = 0.828,\n"
     ]
    },
    {
     "name": "stderr",
     "output_type": "stream",
     "text": [
      "                                                    \r"
     ]
    },
    {
     "name": "stdout",
     "output_type": "stream",
     "text": [
      "fold 3 epoch 58, comp_score = 0.908, mean_score = 0.812,\n"
     ]
    },
    {
     "name": "stderr",
     "output_type": "stream",
     "text": [
      "                                                    \r"
     ]
    },
    {
     "name": "stdout",
     "output_type": "stream",
     "text": [
      "fold 3 epoch 59, comp_score = 0.907, mean_score = 0.818,\n"
     ]
    },
    {
     "name": "stderr",
     "output_type": "stream",
     "text": [
      "                                                    \r"
     ]
    },
    {
     "name": "stdout",
     "output_type": "stream",
     "text": [
      "fold 3 epoch 60, comp_score = 0.906, mean_score = 0.816,\n"
     ]
    },
    {
     "name": "stderr",
     "output_type": "stream",
     "text": [
      "                                                    \r"
     ]
    },
    {
     "name": "stdout",
     "output_type": "stream",
     "text": [
      "fold 3 epoch 61, comp_score = 0.907, mean_score = 0.815,\n"
     ]
    },
    {
     "name": "stderr",
     "output_type": "stream",
     "text": [
      "                                                    \r"
     ]
    },
    {
     "name": "stdout",
     "output_type": "stream",
     "text": [
      "fold 3 epoch 62, comp_score = 0.910, mean_score = 0.818,\n"
     ]
    },
    {
     "name": "stderr",
     "output_type": "stream",
     "text": [
      "                                                    \r"
     ]
    },
    {
     "name": "stdout",
     "output_type": "stream",
     "text": [
      "fold 3 epoch 63, comp_score = 0.908, mean_score = 0.815,\n"
     ]
    },
    {
     "name": "stderr",
     "output_type": "stream",
     "text": [
      "                                                    \r"
     ]
    },
    {
     "name": "stdout",
     "output_type": "stream",
     "text": [
      "fold 3 epoch 64, comp_score = 0.912, mean_score = 0.818,\n"
     ]
    },
    {
     "name": "stderr",
     "output_type": "stream",
     "text": [
      "                                                    \r"
     ]
    },
    {
     "name": "stdout",
     "output_type": "stream",
     "text": [
      "fold 3 epoch 65, comp_score = 0.909, mean_score = 0.810,\n"
     ]
    },
    {
     "name": "stderr",
     "output_type": "stream",
     "text": [
      "                                                    \r"
     ]
    },
    {
     "name": "stdout",
     "output_type": "stream",
     "text": [
      "fold 3 epoch 66, comp_score = 0.906, mean_score = 0.803,\n"
     ]
    },
    {
     "name": "stderr",
     "output_type": "stream",
     "text": [
      "                                                    \r"
     ]
    },
    {
     "name": "stdout",
     "output_type": "stream",
     "text": [
      "fold 3 epoch 67, comp_score = 0.912, mean_score = 0.807,\n"
     ]
    },
    {
     "name": "stderr",
     "output_type": "stream",
     "text": [
      "                                                    \r"
     ]
    },
    {
     "name": "stdout",
     "output_type": "stream",
     "text": [
      "fold 3 epoch 69, comp_score = 0.908, mean_score = 0.804,\n"
     ]
    },
    {
     "name": "stderr",
     "output_type": "stream",
     "text": [
      "                                                    \r"
     ]
    },
    {
     "name": "stdout",
     "output_type": "stream",
     "text": [
      "fold 3 epoch 70, comp_score = 0.908, mean_score = 0.805,\n"
     ]
    },
    {
     "name": "stderr",
     "output_type": "stream",
     "text": [
      "                                                    \r"
     ]
    },
    {
     "name": "stdout",
     "output_type": "stream",
     "text": [
      "fold 3 epoch 71, comp_score = 0.906, mean_score = 0.804,\n"
     ]
    },
    {
     "name": "stderr",
     "output_type": "stream",
     "text": [
      "                                                    \r"
     ]
    },
    {
     "name": "stdout",
     "output_type": "stream",
     "text": [
      "fold 3 epoch 72, comp_score = 0.905, mean_score = 0.799,\n"
     ]
    },
    {
     "name": "stderr",
     "output_type": "stream",
     "text": [
      "                                                    \r"
     ]
    },
    {
     "name": "stdout",
     "output_type": "stream",
     "text": [
      "fold 3 epoch 73, comp_score = 0.914, mean_score = 0.804,\n"
     ]
    },
    {
     "name": "stderr",
     "output_type": "stream",
     "text": [
      "                                                    \r"
     ]
    },
    {
     "name": "stdout",
     "output_type": "stream",
     "text": [
      "fold 3 epoch 74, comp_score = 0.915, mean_score = 0.805,\n"
     ]
    },
    {
     "name": "stderr",
     "output_type": "stream",
     "text": [
      "                                                    \r"
     ]
    },
    {
     "name": "stdout",
     "output_type": "stream",
     "text": [
      "fold 3 epoch 75, comp_score = 0.917, mean_score = 0.808,\n"
     ]
    },
    {
     "name": "stderr",
     "output_type": "stream",
     "text": [
      "                                                    \r"
     ]
    },
    {
     "name": "stdout",
     "output_type": "stream",
     "text": [
      "fold 3 epoch 76, comp_score = 0.918, mean_score = 0.811,\n"
     ]
    },
    {
     "name": "stderr",
     "output_type": "stream",
     "text": [
      "                                                    \r"
     ]
    },
    {
     "name": "stdout",
     "output_type": "stream",
     "text": [
      "fold 3 epoch 77, comp_score = 0.916, mean_score = 0.809,\n"
     ]
    },
    {
     "name": "stderr",
     "output_type": "stream",
     "text": [
      "                                                    \r"
     ]
    },
    {
     "name": "stdout",
     "output_type": "stream",
     "text": [
      "fold 3 epoch 78, comp_score = 0.918, mean_score = 0.811,\n"
     ]
    },
    {
     "name": "stderr",
     "output_type": "stream",
     "text": [
      "                                                    \r"
     ]
    },
    {
     "name": "stdout",
     "output_type": "stream",
     "text": [
      "fold 3 epoch 79, comp_score = 0.917, mean_score = 0.811,\n"
     ]
    },
    {
     "name": "stderr",
     "output_type": "stream",
     "text": [
      "                                                    \r"
     ]
    },
    {
     "name": "stdout",
     "output_type": "stream",
     "text": [
      "fold 3 epoch 80, comp_score = 0.918, mean_score = 0.809,\n"
     ]
    },
    {
     "name": "stderr",
     "output_type": "stream",
     "text": [
      "                                                    \r"
     ]
    },
    {
     "name": "stdout",
     "output_type": "stream",
     "text": [
      "fold 3 epoch 81, comp_score = 0.919, mean_score = 0.811,\n"
     ]
    },
    {
     "name": "stderr",
     "output_type": "stream",
     "text": [
      "                                                    \r"
     ]
    },
    {
     "name": "stdout",
     "output_type": "stream",
     "text": [
      "fold 3 epoch 82, comp_score = 0.919, mean_score = 0.813,\n"
     ]
    },
    {
     "name": "stderr",
     "output_type": "stream",
     "text": [
      "                                                    \r"
     ]
    },
    {
     "name": "stdout",
     "output_type": "stream",
     "text": [
      "fold 3 epoch 83, comp_score = 0.919, mean_score = 0.815,\n"
     ]
    },
    {
     "name": "stderr",
     "output_type": "stream",
     "text": [
      "                                                    \r"
     ]
    },
    {
     "name": "stdout",
     "output_type": "stream",
     "text": [
      "fold 3 epoch 84, comp_score = 0.919, mean_score = 0.814,\n"
     ]
    },
    {
     "name": "stderr",
     "output_type": "stream",
     "text": [
      "                                                    \r"
     ]
    },
    {
     "name": "stdout",
     "output_type": "stream",
     "text": [
      "fold 3 epoch 85, comp_score = 0.918, mean_score = 0.814,\n"
     ]
    },
    {
     "name": "stderr",
     "output_type": "stream",
     "text": [
      "                                                    \r"
     ]
    },
    {
     "name": "stdout",
     "output_type": "stream",
     "text": [
      "fold 3 epoch 86, comp_score = 0.919, mean_score = 0.814,\n"
     ]
    },
    {
     "name": "stderr",
     "output_type": "stream",
     "text": [
      "                                                    \r"
     ]
    },
    {
     "name": "stdout",
     "output_type": "stream",
     "text": [
      "fold 3 epoch 87, comp_score = 0.917, mean_score = 0.810,\n"
     ]
    },
    {
     "name": "stderr",
     "output_type": "stream",
     "text": [
      "                                                    \r"
     ]
    },
    {
     "name": "stdout",
     "output_type": "stream",
     "text": [
      "fold 3 epoch 88, comp_score = 0.917, mean_score = 0.809,\n"
     ]
    },
    {
     "name": "stderr",
     "output_type": "stream",
     "text": [
      "                                                    \r"
     ]
    },
    {
     "name": "stdout",
     "output_type": "stream",
     "text": [
      "fold 4 epoch 0, comp_score = 0.915, mean_score = 0.807,\n"
     ]
    },
    {
     "name": "stderr",
     "output_type": "stream",
     "text": [
      "                                                    \r"
     ]
    },
    {
     "name": "stdout",
     "output_type": "stream",
     "text": [
      "fold 4 epoch 1, comp_score = 0.918, mean_score = 0.815,\n"
     ]
    },
    {
     "name": "stderr",
     "output_type": "stream",
     "text": [
      "                                                    \r"
     ]
    },
    {
     "name": "stdout",
     "output_type": "stream",
     "text": [
      "fold 4 epoch 2, comp_score = 0.924, mean_score = 0.827,\n"
     ]
    },
    {
     "name": "stderr",
     "output_type": "stream",
     "text": [
      "                                                    \r"
     ]
    },
    {
     "name": "stdout",
     "output_type": "stream",
     "text": [
      "fold 4 epoch 3, comp_score = 0.914, mean_score = 0.822,\n"
     ]
    },
    {
     "name": "stderr",
     "output_type": "stream",
     "text": [
      "                                                    \r"
     ]
    },
    {
     "name": "stdout",
     "output_type": "stream",
     "text": [
      "fold 4 epoch 4, comp_score = 0.922, mean_score = 0.829,\n"
     ]
    },
    {
     "name": "stderr",
     "output_type": "stream",
     "text": [
      "                                                    \r"
     ]
    },
    {
     "name": "stdout",
     "output_type": "stream",
     "text": [
      "fold 4 epoch 5, comp_score = 0.927, mean_score = 0.836,\n"
     ]
    },
    {
     "name": "stderr",
     "output_type": "stream",
     "text": [
      "                                                    \r"
     ]
    },
    {
     "name": "stdout",
     "output_type": "stream",
     "text": [
      "fold 4 epoch 6, comp_score = 0.929, mean_score = 0.838,\n"
     ]
    },
    {
     "name": "stderr",
     "output_type": "stream",
     "text": [
      "                                                    \r"
     ]
    },
    {
     "name": "stdout",
     "output_type": "stream",
     "text": [
      "fold 4 epoch 7, comp_score = 0.924, mean_score = 0.831,\n"
     ]
    },
    {
     "name": "stderr",
     "output_type": "stream",
     "text": [
      "                                                    \r"
     ]
    },
    {
     "name": "stdout",
     "output_type": "stream",
     "text": [
      "fold 4 epoch 8, comp_score = 0.920, mean_score = 0.811,\n"
     ]
    },
    {
     "name": "stderr",
     "output_type": "stream",
     "text": [
      "                                                    \r"
     ]
    },
    {
     "name": "stdout",
     "output_type": "stream",
     "text": [
      "fold 4 epoch 9, comp_score = 0.915, mean_score = 0.817,\n"
     ]
    },
    {
     "name": "stderr",
     "output_type": "stream",
     "text": [
      "                                                    \r"
     ]
    },
    {
     "name": "stdout",
     "output_type": "stream",
     "text": [
      "fold 4 epoch 10, comp_score = 0.919, mean_score = 0.832,\n"
     ]
    },
    {
     "name": "stderr",
     "output_type": "stream",
     "text": [
      "                                                    \r"
     ]
    },
    {
     "name": "stdout",
     "output_type": "stream",
     "text": [
      "fold 4 epoch 11, comp_score = 0.924, mean_score = 0.832,\n"
     ]
    },
    {
     "name": "stderr",
     "output_type": "stream",
     "text": [
      "                                                    \r"
     ]
    },
    {
     "name": "stdout",
     "output_type": "stream",
     "text": [
      "fold 4 epoch 12, comp_score = 0.921, mean_score = 0.815,\n"
     ]
    },
    {
     "name": "stderr",
     "output_type": "stream",
     "text": [
      "                                                    \r"
     ]
    },
    {
     "name": "stdout",
     "output_type": "stream",
     "text": [
      "fold 4 epoch 13, comp_score = 0.881, mean_score = 0.763,\n"
     ]
    },
    {
     "name": "stderr",
     "output_type": "stream",
     "text": [
      "                                                    \r"
     ]
    },
    {
     "name": "stdout",
     "output_type": "stream",
     "text": [
      "fold 4 epoch 14, comp_score = 0.923, mean_score = 0.826,\n"
     ]
    },
    {
     "name": "stderr",
     "output_type": "stream",
     "text": [
      "                                                    \r"
     ]
    },
    {
     "name": "stdout",
     "output_type": "stream",
     "text": [
      "fold 4 epoch 15, comp_score = 0.920, mean_score = 0.811,\n"
     ]
    },
    {
     "name": "stderr",
     "output_type": "stream",
     "text": [
      "                                                    \r"
     ]
    },
    {
     "name": "stdout",
     "output_type": "stream",
     "text": [
      "fold 4 epoch 16, comp_score = 0.925, mean_score = 0.831,\n"
     ]
    },
    {
     "name": "stderr",
     "output_type": "stream",
     "text": [
      "                                                    \r"
     ]
    },
    {
     "name": "stdout",
     "output_type": "stream",
     "text": [
      "fold 4 epoch 17, comp_score = 0.886, mean_score = 0.772,\n"
     ]
    },
    {
     "name": "stderr",
     "output_type": "stream",
     "text": [
      "                                                    \r"
     ]
    },
    {
     "name": "stdout",
     "output_type": "stream",
     "text": [
      "fold 4 epoch 18, comp_score = 0.916, mean_score = 0.812,\n"
     ]
    },
    {
     "name": "stderr",
     "output_type": "stream",
     "text": [
      "                                                    \r"
     ]
    },
    {
     "name": "stdout",
     "output_type": "stream",
     "text": [
      "fold 4 epoch 19, comp_score = 0.916, mean_score = 0.811,\n"
     ]
    },
    {
     "name": "stderr",
     "output_type": "stream",
     "text": [
      "                                                    \r"
     ]
    },
    {
     "name": "stdout",
     "output_type": "stream",
     "text": [
      "fold 4 epoch 20, comp_score = 0.920, mean_score = 0.821,\n"
     ]
    },
    {
     "name": "stderr",
     "output_type": "stream",
     "text": [
      "                                                    \r"
     ]
    },
    {
     "name": "stdout",
     "output_type": "stream",
     "text": [
      "fold 4 epoch 21, comp_score = 0.913, mean_score = 0.810,\n"
     ]
    },
    {
     "name": "stderr",
     "output_type": "stream",
     "text": [
      "                                                    \r"
     ]
    },
    {
     "name": "stdout",
     "output_type": "stream",
     "text": [
      "fold 4 epoch 22, comp_score = 0.922, mean_score = 0.819,\n"
     ]
    },
    {
     "name": "stderr",
     "output_type": "stream",
     "text": [
      "                                                    \r"
     ]
    },
    {
     "name": "stdout",
     "output_type": "stream",
     "text": [
      "fold 4 epoch 23, comp_score = 0.925, mean_score = 0.818,\n"
     ]
    },
    {
     "name": "stderr",
     "output_type": "stream",
     "text": [
      "                                                    \r"
     ]
    },
    {
     "name": "stdout",
     "output_type": "stream",
     "text": [
      "fold 4 epoch 24, comp_score = 0.924, mean_score = 0.829,\n"
     ]
    },
    {
     "name": "stderr",
     "output_type": "stream",
     "text": [
      "                                                    \r"
     ]
    },
    {
     "name": "stdout",
     "output_type": "stream",
     "text": [
      "fold 4 epoch 25, comp_score = 0.923, mean_score = 0.825,\n"
     ]
    },
    {
     "name": "stderr",
     "output_type": "stream",
     "text": [
      "                                                    \r"
     ]
    },
    {
     "name": "stdout",
     "output_type": "stream",
     "text": [
      "fold 4 epoch 26, comp_score = 0.914, mean_score = 0.803,\n"
     ]
    },
    {
     "name": "stderr",
     "output_type": "stream",
     "text": [
      "                                                    \r"
     ]
    },
    {
     "name": "stdout",
     "output_type": "stream",
     "text": [
      "fold 4 epoch 27, comp_score = 0.910, mean_score = 0.808,\n"
     ]
    },
    {
     "name": "stderr",
     "output_type": "stream",
     "text": [
      "                                                    \r"
     ]
    },
    {
     "name": "stdout",
     "output_type": "stream",
     "text": [
      "fold 4 epoch 28, comp_score = 0.914, mean_score = 0.813,\n"
     ]
    },
    {
     "name": "stderr",
     "output_type": "stream",
     "text": [
      "                                                    \r"
     ]
    },
    {
     "name": "stdout",
     "output_type": "stream",
     "text": [
      "fold 4 epoch 29, comp_score = 0.915, mean_score = 0.812,\n"
     ]
    },
    {
     "name": "stderr",
     "output_type": "stream",
     "text": [
      "                                                    \r"
     ]
    },
    {
     "name": "stdout",
     "output_type": "stream",
     "text": [
      "fold 4 epoch 30, comp_score = 0.922, mean_score = 0.827,\n"
     ]
    },
    {
     "name": "stderr",
     "output_type": "stream",
     "text": [
      "                                                    \r"
     ]
    },
    {
     "name": "stdout",
     "output_type": "stream",
     "text": [
      "fold 4 epoch 31, comp_score = 0.918, mean_score = 0.822,\n"
     ]
    },
    {
     "name": "stderr",
     "output_type": "stream",
     "text": [
      "                                                    \r"
     ]
    },
    {
     "name": "stdout",
     "output_type": "stream",
     "text": [
      "fold 4 epoch 32, comp_score = 0.917, mean_score = 0.815,\n"
     ]
    },
    {
     "name": "stderr",
     "output_type": "stream",
     "text": [
      "                                                    \r"
     ]
    },
    {
     "name": "stdout",
     "output_type": "stream",
     "text": [
      "fold 4 epoch 33, comp_score = 0.913, mean_score = 0.816,\n"
     ]
    },
    {
     "name": "stderr",
     "output_type": "stream",
     "text": [
      "                                                    \r"
     ]
    },
    {
     "name": "stdout",
     "output_type": "stream",
     "text": [
      "fold 4 epoch 34, comp_score = 0.918, mean_score = 0.812,\n"
     ]
    },
    {
     "name": "stderr",
     "output_type": "stream",
     "text": [
      "                                                    \r"
     ]
    },
    {
     "name": "stdout",
     "output_type": "stream",
     "text": [
      "fold 4 epoch 35, comp_score = 0.902, mean_score = 0.788,\n"
     ]
    },
    {
     "name": "stderr",
     "output_type": "stream",
     "text": [
      "                                                    \r"
     ]
    },
    {
     "name": "stdout",
     "output_type": "stream",
     "text": [
      "fold 4 epoch 36, comp_score = 0.915, mean_score = 0.820,\n"
     ]
    },
    {
     "name": "stderr",
     "output_type": "stream",
     "text": [
      "                                                    \r"
     ]
    },
    {
     "name": "stdout",
     "output_type": "stream",
     "text": [
      "fold 4 epoch 39, comp_score = 0.908, mean_score = 0.804,\n"
     ]
    },
    {
     "name": "stderr",
     "output_type": "stream",
     "text": [
      "                                                    \r"
     ]
    },
    {
     "name": "stdout",
     "output_type": "stream",
     "text": [
      "fold 4 epoch 40, comp_score = 0.911, mean_score = 0.813,\n"
     ]
    },
    {
     "name": "stderr",
     "output_type": "stream",
     "text": [
      "                                                    \r"
     ]
    },
    {
     "name": "stdout",
     "output_type": "stream",
     "text": [
      "fold 4 epoch 41, comp_score = 0.911, mean_score = 0.815,\n"
     ]
    },
    {
     "name": "stderr",
     "output_type": "stream",
     "text": [
      "                                                    \r"
     ]
    },
    {
     "name": "stdout",
     "output_type": "stream",
     "text": [
      "fold 4 epoch 42, comp_score = 0.909, mean_score = 0.812,\n"
     ]
    },
    {
     "name": "stderr",
     "output_type": "stream",
     "text": [
      "                                                    \r"
     ]
    },
    {
     "name": "stdout",
     "output_type": "stream",
     "text": [
      "fold 4 epoch 43, comp_score = 0.911, mean_score = 0.817,\n"
     ]
    },
    {
     "name": "stderr",
     "output_type": "stream",
     "text": [
      "                                                    \r"
     ]
    },
    {
     "name": "stdout",
     "output_type": "stream",
     "text": [
      "fold 4 epoch 44, comp_score = 0.907, mean_score = 0.810,\n"
     ]
    },
    {
     "name": "stderr",
     "output_type": "stream",
     "text": [
      "                                                    \r"
     ]
    },
    {
     "name": "stdout",
     "output_type": "stream",
     "text": [
      "fold 4 epoch 45, comp_score = 0.900, mean_score = 0.794,\n"
     ]
    },
    {
     "name": "stderr",
     "output_type": "stream",
     "text": [
      "                                                    \r"
     ]
    },
    {
     "name": "stdout",
     "output_type": "stream",
     "text": [
      "fold 4 epoch 46, comp_score = 0.898, mean_score = 0.802,\n"
     ]
    },
    {
     "name": "stderr",
     "output_type": "stream",
     "text": [
      "                                                    \r"
     ]
    },
    {
     "name": "stdout",
     "output_type": "stream",
     "text": [
      "fold 4 epoch 47, comp_score = 0.910, mean_score = 0.812,\n"
     ]
    },
    {
     "name": "stderr",
     "output_type": "stream",
     "text": [
      "                                                    \r"
     ]
    },
    {
     "name": "stdout",
     "output_type": "stream",
     "text": [
      "fold 4 epoch 48, comp_score = 0.904, mean_score = 0.808,\n"
     ]
    },
    {
     "name": "stderr",
     "output_type": "stream",
     "text": [
      "                                                    \r"
     ]
    },
    {
     "name": "stdout",
     "output_type": "stream",
     "text": [
      "fold 4 epoch 49, comp_score = 0.909, mean_score = 0.816,\n"
     ]
    },
    {
     "name": "stderr",
     "output_type": "stream",
     "text": [
      "                                                    \r"
     ]
    },
    {
     "name": "stdout",
     "output_type": "stream",
     "text": [
      "fold 4 epoch 50, comp_score = 0.903, mean_score = 0.807,\n"
     ]
    },
    {
     "name": "stderr",
     "output_type": "stream",
     "text": [
      "                                                    \r"
     ]
    },
    {
     "name": "stdout",
     "output_type": "stream",
     "text": [
      "fold 4 epoch 51, comp_score = 0.900, mean_score = 0.803,\n"
     ]
    },
    {
     "name": "stderr",
     "output_type": "stream",
     "text": [
      "                                                    \r"
     ]
    },
    {
     "name": "stdout",
     "output_type": "stream",
     "text": [
      "fold 4 epoch 52, comp_score = 0.903, mean_score = 0.811,\n"
     ]
    },
    {
     "name": "stderr",
     "output_type": "stream",
     "text": [
      "                                                    \r"
     ]
    },
    {
     "name": "stdout",
     "output_type": "stream",
     "text": [
      "fold 4 epoch 53, comp_score = 0.898, mean_score = 0.807,\n"
     ]
    },
    {
     "name": "stderr",
     "output_type": "stream",
     "text": [
      "                                                    \r"
     ]
    },
    {
     "name": "stdout",
     "output_type": "stream",
     "text": [
      "fold 4 epoch 54, comp_score = 0.903, mean_score = 0.811,\n"
     ]
    },
    {
     "name": "stderr",
     "output_type": "stream",
     "text": [
      "                                                    \r"
     ]
    },
    {
     "name": "stdout",
     "output_type": "stream",
     "text": [
      "fold 4 epoch 55, comp_score = 0.901, mean_score = 0.808,\n"
     ]
    },
    {
     "name": "stderr",
     "output_type": "stream",
     "text": [
      "                                                    \r"
     ]
    },
    {
     "name": "stdout",
     "output_type": "stream",
     "text": [
      "fold 4 epoch 56, comp_score = 0.898, mean_score = 0.807,\n"
     ]
    },
    {
     "name": "stderr",
     "output_type": "stream",
     "text": [
      "                                                    \r"
     ]
    },
    {
     "name": "stdout",
     "output_type": "stream",
     "text": [
      "fold 4 epoch 57, comp_score = 0.897, mean_score = 0.804,\n"
     ]
    },
    {
     "name": "stderr",
     "output_type": "stream",
     "text": [
      "                                                    \r"
     ]
    },
    {
     "name": "stdout",
     "output_type": "stream",
     "text": [
      "fold 4 epoch 58, comp_score = 0.899, mean_score = 0.802,\n"
     ]
    },
    {
     "name": "stderr",
     "output_type": "stream",
     "text": [
      "                                                    \r"
     ]
    },
    {
     "name": "stdout",
     "output_type": "stream",
     "text": [
      "fold 4 epoch 59, comp_score = 0.904, mean_score = 0.809,\n"
     ]
    },
    {
     "name": "stderr",
     "output_type": "stream",
     "text": [
      "                                                    \r"
     ]
    },
    {
     "name": "stdout",
     "output_type": "stream",
     "text": [
      "fold 4 epoch 60, comp_score = 0.905, mean_score = 0.808,\n"
     ]
    },
    {
     "name": "stderr",
     "output_type": "stream",
     "text": [
      "                                                    \r"
     ]
    },
    {
     "name": "stdout",
     "output_type": "stream",
     "text": [
      "fold 4 epoch 61, comp_score = 0.908, mean_score = 0.808,\n"
     ]
    },
    {
     "name": "stderr",
     "output_type": "stream",
     "text": [
      "                                                    \r"
     ]
    },
    {
     "name": "stdout",
     "output_type": "stream",
     "text": [
      "fold 4 epoch 62, comp_score = 0.907, mean_score = 0.811,\n"
     ]
    },
    {
     "name": "stderr",
     "output_type": "stream",
     "text": [
      "                                                    \r"
     ]
    },
    {
     "name": "stdout",
     "output_type": "stream",
     "text": [
      "fold 4 epoch 63, comp_score = 0.913, mean_score = 0.811,\n"
     ]
    },
    {
     "name": "stderr",
     "output_type": "stream",
     "text": [
      "                                                    \r"
     ]
    },
    {
     "name": "stdout",
     "output_type": "stream",
     "text": [
      "fold 4 epoch 64, comp_score = 0.911, mean_score = 0.811,\n"
     ]
    },
    {
     "name": "stderr",
     "output_type": "stream",
     "text": [
      "                                                    \r"
     ]
    },
    {
     "name": "stdout",
     "output_type": "stream",
     "text": [
      "fold 4 epoch 65, comp_score = 0.906, mean_score = 0.800,\n"
     ]
    },
    {
     "name": "stderr",
     "output_type": "stream",
     "text": [
      "                                                    \r"
     ]
    },
    {
     "name": "stdout",
     "output_type": "stream",
     "text": [
      "fold 4 epoch 66, comp_score = 0.910, mean_score = 0.804,\n"
     ]
    },
    {
     "name": "stderr",
     "output_type": "stream",
     "text": [
      "                                                    \r"
     ]
    },
    {
     "name": "stdout",
     "output_type": "stream",
     "text": [
      "fold 4 epoch 67, comp_score = 0.905, mean_score = 0.802,\n"
     ]
    },
    {
     "name": "stderr",
     "output_type": "stream",
     "text": [
      "                                                    \r"
     ]
    },
    {
     "name": "stdout",
     "output_type": "stream",
     "text": [
      "fold 4 epoch 68, comp_score = 0.905, mean_score = 0.798,\n"
     ]
    },
    {
     "name": "stderr",
     "output_type": "stream",
     "text": [
      "                                                    \r"
     ]
    },
    {
     "name": "stdout",
     "output_type": "stream",
     "text": [
      "fold 4 epoch 69, comp_score = 0.910, mean_score = 0.805,\n"
     ]
    },
    {
     "name": "stderr",
     "output_type": "stream",
     "text": [
      "                                                    \r"
     ]
    },
    {
     "name": "stdout",
     "output_type": "stream",
     "text": [
      "fold 4 epoch 70, comp_score = 0.909, mean_score = 0.797,\n"
     ]
    },
    {
     "name": "stderr",
     "output_type": "stream",
     "text": [
      "                                                    \r"
     ]
    },
    {
     "name": "stdout",
     "output_type": "stream",
     "text": [
      "fold 4 epoch 71, comp_score = 0.905, mean_score = 0.793,\n"
     ]
    },
    {
     "name": "stderr",
     "output_type": "stream",
     "text": [
      "                                                    \r"
     ]
    },
    {
     "name": "stdout",
     "output_type": "stream",
     "text": [
      "fold 4 epoch 72, comp_score = 0.906, mean_score = 0.792,\n"
     ]
    },
    {
     "name": "stderr",
     "output_type": "stream",
     "text": [
      "                                                    \r"
     ]
    },
    {
     "name": "stdout",
     "output_type": "stream",
     "text": [
      "fold 4 epoch 73, comp_score = 0.907, mean_score = 0.790,\n"
     ]
    },
    {
     "name": "stderr",
     "output_type": "stream",
     "text": [
      "                                                    \r"
     ]
    },
    {
     "name": "stdout",
     "output_type": "stream",
     "text": [
      "fold 4 epoch 74, comp_score = 0.907, mean_score = 0.789,\n"
     ]
    },
    {
     "name": "stderr",
     "output_type": "stream",
     "text": [
      "                                                    \r"
     ]
    },
    {
     "name": "stdout",
     "output_type": "stream",
     "text": [
      "fold 4 epoch 75, comp_score = 0.905, mean_score = 0.788,\n"
     ]
    },
    {
     "name": "stderr",
     "output_type": "stream",
     "text": [
      "                                                    \r"
     ]
    },
    {
     "name": "stdout",
     "output_type": "stream",
     "text": [
      "fold 4 epoch 78, comp_score = 0.908, mean_score = 0.801,\n"
     ]
    },
    {
     "name": "stderr",
     "output_type": "stream",
     "text": [
      "                                                    \r"
     ]
    },
    {
     "name": "stdout",
     "output_type": "stream",
     "text": [
      "fold 4 epoch 79, comp_score = 0.905, mean_score = 0.802,\n"
     ]
    },
    {
     "name": "stderr",
     "output_type": "stream",
     "text": [
      "                                                    \r"
     ]
    },
    {
     "name": "stdout",
     "output_type": "stream",
     "text": [
      "fold 4 epoch 80, comp_score = 0.904, mean_score = 0.800,\n"
     ]
    },
    {
     "name": "stderr",
     "output_type": "stream",
     "text": [
      "                                                    \r"
     ]
    },
    {
     "name": "stdout",
     "output_type": "stream",
     "text": [
      "fold 4 epoch 81, comp_score = 0.903, mean_score = 0.801,\n"
     ]
    },
    {
     "name": "stderr",
     "output_type": "stream",
     "text": [
      "                                                    \r"
     ]
    },
    {
     "name": "stdout",
     "output_type": "stream",
     "text": [
      "fold 4 epoch 82, comp_score = 0.908, mean_score = 0.804,\n"
     ]
    },
    {
     "name": "stderr",
     "output_type": "stream",
     "text": [
      "                                                    \r"
     ]
    },
    {
     "name": "stdout",
     "output_type": "stream",
     "text": [
      "fold 4 epoch 83, comp_score = 0.909, mean_score = 0.809,\n"
     ]
    },
    {
     "name": "stderr",
     "output_type": "stream",
     "text": [
      "                                                    \r"
     ]
    },
    {
     "name": "stdout",
     "output_type": "stream",
     "text": [
      "fold 4 epoch 84, comp_score = 0.910, mean_score = 0.810,\n"
     ]
    },
    {
     "name": "stderr",
     "output_type": "stream",
     "text": [
      "                                                    \r"
     ]
    },
    {
     "name": "stdout",
     "output_type": "stream",
     "text": [
      "fold 4 epoch 85, comp_score = 0.912, mean_score = 0.812,\n"
     ]
    },
    {
     "name": "stderr",
     "output_type": "stream",
     "text": [
      "                                                    \r"
     ]
    },
    {
     "name": "stdout",
     "output_type": "stream",
     "text": [
      "fold 4 epoch 86, comp_score = 0.912, mean_score = 0.810,\n"
     ]
    },
    {
     "name": "stderr",
     "output_type": "stream",
     "text": [
      "                                                    \r"
     ]
    },
    {
     "name": "stdout",
     "output_type": "stream",
     "text": [
      "fold 4 epoch 87, comp_score = 0.911, mean_score = 0.809,\n"
     ]
    },
    {
     "name": "stderr",
     "output_type": "stream",
     "text": [
      "                                                    \r"
     ]
    },
    {
     "name": "stdout",
     "output_type": "stream",
     "text": [
      "fold 4 epoch 88, comp_score = 0.912, mean_score = 0.808,\n"
     ]
    },
    {
     "name": "stderr",
     "output_type": "stream",
     "text": [
      "                                                    \r"
     ]
    },
    {
     "name": "stdout",
     "output_type": "stream",
     "text": [
      "fold 4 epoch 89, comp_score = 0.911, mean_score = 0.807,\n",
      "comp_score = 0.9217602880169198, mean_score = 0.8337294808782281,\n"
     ]
    }
   ],
   "source": [
    "# 🔄 Cross-Validation Training Loop (Enhanced)\n",
    "\n",
    "# Define the score_tile_mean function\n",
    "def score_tile_mean(predictions, df):\n",
    "    score = 0\n",
    "    for i in range(len(df)):\n",
    "        predbest = np.mean(df.iloc[i]['config_runtime'][predictions[i]])\n",
    "        best = np.mean(np.sort(df.iloc[i]['config_runtime'])[:5])\n",
    "        score += 2 - predbest / best\n",
    "    score /= len(df)\n",
    "    return score\n",
    "\n",
    "# Define the score_tile_max function\n",
    "def score_tile_max(predictions, df):\n",
    "    score = 0\n",
    "    for i in range(len(df)):\n",
    "        predbest = np.min(df.iloc[i]['config_runtime'][predictions[i]])\n",
    "        best = np.min(df.iloc[i]['config_runtime'])\n",
    "        score += 2 - predbest / best\n",
    "    score /= len(df)\n",
    "    return score\n",
    "\n",
    "# Create a K-Fold cross-validator with 5 splits\n",
    "kfold = sklearn.model_selection.KFold(n_splits=5, shuffle=True, random_state=0)\n",
    "\n",
    "# Lists to store mean and max scores for each fold\n",
    "score_means = []\n",
    "score_maxs = []\n",
    "\n",
    "# Define hyperparameters\n",
    "learning_rate = 5e-4  # Adjust the learning rate to a different value\n",
    "weight_decay = 1e-6  # Adjust weight decay to a different value\n",
    "num_epochs = 90  # You can keep the number of epochs as 90 or adjust as needed\n",
    "\n",
    "\n",
    "# Iterate through each fold\n",
    "for fold, (tr_idx, va_idx) in enumerate(kfold.split(df)):\n",
    "    train_dataset = TileDataset(df.iloc[tr_idx])\n",
    "    val_dataset = TileDataset(df.iloc[va_idx])\n",
    "    criterion = torch.nn.MSELoss()\n",
    "    steps = len(train_dataset) * num_epochs  # Update the number of training steps\n",
    "    warmup_steps = int(steps * 0.1)\n",
    "    optimizer = torch.optim.Adam(model.parameters(), lr=learning_rate, weight_decay=weight_decay)\n",
    "    scheduler = CosineLRScheduler(optimizer, t_initial=steps, warmup_t=warmup_steps, warmup_lr_init=1e-6, lr_min=2e-8)\n",
    "\n",
    "    best_score = 0\n",
    "    best_score_max = 0\n",
    "\n",
    "    # Training loop with increased epochs\n",
    "    for epoch in range(num_epochs):\n",
    "        model.train()\n",
    "        pbar = tqdm(range(len(train_dataset)), leave=False)\n",
    "        loss_sum = 0\n",
    "        n = 0\n",
    "        \n",
    "        for i in pbar:\n",
    "            cfg_ft, nd_ft, nd_op, ind, target = train_dataset[i]\n",
    "            cfg_ft, nd_ft, nd_op, ind, target = cfg_ft.to(device), nd_ft.to(device), nd_op.to(device), ind.to(device), target.to(device)\n",
    "            \n",
    "            out = model(cfg_ft, nd_ft, nd_op, ind)\n",
    "            loss = criterion(out, target)\n",
    "            loss.backward()\n",
    "            torch.nn.utils.clip_grad_norm_(model.parameters(), 1e-2)\n",
    "            scheduler.step(i + len(train_dataset) * epoch)\n",
    "            optimizer.step()\n",
    "            loss_sum += loss.item()\n",
    "            n += 1\n",
    "            pbar.set_description(f'running loss: {(loss_sum/n):.2f}, current loss: {(loss.item()):.2f}')\n",
    "        pbar.close()\n",
    "        model.eval()\n",
    "        tile_xla_predictions = []\n",
    "        pbar = tqdm(range(len(val_dataset)), leave=False)\n",
    "        \n",
    "        for i in pbar:\n",
    "            cfg_ft, nd_ft, nd_op, ind, target = val_dataset[i]\n",
    "            cfg_ft, nd_ft, nd_op, ind, target = cfg_ft.to(device), nd_ft.to(device), nd_op.to(device), ind.to(device), target.to(device)\n",
    "            \n",
    "            out = model(cfg_ft, nd_ft, nd_op, ind)\n",
    "            tile_xla_predictions.append(np.argsort(out.cpu().detach().numpy())[:5])\n",
    "        pbar.close()\n",
    "        \n",
    "        # Calculate and display scores for the current fold and epoch\n",
    "        score_mean = score_tile_mean(tile_xla_predictions, val_dataset.df)\n",
    "        score_max = score_tile_max(tile_xla_predictions, val_dataset.df)\n",
    "        print(f'fold {fold} epoch {epoch}, comp_score = {score_max:.3f}, mean_score = {score_mean:.3f},')\n",
    "        \n",
    "        # Update best scores and save the model if the mean score improves\n",
    "        if score_mean > best_score:\n",
    "            best_score = score_mean\n",
    "            best_score_max = score_max\n",
    "            torch.save(model.state_dict(), f'best_model_{fold}.pth')\n",
    "    \n",
    "    # Append the best scores for this fold to the respective lists\n",
    "    score_means.append(best_score)\n",
    "    score_maxs.append(best_score_max)\n",
    "\n",
    "# Calculate and display the mean scores across all folds\n",
    "print(f'comp_score = {np.mean(score_maxs)}, mean_score = {np.mean(score_means)},')\n"
   ]
  },
  {
   "cell_type": "code",
   "execution_count": null,
   "id": "521d8715",
   "metadata": {
    "papermill": {
     "duration": 205.718905,
     "end_time": "2023-09-10T11:00:42.640912",
     "exception": false,
     "start_time": "2023-09-10T10:57:16.922007",
     "status": "completed"
    },
    "tags": []
   },
   "outputs": [],
   "source": []
  },
  {
   "cell_type": "markdown",
   "id": "5d68ed74",
   "metadata": {
    "papermill": {
     "duration": 206.54506,
     "end_time": "2023-09-10T11:07:32.312140",
     "exception": false,
     "start_time": "2023-09-10T11:04:05.767080",
     "status": "completed"
    },
    "tags": []
   },
   "source": [
    "# 📊 Evaluate on Validation Dataset"
   ]
  },
  {
   "cell_type": "markdown",
   "id": "fcb659a7",
   "metadata": {
    "papermill": {
     "duration": 202.869309,
     "end_time": "2023-09-10T11:14:19.100801",
     "exception": false,
     "start_time": "2023-09-10T11:10:56.231492",
     "status": "completed"
    },
    "tags": []
   },
   "source": [
    "# 🚀 Predict and Submit (only tile:xla predictions)"
   ]
  },
  {
   "cell_type": "code",
   "execution_count": 8,
   "id": "262b9222",
   "metadata": {
    "execution": {
     "iopub.execute_input": "2023-09-10T11:21:09.136107Z",
     "iopub.status.busy": "2023-09-10T11:21:09.135199Z",
     "iopub.status.idle": "2023-09-10T11:21:28.564269Z",
     "shell.execute_reply": "2023-09-10T11:21:28.563312Z"
    },
    "papermill": {
     "duration": 226.308767,
     "end_time": "2023-09-10T11:21:28.566539",
     "exception": false,
     "start_time": "2023-09-10T11:17:42.257772",
     "status": "completed"
    },
    "tags": []
   },
   "outputs": [
    {
     "name": "stderr",
     "output_type": "stream",
     "text": [
      "100%|██████████| 844/844 [00:04<00:00, 202.04it/s]\n",
      "100%|██████████| 844/844 [00:03<00:00, 227.81it/s]\n",
      "100%|██████████| 844/844 [00:03<00:00, 219.03it/s]\n",
      "100%|██████████| 844/844 [00:03<00:00, 230.62it/s]\n",
      "100%|██████████| 844/844 [00:03<00:00, 226.66it/s]\n"
     ]
    },
    {
     "data": {
      "text/plain": [
       "[array([746, 554, 127, 408, 731]),\n",
       " array([ 415, 5420, 7006, 6480, 5213]),\n",
       " array([1344,  161,  206, 1409,  935]),\n",
       " array([158, 210, 212,  79, 120]),\n",
       " array([222, 164, 124,  31, 139]),\n",
       " array([ 611,  565, 1111,  719,  912]),\n",
       " array([184, 216, 146, 158, 221]),\n",
       " array([6768, 3649,  219,  323, 4885]),\n",
       " array([ 12,  49,  16, 115,  27]),\n",
       " array([ 74, 123,   2, 115,  61]),\n",
       " array([ 84, 519, 691, 121, 113]),\n",
       " array([ 94, 196, 241, 403, 363]),\n",
       " array([111,  30,  28,  78, 107]),\n",
       " array([1558, 7899, 1335, 8265, 7565]),\n",
       " array([59, 62, 63, 92, 99]),\n",
       " array([124, 132, 129,   7,   8]),\n",
       " array([  24,  262, 1495,  979,  521]),\n",
       " array([5576, 3856, 5896,  302, 2465]),\n",
       " array([229, 180, 437, 384, 339]),\n",
       " array([167,  17, 430, 360, 143]),\n",
       " array([69, 13,  0,  2, 73]),\n",
       " array([ 26, 222, 491, 383, 304]),\n",
       " array([5674, 6096,  486, 6254,  886]),\n",
       " array([20, 22,  9, 10,  2]),\n",
       " array([2199, 8680, 4033, 5925, 1843]),\n",
       " array([295, 327, 509, 677, 329]),\n",
       " array([  2, 208, 138, 227,  77]),\n",
       " array([2513, 1970,  675, 3285, 2778]),\n",
       " array([330, 471, 615, 445, 171]),\n",
       " array([6927, 2608, 8304, 3175, 2496]),\n",
       " array([6297, 5286, 7902,  616, 3298]),\n",
       " array([ 91, 846,   3, 248,  13]),\n",
       " array([6, 4, 1, 5, 7]),\n",
       " array([ 486, 2067, 1415, 1120,   60]),\n",
       " array([22,  8,  5,  1,  3]),\n",
       " array([7361, 7601, 3515, 1213, 8904]),\n",
       " array([ 8, 11, 32, 19,  3]),\n",
       " array([ 37,  73, 137,  44, 120]),\n",
       " array([469, 461, 229,  10, 474]),\n",
       " array([118,  44,  70, 140,  35]),\n",
       " array([ 59, 184, 204, 291, 109]),\n",
       " array([323, 396, 359, 349,  89]),\n",
       " array([ 91, 127, 125, 121,  65]),\n",
       " array([ 736, 1044,  683, 1065,  898]),\n",
       " array([ 131,   13,  179,  546, 1014]),\n",
       " array([ 525, 1127,  152,  612, 1247]),\n",
       " array([423,  58, 449, 385, 591]),\n",
       " array([26, 21, 45,  3, 22]),\n",
       " array([168, 439, 731, 419,   9]),\n",
       " array([14, 26, 25, 23, 22]),\n",
       " array([113,  55,  34, 119, 114]),\n",
       " array([34, 40, 16,  2, 19]),\n",
       " array([ 388,  490,   71, 1243,  764]),\n",
       " array([307, 257,  90, 558, 285]),\n",
       " array([ 76, 101, 175,  51, 103]),\n",
       " array([2800, 2095, 7205, 2828, 6835]),\n",
       " array([1175,  133,  871,  839, 1130]),\n",
       " array([290, 216, 268, 468, 304]),\n",
       " array([77, 82, 84, 65, 54]),\n",
       " array([3775, 2580, 5507,   95, 6263]),\n",
       " array([2181, 2116, 1433,  364, 1382]),\n",
       " array([357, 199, 612, 182, 690]),\n",
       " array([431, 926, 420,  24, 264]),\n",
       " array([544, 101, 416, 568, 574]),\n",
       " array([ 0, 25, 24, 23, 22]),\n",
       " array([2699, 2607, 2895, 3419,  127]),\n",
       " array([1416,  847, 1152, 1348,  315]),\n",
       " array([ 41,  56, 177,  34,  30]),\n",
       " array([279,  75, 224, 264, 296]),\n",
       " array([9289,  218, 8757, 4246, 9361]),\n",
       " array([ 59,  72, 174,  63, 183]),\n",
       " array([ 53,  30,   9, 107,  75]),\n",
       " array([541, 259, 464, 478,  59]),\n",
       " array([3, 1, 5, 0, 4]),\n",
       " array([15, 13, 50, 11, 12]),\n",
       " array([8586, 1185,  833, 8474, 2363]),\n",
       " array([281, 385, 305, 433, 302]),\n",
       " array([150, 615, 666, 833,  68]),\n",
       " array([ 93, 111, 102, 114,   0]),\n",
       " array([236, 101, 157, 124,  23]),\n",
       " array([196, 717, 150, 721, 145]),\n",
       " array([10,  5, 16,  3,  8]),\n",
       " array([221, 149, 250,  16,  84]),\n",
       " array([49, 11, 50, 24,  0]),\n",
       " array([38,  5, 83, 85, 27]),\n",
       " array([1009,  482,  961,  141,  847]),\n",
       " array([54, 46, 23, 68, 69]),\n",
       " array([22, 32, 42, 74, 63]),\n",
       " array([111,  60,  74,  84, 107]),\n",
       " array([  7, 166, 161, 430, 550]),\n",
       " array([102,  42, 137, 163,  43]),\n",
       " array([9598, 2797, 4671, 7374, 8748]),\n",
       " array([760, 231, 635, 250, 788]),\n",
       " array([  0,   5,  58, 197, 183]),\n",
       " array([ 29, 754, 216, 388, 677]),\n",
       " array([7863, 4294, 1961, 4988, 2030]),\n",
       " array([100,  64, 107,  62,  67]),\n",
       " array([ 101, 2440, 4582, 2196, 3617]),\n",
       " array([ 4, 20, 14, 46, 35]),\n",
       " array([ 422, 1229, 7629,  701, 1497]),\n",
       " array([ 49, 183,  23, 186,  56]),\n",
       " array([73, 53, 41, 55, 90]),\n",
       " array([3015, 6278, 7083,  893, 6375]),\n",
       " array([226,  45, 191, 409,  79]),\n",
       " array([188,  98, 144, 118,  95]),\n",
       " array([4557, 2958, 1198, 4127, 4476]),\n",
       " array([254, 139, 233,  20, 259]),\n",
       " array([164, 514, 245, 230,  25]),\n",
       " array([3, 4, 2, 0, 1]),\n",
       " array([ 936, 1141,  660,  382,   23]),\n",
       " array([ 443,  195, 1254,  531,  520]),\n",
       " array([30, 60, 43, 85, 87]),\n",
       " array([ 62, 132, 112,  78, 191]),\n",
       " array([63, 90, 59,  1, 26]),\n",
       " array([1020,  778,  833, 1016,  345]),\n",
       " array([28, 10, 54, 22, 24]),\n",
       " array([395, 238, 786, 622, 410]),\n",
       " array([ 334,   90,  858, 1297,  380]),\n",
       " array([18, 74,  0, 16, 38]),\n",
       " array([ 178,  764,  613, 1139,  395]),\n",
       " array([ 70,  41, 108,  64, 113]),\n",
       " array([375, 914, 295, 155,  78]),\n",
       " array([104,  16,  20,  18, 110]),\n",
       " array([116,  14, 349, 580, 163]),\n",
       " array([ 46,  17, 114, 179, 139]),\n",
       " array([8964, 1648, 2546, 2433, 3599]),\n",
       " array([428, 391, 336, 124, 305]),\n",
       " array([681, 835, 816, 499, 143]),\n",
       " array([126,  77,  34,  49,  28]),\n",
       " array([ 153, 1097,  555, 2067,  121]),\n",
       " array([2591, 3109,   71, 2087, 2533]),\n",
       " array([ 353, 1586, 1315,  222, 2055]),\n",
       " array([121, 509, 101, 168, 216]),\n",
       " array([126,  85, 348,   7, 197]),\n",
       " array([ 676, 1073,  395,  694,  685]),\n",
       " array([665, 577, 438, 327, 583]),\n",
       " array([513, 469, 779, 376, 928]),\n",
       " array([ 53,  85, 138,  95, 110]),\n",
       " array([ 794,  166, 1167,  153,  696]),\n",
       " array([496,  58,  62, 524,  68]),\n",
       " array([109, 117,  32,  11, 106]),\n",
       " array([0, 1, 3, 2]),\n",
       " array([ 362,  134, 1178,  367, 1404]),\n",
       " array([ 557, 1404,   51,   52, 1395]),\n",
       " array([12, 43, 16, 75, 91]),\n",
       " array([2198, 3170, 7876, 4914, 9346]),\n",
       " array([ 6, 10,  1, 44, 24]),\n",
       " array([3137, 1029, 4653, 1629, 7549]),\n",
       " array([1, 2, 0, 3]),\n",
       " array([ 165,  246, 1096, 1121, 1432]),\n",
       " array([2036,  608, 1042,  138, 1884]),\n",
       " array([2, 4, 3, 0, 1]),\n",
       " array([102,  76,  90,  69, 204]),\n",
       " array([15, 51, 45, 60, 33]),\n",
       " array([ 45,  51, 266, 302, 184]),\n",
       " array([41, 16, 30,  4, 58]),\n",
       " array([853, 394, 912, 526, 466]),\n",
       " array([7865, 5053, 6655, 4281, 4981]),\n",
       " array([699, 981, 503, 513, 493]),\n",
       " array([4948,  397, 4889, 1144, 2876]),\n",
       " array([15,  7, 18, 25,  6]),\n",
       " array([  3, 122, 123,  51,  71]),\n",
       " array([ 69, 150, 137, 120,  72]),\n",
       " array([649, 356, 170, 228, 622]),\n",
       " array([1251, 2150,  865, 2825, 2801]),\n",
       " array([23, 18, 21,  5, 13]),\n",
       " array([2243, 3029, 5005, 1369, 1633]),\n",
       " array([ 907, 6764,  971, 3051, 7883]),\n",
       " array([ 455, 1246,  479,  657,  284]),\n",
       " array([ 64,  77,   0, 155,  54]),\n",
       " array([ 894, 1332, 1160,  294,  158]),\n",
       " array([146, 153,  43, 109,  20]),\n",
       " array([9, 6, 5, 7, 1]),\n",
       " array([0, 5, 3, 1, 4]),\n",
       " array([ 27, 129,  12, 202,   2]),\n",
       " array([  3, 223, 371, 278, 164]),\n",
       " array([211, 382, 147, 421, 248]),\n",
       " array([767, 285,   1,  85, 654]),\n",
       " array([ 16, 100, 118, 320, 302]),\n",
       " array([1229, 1188,  302,  924,  336]),\n",
       " array([307, 152, 745, 354, 590]),\n",
       " array([ 956, 1487,  209, 1582, 1282]),\n",
       " array([5, 2, 3, 4, 0]),\n",
       " array([1494, 4720, 4291, 1309, 2256]),\n",
       " array([204,  23, 159,  72, 251]),\n",
       " array([49,  6, 47,  3, 22]),\n",
       " array([128, 181, 219, 243, 328]),\n",
       " array([29, 55, 54, 51, 49]),\n",
       " array([7895, 6667, 1090, 1264, 6408]),\n",
       " array([19, 14,  0,  2,  7]),\n",
       " array([2, 1, 0]),\n",
       " array([2124, 1621, 2038, 1373, 1759]),\n",
       " array([37, 19, 25, 31,  5]),\n",
       " array([1043, 1525, 1271, 1242,  838]),\n",
       " array([ 567, 1301,  578,  214,  341]),\n",
       " array([120, 393, 370, 213, 462]),\n",
       " array([364, 393, 125,  41, 441]),\n",
       " array([ 29, 160, 318, 212, 357]),\n",
       " array([ 86, 111,  31,  20,  69]),\n",
       " array([459, 515, 144, 291, 281]),\n",
       " array([ 688, 1013,   18,  314,  511]),\n",
       " array([139, 134,   2,  51,  72]),\n",
       " array([  38,  552,  454, 2452, 1613]),\n",
       " array([160, 124, 170,  30, 179]),\n",
       " array([1221,  886,   29,   72,  516]),\n",
       " array([ 37, 194,  20, 118, 141]),\n",
       " array([2137, 3394,  923, 3736, 3298]),\n",
       " array([259, 132, 248,  26, 456]),\n",
       " array([2009, 5457, 3207, 7972, 5304]),\n",
       " array([6074, 1102,  398,  224, 7827]),\n",
       " array([1190,  360, 1213,  605,  241]),\n",
       " array([3, 4, 7, 6, 2]),\n",
       " array([ 8, 65, 98, 62, 97]),\n",
       " array([6, 5, 7, 3, 1]),\n",
       " array([ 3, 11,  4,  2,  5]),\n",
       " array([ 72,  86, 107,  60,  25]),\n",
       " array([ 41, 138, 536, 639, 794]),\n",
       " array([30, 18, 37, 29, 14]),\n",
       " array([992, 213, 713, 613, 258]),\n",
       " array([28, 54, 31, 21, 20]),\n",
       " array([ 234, 6410, 8762, 4390,  420]),\n",
       " array([220,   1, 508, 638,  89]),\n",
       " array([44,  9, 59, 22, 23]),\n",
       " array([ 29, 497, 363, 249, 516]),\n",
       " array([219, 448, 322, 340, 179]),\n",
       " array([288, 242, 120, 131, 459]),\n",
       " array([18,  4, 33,  0, 32]),\n",
       " array([155, 225,  22, 240,  15]),\n",
       " array([ 91, 166, 127,  83,  85]),\n",
       " array([3843, 4368, 1213, 2125,  652]),\n",
       " array([ 209, 1283,  776,  176,  860]),\n",
       " array([64, 53, 72, 12, 17]),\n",
       " array([ 876, 1356,  400,  968,  751]),\n",
       " array([166, 171,  21,  27,  12]),\n",
       " array([ 0, 29, 28, 27, 26]),\n",
       " array([231,  31,  30, 250, 218]),\n",
       " array([51, 15, 71,  9, 78]),\n",
       " array([5646, 6468, 5774,  567, 1473]),\n",
       " array([299, 204,  10, 139,  73]),\n",
       " array([ 39,  89, 114,  16, 990]),\n",
       " array([2716, 2465,  357, 1430, 4412]),\n",
       " array([68, 23, 65, 34, 17]),\n",
       " array([1, 4, 2, 7, 3]),\n",
       " array([1306,  415,  845, 1778, 1375]),\n",
       " array([966,  20, 545,  17, 675]),\n",
       " array([107,  53,  59,  21, 126]),\n",
       " array([152, 200, 169, 238, 237]),\n",
       " array([85, 16, 79, 48, 47]),\n",
       " array([202, 312, 978, 287, 260]),\n",
       " array([427, 293, 118, 106,   7]),\n",
       " array([370, 674, 361, 656, 476]),\n",
       " array([3335,  251,  208, 6327, 6113]),\n",
       " array([562,  62,  36, 188, 855]),\n",
       " array([2655,  849,  113, 4954,  379]),\n",
       " array([1307,  984,  905,  527,  723]),\n",
       " array([181, 270,  94,  86,  18]),\n",
       " array([22, 24,  3,  9,  6]),\n",
       " array([382,  43,  31, 665, 498]),\n",
       " array([2933, 3035, 8487, 5789, 9357]),\n",
       " array([28, 32,  1, 17,  3]),\n",
       " array([795, 391, 746, 845, 643]),\n",
       " array([ 197,  279, 1180, 1832,  116]),\n",
       " array([846, 924, 585, 905, 798]),\n",
       " array([ 77, 137,   7, 106,   4]),\n",
       " array([349, 452, 507, 397, 514]),\n",
       " array([ 6, 58, 29, 36, 30]),\n",
       " array([477, 658, 134, 150,  46]),\n",
       " array([ 467, 1434, 1745,  328, 1595]),\n",
       " array([739, 764, 568, 733, 580]),\n",
       " array([179,  68,  97, 101,  70]),\n",
       " array([0, 4, 2, 1, 3]),\n",
       " array([105, 123,  28, 140, 143]),\n",
       " array([146,   1, 148,  96,  21]),\n",
       " array([1125, 1161, 1196,  537, 1614]),\n",
       " array([486, 215, 297, 287,  24]),\n",
       " array([1682, 1545,  847, 1516, 5167]),\n",
       " array([ 912, 2849, 2579, 1020, 1400]),\n",
       " array([1087, 1107,  708,  562, 1083]),\n",
       " array([1604, 1543,  250,  761, 1229]),\n",
       " array([2146, 6782, 2144, 1086, 7824]),\n",
       " array([ 182, 1248, 4217,  500,  398]),\n",
       " array([ 29, 167,  16,  51,  89]),\n",
       " array([53, 70, 39, 20, 49]),\n",
       " array([ 50,  33,  55,  94, 150]),\n",
       " array([837, 835, 719, 256, 622]),\n",
       " array([28, 18,  9, 10, 25]),\n",
       " array([478,  95, 327, 337, 343]),\n",
       " array([342, 522, 226, 405, 498]),\n",
       " array([34, 27, 48, 93, 49]),\n",
       " array([ 164,   15, 1210,  181,  886]),\n",
       " array([ 7, 13,  6, 12, 10]),\n",
       " array([1989, 3593, 6301, 4761, 7709]),\n",
       " array([39, 34, 50, 51, 17]),\n",
       " array([495,  59, 272, 483, 190]),\n",
       " array([ 53, 288, 580, 730, 218]),\n",
       " array([29, 23, 62, 69, 49]),\n",
       " array([246, 197, 181, 528, 782]),\n",
       " array([42, 27, 80, 32, 63]),\n",
       " array([129,  57,  99, 138,  27]),\n",
       " array([ 0, 10,  2, 15, 14]),\n",
       " array([428, 274, 186, 216, 188]),\n",
       " array([388,  89, 365, 923, 330]),\n",
       " array([15,  7,  0, 92, 90]),\n",
       " array([ 2,  8,  5, 13, 16]),\n",
       " array([2919, 3540, 2605, 2615,  444]),\n",
       " array([1400, 1497,  263,  419, 1732]),\n",
       " array([1223, 2253, 4907, 3561,  577]),\n",
       " array([ 899,  834, 2759, 2216, 1416]),\n",
       " array([ 347,  538,  421, 1021,  482]),\n",
       " array([ 63,  77, 126, 129,  80]),\n",
       " array([ 898, 1396,  493,  666,  709]),\n",
       " array([77, 50, 41, 65, 46]),\n",
       " array([ 725,  234,  120, 1425, 1266]),\n",
       " array([ 816,  478,  960, 2187, 2080]),\n",
       " array([299, 814, 644,   2, 167]),\n",
       " array([30,  4,  2, 19, 32]),\n",
       " array([ 0, 29, 28, 27, 26]),\n",
       " array([  60,  416,  748,  856, 1140]),\n",
       " array([75, 23, 91, 69, 79]),\n",
       " array([946, 132,  91, 160, 469]),\n",
       " array([2496, 3980, 4536, 2232, 5054]),\n",
       " array([52, 85, 35, 79, 60]),\n",
       " array([191,  93, 344, 396, 202]),\n",
       " array([3399,    0, 2960,  701, 1837]),\n",
       " array([2388, 1090,  407, 2525,  794]),\n",
       " array([16, 32, 95, 53, 35]),\n",
       " array([405, 310, 624, 498, 501]),\n",
       " array([399, 708, 513, 635, 594]),\n",
       " array([185, 176, 191, 265, 178]),\n",
       " array([355, 314, 456, 444,   7]),\n",
       " array([934,  50,  19, 683, 537]),\n",
       " array([5473, 2236, 1155, 2898, 5126]),\n",
       " array([105, 663, 207, 393, 184]),\n",
       " array([ 558, 1468, 1707, 1781, 1313]),\n",
       " array([ 309,  766,  875,  919, 1032]),\n",
       " array([0, 1]),\n",
       " array([859, 731, 728, 957, 125]),\n",
       " array([8515, 4439, 7383, 3988, 9867]),\n",
       " array([345, 277,  12, 157, 302]),\n",
       " array([2, 1, 0]),\n",
       " array([298, 684, 651, 932, 437]),\n",
       " array([ 972,  817, 1136,  550, 1295]),\n",
       " array([2939, 6132, 5715, 5291, 6166]),\n",
       " array([3, 0, 1, 2, 4]),\n",
       " array([6, 4, 1, 2, 5]),\n",
       " array([ 498, 3670, 2695, 4938, 5147]),\n",
       " array([74, 36, 61, 55, 45]),\n",
       " array([ 86,  62, 274, 319, 247]),\n",
       " array([7862, 4106, 1660,  281, 1877]),\n",
       " array([27,  5, 66, 77, 92]),\n",
       " array([ 94, 185, 430, 316, 291]),\n",
       " array([137,  99, 160,  33,   7]),\n",
       " array([5, 0, 3, 4, 1]),\n",
       " array([512,  50, 433,  84, 136]),\n",
       " array([2624, 5263, 2169,  201,  143]),\n",
       " array([0, 2, 1]),\n",
       " array([106,  15,  33,  36,  21]),\n",
       " array([188, 430, 491, 388,  63]),\n",
       " array([157,  68, 102,  14,  81]),\n",
       " array([608,  66, 240, 208,  49]),\n",
       " array([36,  2, 43,  0, 53]),\n",
       " array([126,  61, 117, 109,  92]),\n",
       " array([ 841,  899,  618, 1192, 1551]),\n",
       " array([ 871,  374, 2115, 3754, 3040]),\n",
       " array([3858, 2199, 1063,  641, 1004]),\n",
       " array([  8, 117, 187, 275, 423]),\n",
       " array([28, 57, 12, 16, 60]),\n",
       " array([ 7,  5,  3, 41, 78]),\n",
       " array([ 715, 1828, 1773, 2586, 1706]),\n",
       " array([ 10,  99,   1,  42, 133]),\n",
       " array([2696, 2764, 5271, 5680, 3580]),\n",
       " array([45,  0, 49, 44, 43]),\n",
       " array([2389, 1353, 3255, 3709, 1089]),\n",
       " array([8659, 2567, 2156, 3499, 3756]),\n",
       " array([ 25, 350, 121, 306, 186]),\n",
       " array([ 3, 72, 26, 10, 75]),\n",
       " array([348,   7, 719, 767, 728]),\n",
       " array([107,  70, 137, 102, 133]),\n",
       " array([1250,   14,  886,  806,  580]),\n",
       " array([1359,  616,  459,  413,  207]),\n",
       " array([  7,  35, 131,  30,  67]),\n",
       " array([55, 11, 44, 61, 97]),\n",
       " array([ 0, 19,  3, 13, 23]),\n",
       " array([3661, 2980, 3681, 2302, 2263]),\n",
       " array([825, 342, 698, 153, 895]),\n",
       " array([1737, 3363, 2791, 1778, 1188]),\n",
       " array([3780, 1756, 6339, 1665, 6317]),\n",
       " array([343, 786,  68, 627, 359]),\n",
       " array([0, 1]),\n",
       " array([2598, 9034, 6704, 6802, 1936]),\n",
       " array([946, 207, 253, 622, 850]),\n",
       " array([1333,  808,   34,  508,  444]),\n",
       " array([29,  0, 33, 31, 28]),\n",
       " array([82,  7, 13, 37, 79]),\n",
       " array([3, 2, 5, 4, 0]),\n",
       " array([469,  31,  62, 141, 404]),\n",
       " array([1189, 1489, 3243, 3016,  941]),\n",
       " array([0, 2, 3, 1]),\n",
       " array([193, 224, 519, 602, 101]),\n",
       " array([1794, 1749, 1871,  172,  871]),\n",
       " array([4394,  236, 9130, 8040, 4679]),\n",
       " array([  2, 160,  67,  48, 156]),\n",
       " array([ 71, 141,  61, 117, 140]),\n",
       " array([118, 160, 262,  82, 135]),\n",
       " array([2, 7, 4, 0, 6]),\n",
       " array([ 161,  631, 1582,   66, 5371]),\n",
       " array([ 36,  56, 164,  10, 100]),\n",
       " array([1153, 1369,  627,  207,  439]),\n",
       " array([ 14,  51,  46, 160, 178]),\n",
       " array([ 648, 2106,  271,   61, 2040]),\n",
       " array([138,  43,  76, 137, 106]),\n",
       " array([293,  53, 383, 563, 349]),\n",
       " array([ 367, 1122,  166,  250, 1177]),\n",
       " array([859,  81, 657, 223, 568]),\n",
       " array([104, 925, 939,  41, 441]),\n",
       " array([737, 530, 740, 976,   8]),\n",
       " array([347, 344, 325, 204, 332]),\n",
       " array([10,  6, 23, 20,  9]),\n",
       " array([33, 47, 44, 51, 55]),\n",
       " array([381, 341, 695, 313, 499]),\n",
       " array([14,  8, 20,  4,  6]),\n",
       " array([43, 35, 18, 38, 45]),\n",
       " array([3139, 1649,   47,  953, 3546]),\n",
       " array([528, 315, 362, 701, 707]),\n",
       " array([404, 786, 200, 223, 969]),\n",
       " array([1229, 3936,  639, 3812, 3117]),\n",
       " array([ 7, 28,  0, 25, 56]),\n",
       " array([170, 432, 325, 121, 183]),\n",
       " array([29, 31, 62, 42, 16]),\n",
       " array([1, 0, 2]),\n",
       " array([2625, 1313, 3898, 2055,  692]),\n",
       " array([  8,  74, 118,  87,  89]),\n",
       " array([81,  9, 41,  0, 24]),\n",
       " array([18, 48, 41, 60, 39]),\n",
       " array([3853, 4469, 1725, 3962, 2498]),\n",
       " array([280, 766, 642, 757, 595]),\n",
       " array([ 47, 130,  57,  12,   6]),\n",
       " array([ 21, 193, 286, 426, 504]),\n",
       " array([ 58,  86,  10,  75, 133]),\n",
       " array([55, 71, 69, 15, 52]),\n",
       " array([158,  30,  22, 118,   5]),\n",
       " array([2, 0, 1, 5, 4]),\n",
       " array([503, 121, 304, 232,   1]),\n",
       " array([586,  68, 443, 615, 130]),\n",
       " array([777, 836, 284, 999, 559]),\n",
       " array([1622, 1334, 1097,  661, 1194]),\n",
       " array([112, 830, 196, 926, 847]),\n",
       " array([769, 691, 793, 655, 348]),\n",
       " array([49, 37, 42, 59, 40]),\n",
       " array([ 0, 21, 20, 19, 18]),\n",
       " array([6975, 4107, 2649,  467, 2591]),\n",
       " array([6, 0, 5, 1, 2]),\n",
       " array([335, 504, 234, 678, 520]),\n",
       " array([144, 158,  11,  55,  39]),\n",
       " array([5353, 1154, 1659, 3277, 3518]),\n",
       " array([ 8,  4,  6, 13,  3]),\n",
       " array([122, 278, 252, 192, 326]),\n",
       " array([158,  66,  37, 129, 128]),\n",
       " array([ 0, 17,  9,  8,  5]),\n",
       " array([ 616,  149, 1166,  811, 1071]),\n",
       " array([381, 137, 266, 309, 194]),\n",
       " array([58, 36, 55, 11, 17]),\n",
       " array([7608, 7844, 6444, 7384, 4513]),\n",
       " array([ 549, 4795, 2224, 4814, 2687]),\n",
       " array([12,  9,  6,  3, 19]),\n",
       " array([434, 544, 910, 503, 525]),\n",
       " array([ 9,  7,  0,  1, 47]),\n",
       " array([867, 997, 114, 359, 130]),\n",
       " array([109,  98,  96, 136,  79]),\n",
       " array([1435,  939, 2680,  918, 4811]),\n",
       " array([33, 15, 19, 27, 40]),\n",
       " array([293, 301, 441, 565,  61]),\n",
       " array([ 645, 1158, 1176,  963, 1204]),\n",
       " array([17, 15,  1, 13,  0]),\n",
       " array([117, 179,  82, 134, 455]),\n",
       " array([536, 657, 668,  51, 273]),\n",
       " array([1314,  545, 1729,   65,  627]),\n",
       " array([1314, 1275,  618, 1055,  635]),\n",
       " array([ 133, 1206, 1370,   36, 1541]),\n",
       " array([1447,  931, 1135, 1229,  266]),\n",
       " array([49, 31, 34, 45,  8]),\n",
       " array([141, 130, 119, 135,  79]),\n",
       " array([319, 414, 201, 426, 310]),\n",
       " array([35, 13, 29,  5,  7]),\n",
       " array([ 313, 1794,  841, 1685, 1641]),\n",
       " array([560,  33,   9, 358, 244]),\n",
       " array([5155, 9797, 1406, 4794,  642]),\n",
       " array([47, 10, 43,  6, 52]),\n",
       " array([ 164,  206, 1086, 2414,  368]),\n",
       " array([2570, 8248, 3127, 1978, 7187]),\n",
       " array([4608, 3181, 2998, 4857, 3327]),\n",
       " array([196,  56, 308, 223, 636]),\n",
       " array([3, 2, 1, 4, 0]),\n",
       " array([20, 45, 63, 27, 57]),\n",
       " array([35, 46, 42, 41, 32]),\n",
       " array([ 97, 475, 570, 444, 880]),\n",
       " array([397, 221, 222, 384, 237]),\n",
       " array([375, 310, 396, 205, 413]),\n",
       " array([6339, 6076, 9681, 8607, 8000]),\n",
       " array([167, 345, 444, 359, 157]),\n",
       " array([ 79, 132,  15,  12,  20]),\n",
       " array([134,  66,  63,  91,  29]),\n",
       " array([4674, 8710, 6148, 5804, 6086]),\n",
       " array([ 740, 1039,  618, 1154,  254]),\n",
       " array([ 1,  2,  4,  6, 10]),\n",
       " array([36,  0, 30, 27, 23]),\n",
       " array([203, 674, 201, 193, 369]),\n",
       " array([1024,  840, 1207,  453, 1260]),\n",
       " array([  3, 448, 271, 698, 135]),\n",
       " array([249, 184,  34, 171, 479]),\n",
       " array([5, 1, 3, 2, 4]),\n",
       " array([1814, 2665,  884,  479,  467]),\n",
       " array([62, 21, 14,  6, 36]),\n",
       " array([45, 80,  3, 51, 58]),\n",
       " array([14, 11, 24, 23, 44]),\n",
       " array([ 69,  79, 129,   8, 178]),\n",
       " array([689, 254, 801, 528, 622]),\n",
       " array([60, 35, 50, 38, 29]),\n",
       " array([ 58,  24, 263, 258, 145]),\n",
       " array([26, 28, 22, 24,  4]),\n",
       " array([32, 74, 62, 60, 58]),\n",
       " array([ 493,  306, 1094,  923, 1019]),\n",
       " array([216, 231, 161, 316, 271]),\n",
       " array([4, 1, 5, 2, 0]),\n",
       " array([25, 20, 46, 41, 50]),\n",
       " array([ 36, 101,  60,  75,  38]),\n",
       " array([  0,   4,  31,  90, 108]),\n",
       " array([714, 691, 198, 670, 688]),\n",
       " array([372, 196, 410, 450, 298]),\n",
       " array([ 52, 353, 646, 781, 708]),\n",
       " array([1, 3, 2, 5, 0]),\n",
       " array([37, 25, 13,  5, 43]),\n",
       " array([40, 19, 37, 41, 49]),\n",
       " array([165, 735, 445, 135, 294]),\n",
       " array([1287, 1156, 1403, 1332, 1359]),\n",
       " array([10, 17, 16, 15, 14]),\n",
       " array([26, 13, 20,  3, 24]),\n",
       " array([236,  64, 617, 117, 116]),\n",
       " array([6, 4, 7, 2, 1]),\n",
       " array([ 392,  514,  453,  763, 1054]),\n",
       " array([560, 735, 782, 353, 501]),\n",
       " array([ 835,  109,  963,  281, 1073]),\n",
       " array([1271, 1225, 2442, 2040, 2518]),\n",
       " array([3, 2, 1, 5, 0]),\n",
       " array([  4, 221, 145, 205, 108]),\n",
       " array([5, 3, 6, 0, 2]),\n",
       " array([529, 154,  16, 258, 178]),\n",
       " array([221, 116, 140, 230,  23]),\n",
       " array([ 384, 1194, 2584,  797,   14]),\n",
       " array([5830, 3707, 1777, 8140, 4327]),\n",
       " array([255, 136, 208, 183, 658]),\n",
       " array([441, 367,  31, 664,   9]),\n",
       " array([397,  34,  18, 593, 580]),\n",
       " array([ 261, 1699,  202,  984,   56]),\n",
       " array([5, 7, 4, 1, 2]),\n",
       " array([9496, 6190,   40, 9149, 9539]),\n",
       " array([3520,  467, 7311, 5273, 7433]),\n",
       " array([2584,  998, 2273, 1286, 2060]),\n",
       " array([4362, 2225, 4459, 4832, 3544]),\n",
       " array([ 880, 1548, 2630, 7644, 1199]),\n",
       " array([ 42,  71, 511, 464, 369]),\n",
       " array([180, 404, 270, 246, 253]),\n",
       " array([4729, 3696, 5963, 3352, 1102]),\n",
       " array([171,  38, 114, 130, 433]),\n",
       " array([ 508,  538,  437,  238, 1269]),\n",
       " array([614, 396, 354, 470, 287]),\n",
       " array([338, 696, 641, 106, 727]),\n",
       " array([907,  49, 422,  39, 261]),\n",
       " array([ 93, 146,  70,  36,  29]),\n",
       " array([401, 400, 337, 396, 208]),\n",
       " array([216,  50, 100,  85, 227]),\n",
       " array([171,  89, 106, 136, 160]),\n",
       " array([459, 194,  58, 108, 190]),\n",
       " array([2, 3, 1, 4, 0]),\n",
       " array([190, 369, 266, 218, 421]),\n",
       " array([0, 4, 3, 1, 2]),\n",
       " array([128, 129, 118,  98, 122]),\n",
       " array([3708, 5503, 1599, 8224,  287]),\n",
       " array([641, 264, 252, 640, 248]),\n",
       " array([2993, 3096, 3070,  228, 2699]),\n",
       " array([403, 233, 179,  25, 468]),\n",
       " array([150,  87,   3, 129,  73]),\n",
       " array([185, 142, 171,  22, 144]),\n",
       " array([164,  90,  97, 162,  68]),\n",
       " array([22,  0,  3, 19,  6]),\n",
       " array([ 50,  39,  13,  96, 109]),\n",
       " array([ 0, 29, 28, 27, 26]),\n",
       " array([ 109,  369, 1322,  921, 1205]),\n",
       " array([144, 730, 205, 494, 147]),\n",
       " array([552, 192, 705, 433, 281]),\n",
       " array([ 311,  168,  345, 1148,  967]),\n",
       " array([60,  8, 54, 68, 18]),\n",
       " array([93, 38, 97, 59, 95]),\n",
       " array([ 79, 103,  31,  71,  55]),\n",
       " array([4, 2, 6, 3, 0]),\n",
       " array([ 90, 444,  85, 197, 195]),\n",
       " array([162, 368,  88, 387, 454]),\n",
       " array([1439, 5092, 2478, 2330, 3755]),\n",
       " array([36, 15, 22, 10, 31]),\n",
       " array([5, 4, 0, 1, 2]),\n",
       " array([2, 1, 3, 0]),\n",
       " array([604,  77,  80, 589, 365]),\n",
       " array([16, 27,  6, 19,  2]),\n",
       " array([114,  93,  29,  12,  56]),\n",
       " array([ 91, 204, 103, 152,  13]),\n",
       " array([ 0, 27, 26, 25, 24]),\n",
       " array([61, 13, 64, 19, 43]),\n",
       " array([0, 7, 5, 1, 2]),\n",
       " array([ 87, 136,  99,  16,  85]),\n",
       " array([  51,  143,  933, 2226, 1168]),\n",
       " array([413, 187, 397,  34,  58]),\n",
       " array([242,  94,  43, 126, 237]),\n",
       " array([ 94,  48, 177, 159,   6]),\n",
       " array([812, 735, 869, 144, 467]),\n",
       " array([132, 134, 107, 128,  86]),\n",
       " array([ 998,  390, 1963, 3109, 2937]),\n",
       " array([ 427,  489,  739, 1295,  250]),\n",
       " array([ 34, 190, 912, 922, 195]),\n",
       " array([2304, 2330, 3200, 1840, 3029]),\n",
       " array([495, 639, 508, 558, 711]),\n",
       " array([ 63,  57,  26, 129, 167]),\n",
       " array([424, 668, 649, 125, 568]),\n",
       " array([ 59,  19,  84,  67, 141]),\n",
       " array([25, 15, 11,  4, 34]),\n",
       " array([ 11, 424,  71, 116,   9]),\n",
       " array([11, 18,  6, 16, 23]),\n",
       " array([18, 27, 58, 34, 39]),\n",
       " array([488, 653,  88, 269, 432]),\n",
       " array([ 40,  12, 402, 169, 415]),\n",
       " array([3449, 4202, 2422, 4705, 4081]),\n",
       " array([545,  71, 207, 215, 180]),\n",
       " array([ 55, 192, 702, 139, 376]),\n",
       " array([1364, 2723, 2962, 3064, 1141]),\n",
       " array([493, 192, 285,   2, 447]),\n",
       " array([603, 344, 609, 274, 790]),\n",
       " array([7, 8, 1, 4, 5]),\n",
       " array([66, 71, 28, 46, 35]),\n",
       " array([ 5,  6, 20, 29, 26]),\n",
       " array([ 8, 36, 34,  4, 16]),\n",
       " array([ 82,  39, 108, 204, 267]),\n",
       " array([238,  73, 673, 758, 796]),\n",
       " array([1690,  752, 2549, 2467,  550]),\n",
       " array([182, 218, 232,  22,  58]),\n",
       " array([260, 858, 693, 841,  90]),\n",
       " array([8540, 1327, 9820, 7630,  740]),\n",
       " array([4636, 4785,  547, 4592, 5454]),\n",
       " array([1423,  311,  339,  542, 1680]),\n",
       " array([1228,  193,  529,   53, 1741]),\n",
       " array([374, 325, 331, 270, 106]),\n",
       " array([0, 1, 3, 2, 4]),\n",
       " array([  0, 794, 420, 988, 815]),\n",
       " array([2, 4, 1, 5, 0]),\n",
       " array([117, 126, 160, 165, 131]),\n",
       " array([299, 433, 737, 114, 682]),\n",
       " array([0, 2, 1]),\n",
       " array([1425,  663, 1232, 1367,  378]),\n",
       " array([ 75, 149, 126, 134,  90]),\n",
       " array([  53,  784, 2151, 1005, 2457]),\n",
       " array([356, 602, 440,  22, 532]),\n",
       " array([119,   7,  95, 138,  63]),\n",
       " array([273,  36, 368,   1, 278]),\n",
       " array([9621, 4193, 8665, 9845, 3059]),\n",
       " array([359,   9, 273, 102, 513]),\n",
       " array([188, 174,  36, 101, 149]),\n",
       " array([2, 1, 0]),\n",
       " array([4837, 7735, 4786, 7212, 2875]),\n",
       " array([24, 26,  4,  8,  0]),\n",
       " array([1327,  821,  959,    6,  841]),\n",
       " array([119, 221, 282, 446, 371]),\n",
       " array([242, 208, 582, 688, 635]),\n",
       " array([3, 1, 0, 2]),\n",
       " array([7418, 4572, 6612, 6938, 1800]),\n",
       " array([820, 309, 642, 446, 479]),\n",
       " array([240, 686, 513, 714, 521]),\n",
       " array([378, 623, 346, 570, 149]),\n",
       " array([ 143, 1013,  547,  219,  342]),\n",
       " array([541,  66, 765, 513,  92]),\n",
       " array([1405, 2079,  193,  176, 1858]),\n",
       " array([ 927,  906, 3075, 2295, 1059]),\n",
       " array([81, 77, 91, 87, 84]),\n",
       " array([12, 16, 11,  8, 19]),\n",
       " array([53,  1, 30, 52, 50]),\n",
       " array([ 315, 1046,  655,  961, 1174]),\n",
       " array([185, 743, 307, 380, 785]),\n",
       " array([1526, 1479,   27,   61, 1242]),\n",
       " array([4127, 1918, 4065, 8217, 9631]),\n",
       " array([310, 173, 236,  64,  36]),\n",
       " array([456,  25, 764, 587, 512]),\n",
       " array([192, 169,  60, 618, 112]),\n",
       " array([260, 446, 234, 126, 280]),\n",
       " array([1165,  429,  489, 3719, 1543]),\n",
       " array([3363,  992, 2818, 8364, 5894]),\n",
       " array([237,  57, 597, 272, 515]),\n",
       " array([6461, 1621, 3995, 6988, 6755]),\n",
       " array([24, 16, 12, 23, 22]),\n",
       " array([2736, 3966, 1972,  657, 5204]),\n",
       " array([981, 471, 130, 390, 236]),\n",
       " array([752, 308, 542, 215, 122]),\n",
       " array([412,  83, 221, 376, 180]),\n",
       " array([ 91, 111,  99, 243, 251]),\n",
       " array([218,  60, 525, 492, 420]),\n",
       " array([393,  18, 446, 186, 179]),\n",
       " array([ 801, 1232, 1825, 1487,  940]),\n",
       " array([3910,  715, 7279, 1812, 6703]),\n",
       " array([214, 335,  97, 181, 252]),\n",
       " array([2120, 2992,  987, 1185, 2833]),\n",
       " array([ 7, 23, 20, 21,  5]),\n",
       " array([315, 364, 208, 505, 507]),\n",
       " array([13, 12,  4, 16, 14]),\n",
       " array([177, 164, 196,  89,  33]),\n",
       " array([11,  3,  6,  0, 13]),\n",
       " array([610,  55, 492, 824, 645]),\n",
       " array([1368,  814, 2257, 9694, 2305]),\n",
       " array([63, 58, 52, 56, 74]),\n",
       " array([3409, 8092, 8992, 7908, 5453]),\n",
       " array([2434, 3616, 3975,  939, 2941]),\n",
       " array([ 90, 191, 221, 156, 349]),\n",
       " array([9883, 1708, 3732, 2036, 4500]),\n",
       " array([1580, 4919, 3508, 1851, 3766]),\n",
       " array([243, 175, 340, 270, 229]),\n",
       " array([511,  83,   2, 379, 405]),\n",
       " array([ 275,  942, 1065,  562,  692]),\n",
       " array([507, 446, 397, 725, 530]),\n",
       " array([ 32, 265, 305, 727, 148]),\n",
       " array([835,  42, 387, 176, 676]),\n",
       " array([ 397,    4, 1224, 1518, 1257]),\n",
       " array([  7, 276, 183, 243, 197]),\n",
       " array([0, 2, 3, 5, 4]),\n",
       " array([ 58,  98,  23, 100,   5]),\n",
       " array([197, 527, 192, 525,  46]),\n",
       " array([1099,  331, 1641,  502,  826]),\n",
       " array([134, 114, 199, 205, 181]),\n",
       " array([1110, 1469, 2709, 1820, 1258]),\n",
       " array([ 54,  58, 164,  68, 197]),\n",
       " array([ 86,   7,  89, 128, 135]),\n",
       " array([38, 27, 14, 97, 25]),\n",
       " array([1117,  840,  305,  318, 1148]),\n",
       " array([5, 4, 1, 0, 2]),\n",
       " array([ 36,   8, 113,  16,   3]),\n",
       " array([2057,  856,  135, 1326, 2108]),\n",
       " array([ 275, 1336,  329, 1205,  714]),\n",
       " array([ 26,  19, 115, 157,  16]),\n",
       " array([170, 540, 332, 124, 217]),\n",
       " array([ 68,  22,  92, 148,  79]),\n",
       " array([1, 0, 3, 4, 2]),\n",
       " array([1075,  867,  967,  899,  550]),\n",
       " array([261, 412, 745, 906, 465]),\n",
       " array([44, 21, 20, 33, 28]),\n",
       " array([334, 738, 838, 776, 192]),\n",
       " array([165,  89, 340, 450, 227]),\n",
       " array([1030,  848,   61,  447,  720]),\n",
       " array([5, 7, 3, 0, 6]),\n",
       " array([  67, 1728,  622,  712,  557]),\n",
       " array([87, 67, 59, 52, 17]),\n",
       " array([4010, 1966,  286, 4443,  961]),\n",
       " array([735, 670, 664, 512, 932]),\n",
       " array([744, 526, 687, 293, 619]),\n",
       " array([19, 39, 14, 50, 77]),\n",
       " array([25, 18,  1, 17, 12]),\n",
       " array([ 2, 43, 98, 38, 41]),\n",
       " array([ 0, 20, 18,  6, 11]),\n",
       " array([ 215,  719, 2601,  789, 3018]),\n",
       " array([1228,  390,  420,  233,   11]),\n",
       " array([  0,  14,  84, 107, 106]),\n",
       " array([255, 161, 351, 178, 315]),\n",
       " array([1025, 1372,  246, 1072, 1378]),\n",
       " array([158, 867, 640, 487, 729]),\n",
       " array([994, 954, 309, 302, 927]),\n",
       " array([1079,  944, 1136,  663,  258]),\n",
       " array([ 7, 10,  8, 15,  4]),\n",
       " array([0, 1, 2]),\n",
       " array([462, 475, 328, 358, 108]),\n",
       " array([ 975, 1022,  661,  803,  840]),\n",
       " array([114, 119,  97, 142, 137]),\n",
       " array([3733, 8780, 8410, 2961, 5648]),\n",
       " array([2, 0, 1]),\n",
       " array([ 30,  95, 136,  27, 119]),\n",
       " array([ 344, 3194, 4390,  391, 3129]),\n",
       " array([281, 677, 177, 206, 577]),\n",
       " array([ 56,  69, 353, 199,  73]),\n",
       " array([ 505, 7828, 3028, 1830, 7911]),\n",
       " array([ 20, 186, 115, 138,   5]),\n",
       " array([ 841,  680,  819, 1107,  200]),\n",
       " array([3, 1, 0, 2]),\n",
       " array([203,  96, 191, 216, 248]),\n",
       " array([2701, 1775, 1253, 2719, 1374]),\n",
       " array([122,  17, 103, 127,  48]),\n",
       " array([ 0, 25, 24, 23, 22]),\n",
       " array([1077, 1832, 1491, 1124, 2868]),\n",
       " array([48, 55,  0, 60, 59]),\n",
       " array([1165,  767,  255, 1499, 1291]),\n",
       " array([1148,  817,  195,  978, 1171]),\n",
       " array([ 0, 22, 21, 20, 19]),\n",
       " array([1854,    7,  502,  265, 2174]),\n",
       " array([71, 25, 80, 30, 54]),\n",
       " array([3076, 3185, 1341, 6513, 7370]),\n",
       " array([271, 637, 620, 201,  40]),\n",
       " array([15, 39, 28, 40, 26]),\n",
       " array([ 9,  1, 11,  6, 32]),\n",
       " array([74, 84, 13, 20, 79]),\n",
       " array([1024,  975,  828,  461, 1012]),\n",
       " array([70, 56, 66,  5, 62]),\n",
       " array([2976, 5248, 1889, 6628, 6464]),\n",
       " array([ 903, 1015, 3939, 7320, 4945]),\n",
       " array([ 36, 110,  24,  50,   0]),\n",
       " array([7780, 5668, 4999, 2361, 7698]),\n",
       " array([21, 34, 30, 12, 66]),\n",
       " array([784, 749, 801, 813, 823]),\n",
       " array([1077, 1093, 1902,  930, 1444]),\n",
       " array([ 70,  83, 116,  30, 108]),\n",
       " array([  93,  890,  834,  700, 1123]),\n",
       " array([585, 242, 829, 846, 424]),\n",
       " array([ 9, 40, 54, 12, 14]),\n",
       " array([ 311, 1351, 1525, 1252, 1062]),\n",
       " array([1374,  183,  815,  434,  692]),\n",
       " array([ 83,  18, 136,  61,  32]),\n",
       " array([ 324, 7258, 6978, 2573, 5071]),\n",
       " array([1161,  597, 2003, 1755,  278]),\n",
       " array([7211, 8321,  591, 2094,  781]),\n",
       " array([23,  0, 46, 45, 41]),\n",
       " array([ 393,   55, 1308, 1048,  322]),\n",
       " array([ 124,  802, 1301,  711,  385]),\n",
       " array([1791,  681,  651, 1157,  465]),\n",
       " array([ 824, 1391,   48, 1430, 1153]),\n",
       " array([  9, 652, 604, 912, 307]),\n",
       " array([ 657, 2192, 1157, 2201,  680]),\n",
       " array([390, 619, 364, 568,  84]),\n",
       " array([ 20, 157, 116,  50,  17]),\n",
       " array([1350,   84, 1399, 1655, 1301]),\n",
       " array([593, 192, 354, 808, 687]),\n",
       " array([739, 695, 338, 296, 178]),\n",
       " array([12, 44, 20, 17, 27]),\n",
       " array([21, 96, 63, 54, 23]),\n",
       " array([ 868, 1170, 1552,  455,  587]),\n",
       " array([ 9, 52, 22,  1, 39]),\n",
       " array([83, 10, 70, 27, 66]),\n",
       " array([158, 110, 231,  92, 196]),\n",
       " array([0, 5, 2, 1, 4]),\n",
       " array([ 50, 108, 169, 253, 293]),\n",
       " array([ 233, 2427, 4047, 2567, 1549]),\n",
       " array([ 19,   1,  33,   7, 128]),\n",
       " array([ 48,  51, 170, 279,   5]),\n",
       " array([3186, 3552, 2520, 3825,  619]),\n",
       " array([191, 413, 280, 188, 133])]"
      ]
     },
     "execution_count": 8,
     "metadata": {},
     "output_type": "execute_result"
    }
   ],
   "source": [
    "# 📊 Predict on Test Dataset (tile:xla)\n",
    "# In this section, we use the trained model to make predictions on the test dataset ('tile:xla').\n",
    "\n",
    "# Create a TileDataset for the 'tile:xla' test dataset\n",
    "dataset = TileDataset(tile_xla[\"test\"])\n",
    "\n",
    "# List to store model predictions for each sample in the test dataset\n",
    "tile_xla_predictions = [[] for i in range(len(dataset))]\n",
    "\n",
    "# Iterate through each fold (previously trained models)\n",
    "for fold in range(5):\n",
    "    # Load the trained model weights for the current fold\n",
    "    model.load_state_dict(torch.load(f'/kaggle/working/best_model_{fold}.pth'))\n",
    "    model.eval()  # 🕵️ Set the model to evaluation mode\n",
    "    pbar = tqdm(range(len(dataset)))  # Progress bar for test data prediction\n",
    "    \n",
    "    for i in pbar:\n",
    "        cfg_ft, nd_ft, nd_op, ind, target = dataset[i]\n",
    "        cfg_ft, nd_ft, nd_op, ind, target = cfg_ft.to(device), nd_ft.to(device), nd_op.to(device), ind.to(device), target.to(device)\n",
    "\n",
    "        out = model(cfg_ft, nd_ft, nd_op, ind)\n",
    "        tile_xla_predictions[i].append(out.cpu().detach().numpy())\n",
    "\n",
    "# Aggregate predictions by taking the mean and selecting the top 5\n",
    "tile_xla_predictions = [np.argsort(np.mean(pred, axis=0))[:5] for pred in tile_xla_predictions]\n",
    "\n",
    "# The 'tile_xla_predictions' now contains the top 5 predicted results for each sample in the 'tile:xla' test dataset.\n",
    "tile_xla_predictions\n"
   ]
  },
  {
   "cell_type": "code",
   "execution_count": 9,
   "id": "efa90332",
   "metadata": {
    "execution": {
     "iopub.execute_input": "2023-09-10T11:28:17.363576Z",
     "iopub.status.busy": "2023-09-10T11:28:17.363152Z",
     "iopub.status.idle": "2023-09-10T11:28:17.944110Z",
     "shell.execute_reply": "2023-09-10T11:28:17.943173Z"
    },
    "papermill": {
     "duration": 204.09545,
     "end_time": "2023-09-10T11:28:17.946279",
     "exception": false,
     "start_time": "2023-09-10T11:24:53.850829",
     "status": "completed"
    },
    "tags": []
   },
   "outputs": [
    {
     "data": {
      "text/html": [
       "<div>\n",
       "<style scoped>\n",
       "    .dataframe tbody tr th:only-of-type {\n",
       "        vertical-align: middle;\n",
       "    }\n",
       "\n",
       "    .dataframe tbody tr th {\n",
       "        vertical-align: top;\n",
       "    }\n",
       "\n",
       "    .dataframe thead th {\n",
       "        text-align: right;\n",
       "    }\n",
       "</style>\n",
       "<table border=\"1\" class=\"dataframe\">\n",
       "  <thead>\n",
       "    <tr style=\"text-align: right;\">\n",
       "      <th></th>\n",
       "      <th>ID</th>\n",
       "      <th>TopConfigs</th>\n",
       "    </tr>\n",
       "  </thead>\n",
       "  <tbody>\n",
       "    <tr>\n",
       "      <th>0</th>\n",
       "      <td>tile:xla:d6f5f54247bd1e58a10b9e7062c636ab</td>\n",
       "      <td>0;22;21;20;19</td>\n",
       "    </tr>\n",
       "    <tr>\n",
       "      <th>1</th>\n",
       "      <td>tile:xla:e3a655daa38e34ec240df959b650ac16</td>\n",
       "      <td>124;802;1301;711;385</td>\n",
       "    </tr>\n",
       "    <tr>\n",
       "      <th>2</th>\n",
       "      <td>tile:xla:f8c2c1a1098b2a361c26df668b286c87</td>\n",
       "      <td>27;129;12;202;2</td>\n",
       "    </tr>\n",
       "    <tr>\n",
       "      <th>3</th>\n",
       "      <td>tile:xla:4dd1716853ed46ee4e7d09ede1732de8</td>\n",
       "      <td>903;1015;3939;7320;4945</td>\n",
       "    </tr>\n",
       "    <tr>\n",
       "      <th>4</th>\n",
       "      <td>tile:xla:d0a69155b6340748c36724e4bfc34be3</td>\n",
       "      <td>641;264;252;640;248</td>\n",
       "    </tr>\n",
       "    <tr>\n",
       "      <th>...</th>\n",
       "      <td>...</td>\n",
       "      <td>...</td>\n",
       "    </tr>\n",
       "    <tr>\n",
       "      <th>889</th>\n",
       "      <td>layout:nlp:random:60880ed76de53f4d7a1b960b24f2...</td>\n",
       "      <td>0;1;2;3;4;5;6;7;8;9;10;11;12;13;14;15;16;17;18...</td>\n",
       "    </tr>\n",
       "    <tr>\n",
       "      <th>890</th>\n",
       "      <td>layout:nlp:random:23559853d9702baaaacbb0c83fd3...</td>\n",
       "      <td>0;1;2;3;4;5;6;7;8;9;10;11;12;13;14;15;16;17;18...</td>\n",
       "    </tr>\n",
       "    <tr>\n",
       "      <th>891</th>\n",
       "      <td>layout:nlp:random:f6c146fc5cf10be4f3accbaca989...</td>\n",
       "      <td>0;1;2;3;4;5;6;7;8;9;10;11;12;13;14;15;16;17;18...</td>\n",
       "    </tr>\n",
       "    <tr>\n",
       "      <th>892</th>\n",
       "      <td>layout:nlp:random:32531d07a084b319dce484f53a4c...</td>\n",
       "      <td>0;1;2;3;4;5;6;7;8;9;10;11;12;13;14;15;16;17;18...</td>\n",
       "    </tr>\n",
       "    <tr>\n",
       "      <th>893</th>\n",
       "      <td>layout:nlp:random:3a0c5517a87df8d82fd637b83298...</td>\n",
       "      <td>0;1;2;3;4;5;6;7;8;9;10;11;12;13;14;15;16;17;18...</td>\n",
       "    </tr>\n",
       "  </tbody>\n",
       "</table>\n",
       "<p>894 rows × 2 columns</p>\n",
       "</div>"
      ],
      "text/plain": [
       "                                                    ID  \\\n",
       "0            tile:xla:d6f5f54247bd1e58a10b9e7062c636ab   \n",
       "1            tile:xla:e3a655daa38e34ec240df959b650ac16   \n",
       "2            tile:xla:f8c2c1a1098b2a361c26df668b286c87   \n",
       "3            tile:xla:4dd1716853ed46ee4e7d09ede1732de8   \n",
       "4            tile:xla:d0a69155b6340748c36724e4bfc34be3   \n",
       "..                                                 ...   \n",
       "889  layout:nlp:random:60880ed76de53f4d7a1b960b24f2...   \n",
       "890  layout:nlp:random:23559853d9702baaaacbb0c83fd3...   \n",
       "891  layout:nlp:random:f6c146fc5cf10be4f3accbaca989...   \n",
       "892  layout:nlp:random:32531d07a084b319dce484f53a4c...   \n",
       "893  layout:nlp:random:3a0c5517a87df8d82fd637b83298...   \n",
       "\n",
       "                                            TopConfigs  \n",
       "0                                        0;22;21;20;19  \n",
       "1                                 124;802;1301;711;385  \n",
       "2                                      27;129;12;202;2  \n",
       "3                              903;1015;3939;7320;4945  \n",
       "4                                  641;264;252;640;248  \n",
       "..                                                 ...  \n",
       "889  0;1;2;3;4;5;6;7;8;9;10;11;12;13;14;15;16;17;18...  \n",
       "890  0;1;2;3;4;5;6;7;8;9;10;11;12;13;14;15;16;17;18...  \n",
       "891  0;1;2;3;4;5;6;7;8;9;10;11;12;13;14;15;16;17;18...  \n",
       "892  0;1;2;3;4;5;6;7;8;9;10;11;12;13;14;15;16;17;18...  \n",
       "893  0;1;2;3;4;5;6;7;8;9;10;11;12;13;14;15;16;17;18...  \n",
       "\n",
       "[894 rows x 2 columns]"
      ]
     },
     "execution_count": 9,
     "metadata": {},
     "output_type": "execute_result"
    }
   ],
   "source": [
    "# 📊 Generate and Save Submission File\n",
    "# In this section, we generate a submission file based on the model predictions and save it.\n",
    "\n",
    "# Read the sample submission file\n",
    "sub = pd.read_csv('/kaggle/input/predict-ai-model-runtime/sample_submission.csv')\n",
    "\n",
    "# Iterate through the test file names and update the submission file with top predictions\n",
    "for i, filename in enumerate(tile_xla[\"test\"]['file'].values):\n",
    "    id = 'tile:xla:' + filename[:-4]  # Construct the ID for the submission\n",
    "    sub.loc[sub.ID == id, 'TopConfigs'] = ';'.join(tile_xla_predictions[i].astype(str))\n",
    "\n",
    "# Save the updated submission file as 'submission.csv' without the index\n",
    "sub = sub[sub.ID.str.contains('tile')].reset_index(drop=True)\n",
    "sub.to_csv('inference_tile_xla.csv', index=False)\n",
    "\n",
    "# Display the updated submission file\n",
    "sub\n"
   ]
  }
 ],
 "metadata": {
  "kernelspec": {
   "display_name": "Python 3 (ipykernel)",
   "language": "python",
   "name": "python3"
  },
  "language_info": {
   "codemirror_mode": {
    "name": "ipython",
    "version": 3
   },
   "file_extension": ".py",
   "mimetype": "text/x-python",
   "name": "python",
   "nbconvert_exporter": "python",
   "pygments_lexer": "ipython3",
   "version": "3.9.13"
  },
  "papermill": {
   "default_parameters": {},
   "duration": 28805.538604,
   "end_time": "2023-09-10T11:31:46.511923",
   "environment_variables": {},
   "exception": null,
   "input_path": "__notebook__.ipynb",
   "output_path": "__notebook__.ipynb",
   "parameters": {},
   "start_time": "2023-09-10T03:31:40.973319",
   "version": "2.4.0"
  }
 },
 "nbformat": 4,
 "nbformat_minor": 5
}
